{
 "cells": [
  {
   "cell_type": "code",
   "execution_count": 45,
   "metadata": {},
   "outputs": [],
   "source": [
    "from bs4 import BeautifulSoup\n",
    "import os\n",
    "import json"
   ]
  },
  {
   "cell_type": "code",
   "execution_count": 53,
   "metadata": {},
   "outputs": [],
   "source": [
    "for page in os.listdir('./src/pages/sol'):\n",
    "    with open(os.path.join('./src/pages/sol', page)) as test_file:\n",
    "        data = test_file.read()\n",
    "\n",
    "    soup = BeautifulSoup(data, \"html.parser\")\n",
    "\n",
    "    sections = soup.find_all(['section', 'subsection', 'subsubsection', 'subsubsubsection'])\n",
    "\n",
    "    sections_list = []\n",
    "\n",
    "    for section in sections:\n",
    "        section['id'] = section.attrs['title'].replace(' ', '_').replace(':', '').lower()\n",
    "\n",
    "        sections_list.append([section.name, section['title'], section['id']])\n",
    "\n",
    "    json_path = os.path.join('./public/sol/trees', page.replace('.astro', '.json'))\n",
    "    json.dump(sections_list, open(json_path, 'w'), indent=2)"
   ]
  },
  {
   "cell_type": "code",
   "execution_count": 43,
   "metadata": {},
   "outputs": [],
   "source": [
    "cleaned = [file.replace('.astro', '')  for file in os.listdir('./src/components') if '.astro' in file]\n",
    "cleaned.reverse()\n",
    "replacements = {clean.lower(): clean for clean in cleaned}\n",
    "\n",
    "\n",
    "\n",
    "with open('./src/pages/sol/axial_loading_t.astro', 'w') as dump_file:\n",
    "    string = str(soup)\n",
    "    \n",
    "    for wrong, correct in replacements.items():\n",
    "        string = string.replace(wrong, correct)\n",
    "    string = string.replace('<layout', '<Layout').replace('</layout', '</Layout').replace('></InlineEquation>' , ' />')\n",
    "    dump_file.write(string)"
   ]
  },
  {
   "cell_type": "code",
   "execution_count": 32,
   "metadata": {},
   "outputs": [
    {
     "data": {
      "text/plain": [
       "{'bluetext': 'BlueText',\n",
       " 'calloutcard': 'CalloutCard',\n",
       " 'calloutcontainer': 'CalloutContainer',\n",
       " 'center': 'Center',\n",
       " 'col': 'Col',\n",
       " 'displayequation': 'DisplayEquation',\n",
       " 'displayequationcustom': 'DisplayEquationCustom',\n",
       " 'enumerate': 'Enumerate',\n",
       " 'example': 'Example',\n",
       " 'inlineequation': 'InlineEquation',\n",
       " 'item': 'Item',\n",
       " 'itemize': 'Itemize',\n",
       " 'latex': 'Latex',\n",
       " 'navbar': 'Navbar',\n",
       " 'prairiedrawcanvas': 'PrairieDrawCanvas',\n",
       " 'redtext': 'RedText',\n",
       " 'row': 'Row',\n",
       " 'searchbar': 'Searchbar',\n",
       " 'section': 'Section',\n",
       " 'subsection': 'SubSection',\n",
       " 'subsubsection': 'SubSubSection',\n",
       " 'subsubsubsection': 'SubSubSubSection',\n",
       " 'warning': 'Warning',\n",
       " 'image': 'Image'}"
      ]
     },
     "execution_count": 32,
     "metadata": {},
     "output_type": "execute_result"
    }
   ],
   "source": []
  },
  {
   "cell_type": "code",
   "execution_count": null,
   "metadata": {},
   "outputs": [],
   "source": []
  }
 ],
 "metadata": {
  "kernelspec": {
   "display_name": "Python 3",
   "language": "python",
   "name": "python3"
  },
  "language_info": {
   "codemirror_mode": {
    "name": "ipython",
    "version": 3
   },
   "file_extension": ".py",
   "mimetype": "text/x-python",
   "name": "python",
   "nbconvert_exporter": "python",
   "pygments_lexer": "ipython3",
   "version": "3.12.3"
  }
 },
 "nbformat": 4,
 "nbformat_minor": 2
}
