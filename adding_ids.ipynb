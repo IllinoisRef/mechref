{
 "cells": [
  {
   "cell_type": "code",
   "execution_count": 1,
   "metadata": {},
   "outputs": [],
   "source": [
    "from bs4 import BeautifulSoup\n",
    "import os\n",
    "import json"
   ]
  },
  {
   "cell_type": "code",
   "execution_count": 4,
   "metadata": {},
   "outputs": [],
   "source": [
    "for page in os.listdir('./src/pages/sol'):\n",
    "    with open(os.path.join('./src/pages/sol', page)) as test_file:\n",
    "        data = test_file.read()\n",
    "\n",
    "    soup = BeautifulSoup(data, \"html.parser\")\n",
    "\n",
    "    sections = soup.find_all(['section', 'subsection', 'subsubsection', 'subsubsubsection'])\n",
    "\n",
    "    sections_list = []\n",
    "\n",
    "    for section in sections:\n",
    "        section['id'] = section.attrs['title'].replace(' ', '_').replace(':', '').lower()\n",
    "\n",
    "        sections_list.append([section.name, section['title'], section['id']])\n",
    "\n",
    "    json_path = os.path.join('./public/sol/trees', page.replace('.astro', '.json'))\n",
    "    json.dump(sections_list, open(json_path, 'w'), indent=2)"
   ]
  },
  {
   "cell_type": "code",
   "execution_count": 54,
   "metadata": {},
   "outputs": [
    {
     "name": "stdout",
     "output_type": "stream",
     "text": [
      "['subsection', 'Units', 'units']\n",
      "['subsection', 'Stress under general loading conditions', 'stress_under_general_loading_conditions']\n",
      "['subsection', 'Support Reactions', 'support_reactions']\n",
      "['subsection', 'Allowable Strength Design', 'allowable_strength_design']\n",
      "['subsubsection', 'Stress Tensor', 'stress_tensor']\n",
      "['subsection', 'Support Reactions', 'support_reactions']\n",
      "['subsection', 'Allowable Strength Design', 'allowable_strength_design']\n"
     ]
    },
    {
     "data": {
      "text/plain": [
       "[['section', 'Stress', 'stress'],\n",
       " ['subsection', 'Units', 'units'],\n",
       " ['subsection',\n",
       "  'Stress under general loading conditions',\n",
       "  'stress_under_general_loading_conditions'],\n",
       " ['subsubsection',\n",
       "  'Average Normal Stress - Axial Loading',\n",
       "  'average_normal_stress_-_axial_loading'],\n",
       " ['subsubsection', 'Average Shear Stress', 'average_shear_stress'],\n",
       " ['subsubsection', 'Stress Tensor', 'stress_tensor'],\n",
       " ['subsection', 'Support Reactions', 'support_reactions'],\n",
       " ['subsection', 'Allowable Strength Design', 'allowable_strength_design']]"
      ]
     },
     "execution_count": 54,
     "metadata": {},
     "output_type": "execute_result"
    }
   ],
   "source": [
    "types = ['section', 'subsection', 'subsubsection', 'subsubsubsection']\n",
    "\n",
    "types.reverse()\n",
    "\n",
    "res = {t: [] for t in types}\n",
    "\n",
    "found = False\n",
    "skips = 0\n",
    "\n",
    "for t in types:\n",
    "    for i, vali in enumerate(sections_list):\n",
    "\n",
    "        if vali[0] == t:\n",
    "            for j, valj in enumerate(sections_list[i:]):\n",
    "                valid = True\n",
    "                #print(j+i, len(sections_list))\n",
    "                if valj[0] != t or j + i == len(sections_list) - 1:\n",
    "                    final_index = j+i+1 if j + i == len(sections_list) - 1 else j+i\n",
    "                    for r in res[t]:\n",
    "                        if i in r:\n",
    "                            valid = False\n",
    "                            break\n",
    "                    if valid:\n",
    "                        res[t].append([n for n in range(i, final_index)])\n",
    "                    #print(t, i, j)\n",
    "                    break\n",
    "\n",
    "types.reverse()\n",
    "\n",
    "children = {\n",
    "    'section': 'subsection',\n",
    "    'subsection': 'subsubsection',\n",
    "    'subsubsection': 'subsubsubsection',\n",
    "}\n",
    "\n",
    "html = ''\n",
    "\n",
    "\n",
    "\n",
    "for i, (t, name, id) in enumerate(sections_list):\n",
    "    if i == len(sections_list) - 1:\n",
    "        break\n",
    "\n",
    "    if sections_list[i+1][0] == children[t]:\n",
    "        for j, valj in enumerate(sections_list[i+1:]):\n",
    "            if sections_list[j+1][0] == children[t]:\n",
    "                print(valj)\n",
    "\n",
    "sections_list"
   ]
  },
  {
   "cell_type": "code",
   "execution_count": 66,
   "metadata": {},
   "outputs": [],
   "source": [
    "cleaned = [file.replace('.astro', '')  for file in os.listdir('./src/components') if '.astro' in file]\n",
    "cleaned.reverse()\n",
    "replacements = {clean.lower(): clean for clean in cleaned}\n",
    "\n",
    "with open(os.path.join('./src/pages/sol', 'axial_loading.astro')) as test_file:\n",
    "    data = test_file.read()\n",
    "\n",
    "    soup = BeautifulSoup(data, \"html.parser\")\n",
    "    sections = soup.find_all(['section', 'subsection', 'subsubsection', 'subsubsubsection'])\n",
    "    for section in sections:\n",
    "        section['id'] = section.attrs['title'].replace(' ', '_').replace(':', '').replace(\"'\", '').lower()\n",
    "\n",
    "with open('./src/pages/sol/axial_loading_t.astro', 'w') as dump_file:\n",
    "    string = str(soup)\n",
    "    \n",
    "    for wrong, correct in replacements.items():\n",
    "        string = string.replace(wrong, correct)\n",
    "    string = string.replace('<layout', '<Layout').replace('</layout', '</Layout').replace('></InlineEquation>' , ' />')\n",
    "    dump_file.write(string)"
   ]
  },
  {
   "cell_type": "code",
   "execution_count": 64,
   "metadata": {},
   "outputs": [
    {
     "data": {
      "text/plain": [
       "'---\\nimport Layout from \"../../layouts/Layout.astro\" \\nimport Image from \"../../components/Image.astro\" \\nimport Section from \"../../components/Section.astro\" \\nimport SubSection from \"../../components/SubSection.astro\" \\nimport SubSubSection from \"../../components/SubSubSection.astro\" \\nimport BlueText from \"../../components/BlueText.astro\" \\nimport RedText from \"../../components/RedText.astro\" \\nimport InlineEquation from \"../../components/InlineEquation.astro\" \\nimport DisplayEquation from \"../../components/DisplayEquation.astro\" \\n---\\n<Layout title=\"Axial Loading\">\\n<Section id=\"axial_loading\" title=\"Axial Loading\"></Section>\\n<SubSection id=\"notation_and_convention\" title=\"Notation and Convention\">\\n<Image src=\"/Solid_Mechanics/Axial Loading-Figures/Notation.png\" width=\"5\"/>Notation\\n\\n<ul>\\n<li> <strong>Displacement of points in space:</strong>  the movement of a point relative to its initial position in space (ex;  <InlineEquation equation=\"\\\\\\\\delta_B\" /> )</li>\\n<li><strong>Change in length of a segment:</strong>  the relative displacement of a point with respect to another point (ex;  <InlineEquation equation=\"\\\\\\\\delta_{B/A} = \\\\\\\\delta_B - \\\\\\\\delta_A = \\\\\\\\delta_1\" /> ). This can be written multiple ways:\\n     <DisplayEquation equation=\"\\\\\\\\delta_{AD} \\\\\\\\equiv \\\\\\\\delta_{DA} \\\\\\\\equiv \\\\\\\\delta_{A/D} \\\\\\\\equiv \\\\\\\\delta_{D/A}\\\\\\\\\"></DisplayEquation></li>\\n</ul>\\n<strong>Sign Conventions for internal forces in a bar.</strong>\\n<ul>\\n<li><InlineEquation equation=\"F&gt;0\" /> : tension</li>\\n<li><InlineEquation equation=\"F&lt;0\" /> : compression</li>\\n<li><InlineEquation equation=\"\\\\\\\\delta&gt;0\" /> : elongation</li>\\n<li><InlineEquation equation=\"\\\\\\\\delta&lt;0\" /> : contraction</li>\\n</ul>\\n</SubSection>\\n<SubSection id=\"saint-venant\\'s_principle_slender_beam_case\" title=\"Saint-Venant\\'s Principle: slender beam case\">\\n<Image src=\"/Solid_Mechanics/Axial Loading-Figures/Saint-Venants.png\" width=\"5\"/>Notation\\n\\n<p>Stress analysis very near to the point of application of load <InlineEquation equation=\"P\" />. <strong>Saint-Venant\\'s principle:</strong> the stress and strain produced at points in a body <em>sufficiently removed</em>* from the region of external load application will be the same as the stress and strain produced by any other applied external loading that has the same statically equivalent resultant and is applied to the body within the same region.</p> \\n\\n *farther than the widest dimension of the cross Section\\n\\n</SubSection>\\n<SubSection id=\"force-deformation_relation\" title=\"Force-Deformation Relation\">\\n<DisplayEquation equation=\"\\\\\\\\delta = \\\\\\\\frac{PL}{EA}\\\\\\\\\"></DisplayEquation>\\n\\n Axial Flexibility: <DisplayEquation equation=\"\\\\\\\\delta = fP   =&gt;   f = \\\\\\\\frac{L}{EA}\\\\\\\\\"></DisplayEquation>\\n\\n Axial Stiffness: <DisplayEquation equation=\"P = k\\\\\\\\delta   =&gt;   k = \\\\\\\\frac{EA}{L}\\\\\\\\\"></DisplayEquation>\\n<strong>*Expandable Derivation*</strong>\\n<DisplayEquation equation=\"P = \\\\\\\\sigma A\\\\\\\\\"></DisplayEquation>\\n<DisplayEquation equation=\"\\\\\\\\sigma = E\\\\\\\\varepsilon\\\\\\\\\"></DisplayEquation>\\n<DisplayEquation equation=\"\\\\\\\\varepsilon = \\\\\\\\delta / L\\\\\\\\\"></DisplayEquation>\\n<DisplayEquation equation=\"=&gt;   P = E\\\\\\\\frac{\\\\\\\\delta}{L}A\\\\\\\\\"></DisplayEquation>\\n<strong>**End Derivation**</strong>\\n</SubSection>\\n<SubSection id=\"axially_varying_properties\" title=\"Axially Varying Properties\"> \\nFor non-uniform load, material property and cross-Section area:\\n\\n <DisplayEquation equation=\"\\\\\\\\delta = \\\\\\\\int_0^L\\\\\\\\frac{F(x)}{E(x)A(x)}dx\\\\\\\\\"></DisplayEquation>\\n\\n Assume variations with <InlineEquation equation=\"x\" /> are \"mild\" (on length scale longer than cross-Sectional length scales)\\n\\n<strong>*Expandable Derivation*</strong>\\n<DisplayEquation equation=\"\\\\\\\\sigma = E\\\\\\\\varepsilon\\\\\\\\\"></DisplayEquation>\\n<DisplayEquation equation=\"\\\\\\\\frac{F(x)}{A(x)} = E(x)\\\\\\\\varepsilon(x)\\\\\\\\\"></DisplayEquation>\\n<DisplayEquation equation=\"\\\\\\\\frac{F(x)}{A(x)} = E(x)\\\\\\\\frac{d\\\\\\\\delta(x)}{dx}\\\\\\\\\"></DisplayEquation>\\n<DisplayEquation equation=\"d\\\\\\\\delta = \\\\\\\\frac{F(x)}{E(x)A(x)}dx\\\\\\\\\"></DisplayEquation>\\n<strong>**End Derivation**</strong>\\n</SubSection>\\n<SubSection id=\"principle_of_superposition_\" title=\"Principle of Superposition \">\\n\\nSuperposition: If the displacements are (1) small and (2) linearly related to the force components acting, the displacements caused by the components can be added up:\\n\\n<DisplayEquation equation=\"\\\\\\\\delta = \\\\\\\\sum_i \\\\\\\\delta_i = \\\\\\\\sum_i \\\\\\\\frac{F_i L_i}{E_i A_i}\\\\\\\\\"></DisplayEquation>\\n</SubSection>\\n<SubSection id=\"general_solving_procedure\" title=\"General Solving Procedure\">\\n<ol>\\n<li>Draw a FBD\\n    </li>\\n<li>Equilibrium equations: force balance and moment balance\\n    </li>\\n<li>Constitutive equations: stress-strain or force-displacement relations\\n    </li>\\n<li>Compatibility equations: geometric constraints\\n</li>\\n</ol>\\n</SubSection>\\n<SubSection id=\"statically_determinate_problems\" title=\"Statically Determinate Problems\">\\n<Image src=\"/Solid_Mechanics/Axial Loading-Figures/StaticallyDeterminate.png\" width=\"4\"/> \\n    Statically determinate\\n\\n\\nAll internal forces can be obtained from equilibrium analysis only\\n\\n</SubSection>\\n<SubSection id=\"statically_indeterminate_problems\" title=\"Statically Indeterminate Problems\">\\n<Image src=\"/Solid_Mechanics/Axial Loading-Figures/StaticallyIndeterminate.png\" width=\"3\"/>\\n    Statically indeterminate\\n\\n\\n Equilibrium does not determine all internal forces.\\n\\n</SubSection>\\n<SubSubSection id=\"thermal_effects_temperature_changes\" title=\"Thermal Effects: Temperature Changes\">\\n<strong>Notation</strong>\\n<ul>\\n<li> <InlineEquation equation=\"\\\\\\\\Delta T &gt; 0, \\\\\\\\sigma &lt; 0\" /> : Compression</li>\\n<li> <InlineEquation equation=\"\\\\\\\\Delta T &lt; 0, \\\\\\\\sigma &gt; 0\" /> : Tension</li>\\n</ul>\\n<p>\\n<InlineEquation equation=\"\\\\\\\\delta_T\" /> ,  <InlineEquation equation=\"\\\\\\\\varepsilon_T\" />  present in addition to elastic  <InlineEquation equation=\"\\\\\\\\delta_E\" /> ,  <InlineEquation equation=\"\\\\\\\\varepsilon_E\" />  (from internal forces). Superposition (small strains):\\n <DisplayEquation equation=\"\\\\\\\\varepsilon_{tot} = \\\\\\\\varepsilon_{E} + \\\\\\\\varepsilon_{T}\\\\\\\\\"></DisplayEquation>\\n<DisplayEquation equation=\"\\\\\\\\delta_{tot} = \\\\\\\\delta_{E} + \\\\\\\\delta_{T}\\\\\\\\\"></DisplayEquation>\\n</p>\\n<Image src=\"/Solid_Mechanics/Axial Loading-Figures/Temperature_NoLoad.png\" width=\"4\"/>Temperature changes with no applied loads\\n\\n A rod rests freely on a smooth horizontal surface. Temperature of the rod is raised by <InlineEquation equation=\"\\\\\\\\Delta T\" />. Rod elongates by an amount.\\n\\n<DisplayEquation equation=\"\\\\\\\\delta_{T} = \\\\\\\\alpha \\\\\\\\Delta T L\\\\\\\\\"></DisplayEquation>\\n\\n Linear coefficient of thermal expansion <InlineEquation equation=\"\\\\\\\\alpha\" />,  <InlineEquation equation=\"[\\\\\\\\alpha] = \\\\\\\\frac{1}{K},\\\\\\\\frac{1}{°C},...\" />. This deformation is associated with an average thermal strain:\\n\\n<DisplayEquation equation=\"\\\\\\\\varepsilon_{T} = \\\\\\\\frac{\\\\\\\\delta_T}{L} = \\\\\\\\alpha T\\\\\\\\\"></DisplayEquation>\\n<Image src=\"/Solid_Mechanics/Axial Loading-Figures/Temperature_TwoPlates.png\" width=\"1.5\"/>  \\n    Temperature changes with statically indeterminate beam\\n\\n\\n Initially, rod of length <InlineEquation equation=\"L\" /> is placed between two supports at a distance <InlineEquation equation=\"L\" /> from each other. With no internal forces, there is no stress or strain.\\n\\n<DisplayEquation equation=\"R_{A} = R_{B} = 0\\\\\\\\\"></DisplayEquation>\\n<DisplayEquation equation=\"R_{A} = F\\\\\\\\\"></DisplayEquation>\\n                  \\n After raising the temperature, the total elongation of the rod is still zero. The total elongation is given by:\\n\\n<DisplayEquation equation=\"\\\\\\\\delta = \\\\\\\\frac{FL}{EA} + \\\\\\\\alpha L \\\\\\\\Delta T = 0\\\\\\\\\"></DisplayEquation>\\n\\n The stress in the rod due to change in temperature is given by:\\n<DisplayEquation equation=\"\\\\\\\\sigma = -\\\\\\\\alpha E \\\\\\\\Delta T\\\\\\\\\"></DisplayEquation>\\n</SubSubSection>\\n<SubSubSection id=\"misfit_problems\" title=\"Misfit Problems\">\\nA misfit problem is one in which there is difference between a design distance and the manufactured length of a material. Some misfits are created intentionally to pre-strain a member. (e.g. spokes in a bicycle wheel or strings in a tennis racket). This type of problem neither modifies the equilibrium equations (1) nor the force-extension relations, (2) but the compatibility equations, (3) need to be modified.\\n\\n</SubSubSection>\\n<SubSection id=\"stress_concentration\" title=\"Stress Concentration\">\\n<BlueText>BSM: we do not cover this topic in class/hw/exams. It is covered in ME 330 and ME 371.</BlueText>\\n\\n Highest at lowest cross-Sectional area.\\n\\nStress concentration factor: <DisplayEquation equation=\"K = \\\\\\\\frac{\\\\\\\\sigma_{max}}{\\\\\\\\sigma_{avg}}\\\\\\\\\"></DisplayEquation>\\n<ul>\\n<li>Found experimentally\\n    </li>\\n<li>Solely based on geometry\\n</li>\\n</ul>\\n<strong><RedText>**Reference pages have a broken link Image here**</RedText></strong>\\n</SubSection>\\n</Layout>'"
      ]
     },
     "execution_count": 64,
     "metadata": {},
     "output_type": "execute_result"
    }
   ],
   "source": [
    "string"
   ]
  },
  {
   "cell_type": "code",
   "execution_count": null,
   "metadata": {},
   "outputs": [],
   "source": []
  }
 ],
 "metadata": {
  "kernelspec": {
   "display_name": "Python 3",
   "language": "python",
   "name": "python3"
  },
  "language_info": {
   "codemirror_mode": {
    "name": "ipython",
    "version": 3
   },
   "file_extension": ".py",
   "mimetype": "text/x-python",
   "name": "python",
   "nbconvert_exporter": "python",
   "pygments_lexer": "ipython3",
   "version": "3.12.3"
  }
 },
 "nbformat": 4,
 "nbformat_minor": 2
}
