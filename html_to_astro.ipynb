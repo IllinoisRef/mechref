{
 "cells": [
  {
   "cell_type": "code",
   "execution_count": 179,
   "metadata": {},
   "outputs": [],
   "source": [
    "string = r\"\"\"\n",
    "<div class=\"envContainer equation\" id=\"rem-ew\">\n",
    "          <p class=\"envHeader\">Hollow sphere: moments of inertia</p>\n",
    "          <div class=\"envBody\">\n",
    "            <table class=\"momentInertia\">\n",
    "              <tr>\n",
    "                <td>\n",
    "                  <canvas id=\"rem-ew-c\" width=\"300\" height=\"300\">\n",
    "                  </canvas>\n",
    "                </td>\n",
    "                <td>\n",
    "                  <p>\n",
    "                    \\[\\begin{aligned}\n",
    "                    I_C &amp;= \\frac{2}{3} m r^2\n",
    "                    \\end{aligned}\\]\n",
    "                  </p>\n",
    "                </td>\n",
    "              </tr>\n",
    "            </table>\n",
    "            <p>\n",
    "              All axes through $C$ have the same moment of inertia.\n",
    "            </p>\n",
    "          </div>\n",
    "        </div>\n",
    "        <div class=\"envContainer derivation\">\n",
    "          <div class=\"envBody\">\n",
    "            <p>\n",
    "              A hollow sphere moment of inertia is the same as that\n",
    "              for the spherical thick shell <a\n",
    "              href=\"#rem-es\">#rem-es</a> with inner radius and outer\n",
    "              radius both set to $r_1 = r_2 = r$. Some care is needed\n",
    "              here, however, as a simple substitution into the\n",
    "              spherical thick shell expression would give the\n",
    "              undefined value $0 / 0$.\n",
    "            </p>\n",
    "            <p>\n",
    "              Instead we need to set $r_2 = r$ and then to take the\n",
    "              limit as $r_1 \\to r$ using l'Hôpital's rule:\n",
    "\n",
    "              \\[\\begin{aligned}\n",
    "              I_C &amp;= \\lim_{r_1 \\to r} \\frac{2}{5} m\n",
    "              \\left(\\frac{r^5 - {r_1}^5}{r^3 - {r_1}^3}\\right) \\\\\n",
    "              &amp;= \\lim_{r_1 \\to r} \\frac{2}{5} m\n",
    "              \\left(\\frac{\\frac{d}{d r_1}\\left(r^5 - {r_1}^5\\right)}{\n",
    "              \\frac{d}{d r_1}\\left(r^3 - {r_1}^3\\right)}\\right) \\\\\n",
    "              &amp;= \\lim_{r_1 \\to r} \\frac{2}{5} m\n",
    "              \\left(\\frac{5 {r_1}^4}{3 {r_1}^2}\\right) \\\\\n",
    "              &amp;= \\lim_{r_1 \\to r} \\frac{2}{3} m {r_1}^2 \\\\\n",
    "              &amp;= \\frac{2}{3} m r^2.\n",
    "              \\end{aligned}\\]\n",
    "            </p>\n",
    "          </div>\n",
    "        </div>\n",
    "      </div>\n",
    "      \"\"\""
   ]
  },
  {
   "cell_type": "code",
   "execution_count": 180,
   "metadata": {},
   "outputs": [],
   "source": [
    "from bs4 import BeautifulSoup\n",
    "import re\n",
    "\n",
    "data = BeautifulSoup(string)"
   ]
  },
  {
   "cell_type": "code",
   "execution_count": 181,
   "metadata": {},
   "outputs": [],
   "source": [
    "id = data.find('div')['id']\n",
    "title = data.find('p').text\n",
    "td = data.find_all('td')\n",
    "\n",
    "canvas = [e for e in td[0].contents if e != '\\n'][0]\n",
    "\n",
    "attr_string = ''\n",
    "\n",
    "for attr, value in canvas.attrs.items():\n",
    "    attr_string += f'{attr}=\"{value}\" '\n",
    "\n",
    "pd_canvas = f\"<PrairieDrawCanvas {attr_string}/>\"\n",
    "\n",
    "eq = [e for e in td[1].contents if e != '\\n'][0]\n",
    "\n",
    "eq = eq.text.replace('\\n', '').replace(' ', '')\n",
    "\n",
    "eq = eq.replace('\\\\', '\\\\\\\\')\n",
    "\n",
    "derivation = data.find('div', attrs={'class': 'derivation'})\n",
    "\n"
   ]
  },
  {
   "cell_type": "code",
   "execution_count": 182,
   "metadata": {},
   "outputs": [],
   "source": [
    "text = str(data.find('div', attrs={'class': 'derivation'}).text)\n",
    "\n",
    "display_equations = re.findall('\\[(.*?)\\]', text.replace('\\n', ''))\n",
    "\n",
    "disp_eq = ''\n",
    "\n",
    "for e in display_equations:\n",
    "    disp_eq += \"<DisplayEquation equation=\\\"\" + e.replace('              ', '').replace('\\\\', '\\\\\\\\') + \"\\\" /> \\n\"\n",
    "\n",
    "inline_eq  = re.findall('\\$([^$]*?)\\$', text.replace('\\n', ''))\n",
    "\n",
    "i_eq = ''\n",
    "\n",
    "for e in inline_eq:\n",
    "    i_eq += \"<InlineEquation equation=\\\"\" + e.replace('              ', '').replace('\\\\', '\\\\\\\\') + \"\\\" /> \\n\""
   ]
  },
  {
   "cell_type": "code",
   "execution_count": 183,
   "metadata": {},
   "outputs": [
    {
     "name": "stdout",
     "output_type": "stream",
     "text": [
      "<InlineEquation equation=\"r_1 = r_2 = r\" /> \n",
      "<InlineEquation equation=\"0 / 0\" /> \n",
      "<InlineEquation equation=\"r_2 = r\" /> \n",
      "<InlineEquation equation=\"r_1 \\\\to r\" /> \n",
      "\n"
     ]
    }
   ],
   "source": [
    "print(i_eq)"
   ]
  },
  {
   "cell_type": "code",
   "execution_count": 184,
   "metadata": {},
   "outputs": [
    {
     "name": "stdout",
     "output_type": "stream",
     "text": [
      "\n",
      "<DisplayEquationCustom id=\"rem-ew\" title=\"Hollow sphere: moments of inertia\" background=True derivation=True>\n",
      "    <div class=\"w-100 d-flex flex-row align-items-center\">\n",
      "        <div class=\"w-50\">\n",
      "            <PrairieDrawCanvas id=\"rem-ew-c\" width=\"300\" height=\"300\" />\n",
      "        </div>\n",
      "        <div class=\"w-50\">\n",
      "            <DisplayEquation equation=\"\\\\[\\\\begin{aligned}I_C&=\\\\frac{2}{3}mr^2\\\\end{aligned}\\\\]\" />\n",
      "        </div>\n",
      "    </div>\n",
      "\n",
      "    <div slot=\"derivation\">\n",
      "        <DisplayEquation equation=\"\\\\begin{aligned}I_C &= \\\\lim_{r_1 \\\\to r} \\\\frac{2}{5} m\\\\left(\\\\frac{r^5 - {r_1}^5}{r^3 - {r_1}^3}\\\\right) \\\\\\\\&= \\\\lim_{r_1 \\\\to r} \\\\frac{2}{5} m\\\\left(\\\\frac{\\\\frac{d}{d r_1}\\\\left(r^5 - {r_1}^5\\\\right)}{\\\\frac{d}{d r_1}\\\\left(r^3 - {r_1}^3\\\\right)}\\\\right) \\\\\\\\&= \\\\lim_{r_1 \\\\to r} \\\\frac{2}{5} m\\\\left(\\\\frac{5 {r_1}^4}{3 {r_1}^2}\\\\right) \\\\\\\\&= \\\\lim_{r_1 \\\\to r} \\\\frac{2}{3} m {r_1}^2 \\\\\\\\&= \\\\frac{2}{3} m r^2.\\\\end{aligned}\\\\\" /> \n",
      "\n",
      "\n",
      "        <InlineEquation equation=\"r_1 = r_2 = r\" /> \n",
      "<InlineEquation equation=\"0 / 0\" /> \n",
      "<InlineEquation equation=\"r_2 = r\" /> \n",
      "<InlineEquation equation=\"r_1 \\\\to r\" /> \n",
      "\n",
      "    </div>\n",
      "</DisplayEquationCustom>\n",
      "\n"
     ]
    }
   ],
   "source": [
    "main = f\"\"\"\n",
    "<DisplayEquationCustom id=\"{id}\" title=\"{title}\" background=True derivation=True>\n",
    "    <div class=\"w-100 d-flex flex-row align-items-center\">\n",
    "        <div class=\"w-50\">\n",
    "            {pd_canvas}\n",
    "        </div>\n",
    "        <div class=\"w-50\">\n",
    "            <DisplayEquation equation=\"{eq}\" />\n",
    "        </div>\n",
    "    </div>\n",
    "\n",
    "    <div slot=\"derivation\">\n",
    "        {disp_eq}\n",
    "\n",
    "        {i_eq}\n",
    "    </div>\n",
    "</DisplayEquationCustom>\n",
    "\"\"\"\n",
    "\n",
    "print(main)"
   ]
  },
  {
   "cell_type": "code",
   "execution_count": null,
   "metadata": {},
   "outputs": [],
   "source": [
    "<DisplayEquation equation=\"\\\\begin{aligned}I_{C,z} &= \\\\iiint_\\\\mathcal{B} \\\\rho (x^2 + y^2) \\\\,dx\\\\,dy\\\\,dz \\\\\\\\&= \\\\int_{-\\\\ell_z/2}^{\\\\ell_z/2} \\\\int_{-\\\\ell_y/2}^{\\\\ell_y/2} \\\\int_{-\\\\ell_x/2}^{\\\\ell_x/2}\\\\rho (x^2 + y^2) \\\\,dx\\\\,dy\\\\,dz \\\\\\\\&= \\\\int_{-\\\\ell_z/2}^{\\\\ell_z/2} \\\\int_{-\\\\ell_y/2}^{\\\\ell_y/2} \\\\left[\\\\rho \\\\left(\\\\frac{1}{3}x^3 + y^2 x\\\\right)\\\\right \\\\rho \\\\left(\\\\frac{1}{12}{\\\\ell_x}^3 y + \\\\frac{1}{3} y^3 \\\\ell_x \\\\right)\\\\right \\\\rho \\\\ell_x \\\\ell_y\\\\frac{1}{12}\\\\left( {\\\\ell_x}^2 + {\\\\ell_y}^2\\\\right) z \\\\right\" /> "
   ]
  },
  {
   "cell_type": "code",
   "execution_count": 153,
   "metadata": {},
   "outputs": [],
   "source": [
    "e = r\"\"\"\n",
    "\\begin{aligned}\n",
    "              I_{C,z} &amp;= \\iiint_\\mathcal{B} \\rho (x^2 + y^2) \\,dx\\,dy\\,dz \\\\\n",
    "              &amp;= \\int_0^{\\pi} \\int_{-\\pi}^{\\pi} \\int_{r_1}^{r_2}\n",
    "              \\rho \\left( (r \\cos\\theta \\sin\\phi)^2 + (r \\sin\\theta \\sin\\phi)^2 \\right) \\,J \\,dr\\,d\\theta\\,d\\phi \\\\\n",
    "              &amp;= \\int_0^{\\pi} \\int_{-\\pi}^{\\pi} \\int_{r_1}^{r_2}\n",
    "              \\rho r^4 \\sin^3\\phi \\,dr\\,d\\theta\\,d\\phi \\\\\n",
    "              &amp;= \\int_0^{\\pi} \\int_{-\\pi}^{\\pi} \\left[\n",
    "              \\rho \\frac{1}{5} r^5 \\sin^3\\phi \\right]_{r = r_1}^{r = r_2} \\,d\\theta\\,d\\phi \\\\\n",
    "              &amp;= \\int_0^{\\pi} \\int_{-\\pi}^{\\pi}\n",
    "              \\rho \\frac{1}{5} ({r_2}^5 - {r_1}^5) \\sin^3\\phi \\,d\\theta\\,d\\phi \\\\\n",
    "              &amp;= \\int_0^{\\pi} \\left[\n",
    "              \\rho \\frac{1}{5} ({r_2}^5 - {r_1}^5) \\sin^3\\phi \\, \\theta\n",
    "              \\right]_{\\theta = -\\pi}^{\\theta = \\pi} \\,d\\phi \\\\\n",
    "              &amp;= \\int_0^{\\pi}\n",
    "              \\rho \\frac{2\\pi}{5} ({r_2}^5 - {r_1}^5) \\sin^3\\phi \\,d\\phi \\\\\n",
    "              &amp;= \\int_0^{\\pi}\n",
    "              \\rho \\frac{2\\pi}{5} ({r_2}^5 - {r_1}^5) \\frac{1}{4} (3\\sin\\phi - \\sin 3\\phi) \\,d\\phi \\\\\n",
    "              &amp;= \\left[ \\rho \\frac{2\\pi}{5} ({r_2}^5 - {r_1}^5) \\frac{1}{4}\n",
    "              \\left(\\frac{1}{3} \\cos 3\\phi - 3\\cos\\phi\\right) \\right]_{\\phi = 0}^{\\phi = \\pi} \\\\\n",
    "              &amp;= \\rho \\frac{2\\pi}{5} ({r_2}^5 - {r_1}^5) \\frac{1}{4}\n",
    "              \\left(-\\frac{2}{3} + 6\\right) \\\\\n",
    "              &amp;= \\frac{8}{15} \\rho \\pi ({r_2}^5 - {r_1}^5).\n",
    "              \\end{aligned}\n",
    "\"\"\""
   ]
  },
  {
   "cell_type": "code",
   "execution_count": 154,
   "metadata": {},
   "outputs": [
    {
     "name": "stdout",
     "output_type": "stream",
     "text": [
      "<DisplayEquation equation=\"\\\\begin{aligned}I_{C,z} &amp;= \\\\iiint_\\\\mathcal{B} \\\\rho (x^2 + y^2) \\\\,dx\\\\,dy\\\\,dz \\\\\\\\&amp;= \\\\int_0^{\\\\pi} \\\\int_{-\\\\pi}^{\\\\pi} \\\\int_{r_1}^{r_2}\\\\rho \\\\left( (r \\\\cos\\\\theta \\\\sin\\\\phi)^2 + (r \\\\sin\\\\theta \\\\sin\\\\phi)^2 \\\\right) \\\\,J \\\\,dr\\\\,d\\\\theta\\\\,d\\\\phi \\\\\\\\&amp;= \\\\int_0^{\\\\pi} \\\\int_{-\\\\pi}^{\\\\pi} \\\\int_{r_1}^{r_2}\\\\rho r^4 \\\\sin^3\\\\phi \\\\,dr\\\\,d\\\\theta\\\\,d\\\\phi \\\\\\\\&amp;= \\\\int_0^{\\\\pi} \\\\int_{-\\\\pi}^{\\\\pi} \\\\left[\\\\rho \\\\frac{1}{5} r^5 \\\\sin^3\\\\phi \\\\right]_{r = r_1}^{r = r_2} \\\\,d\\\\theta\\\\,d\\\\phi \\\\\\\\&amp;= \\\\int_0^{\\\\pi} \\\\int_{-\\\\pi}^{\\\\pi}\\\\rho \\\\frac{1}{5} ({r_2}^5 - {r_1}^5) \\\\sin^3\\\\phi \\\\,d\\\\theta\\\\,d\\\\phi \\\\\\\\&amp;= \\\\int_0^{\\\\pi} \\\\left[\\\\rho \\\\frac{1}{5} ({r_2}^5 - {r_1}^5) \\\\sin^3\\\\phi \\\\, \\\\theta\\\\right]_{\\\\theta = -\\\\pi}^{\\\\theta = \\\\pi} \\\\,d\\\\phi \\\\\\\\&amp;= \\\\int_0^{\\\\pi}\\\\rho \\\\frac{2\\\\pi}{5} ({r_2}^5 - {r_1}^5) \\\\sin^3\\\\phi \\\\,d\\\\phi \\\\\\\\&amp;= \\\\int_0^{\\\\pi}\\\\rho \\\\frac{2\\\\pi}{5} ({r_2}^5 - {r_1}^5) \\\\frac{1}{4} (3\\\\sin\\\\phi - \\\\sin 3\\\\phi) \\\\,d\\\\phi \\\\\\\\&amp;= \\\\left[ \\\\rho \\\\frac{2\\\\pi}{5} ({r_2}^5 - {r_1}^5) \\\\frac{1}{4}\\\\left(\\\\frac{1}{3} \\\\cos 3\\\\phi - 3\\\\cos\\\\phi\\\\right) \\\\right]_{\\\\phi = 0}^{\\\\phi = \\\\pi} \\\\\\\\&amp;= \\\\rho \\\\frac{2\\\\pi}{5} ({r_2}^5 - {r_1}^5) \\\\frac{1}{4}\\\\left(-\\\\frac{2}{3} + 6\\\\right) \\\\\\\\&amp;= \\\\frac{8}{15} \\\\rho \\\\pi ({r_2}^5 - {r_1}^5).\\\\end{aligned}\" />\n"
     ]
    }
   ],
   "source": [
    "print(\"<DisplayEquation equation=\\\"\" + e.replace('\\n', '').replace('              ', '').replace(\"\\\\\", r\"\\\\\") + \"\\\" />\")"
   ]
  },
  {
   "cell_type": "code",
   "execution_count": null,
   "metadata": {},
   "outputs": [],
   "source": []
  },
  {
   "cell_type": "code",
   "execution_count": null,
   "metadata": {},
   "outputs": [],
   "source": []
  }
 ],
 "metadata": {
  "kernelspec": {
   "display_name": "Python 3",
   "language": "python",
   "name": "python3"
  },
  "language_info": {
   "codemirror_mode": {
    "name": "ipython",
    "version": 3
   },
   "file_extension": ".py",
   "mimetype": "text/x-python",
   "name": "python",
   "nbconvert_exporter": "python",
   "pygments_lexer": "ipython3",
   "version": "3.11.9"
  }
 },
 "nbformat": 4,
 "nbformat_minor": 2
}
