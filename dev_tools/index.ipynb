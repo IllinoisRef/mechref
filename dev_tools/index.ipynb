{
 "cells": [
  {
   "cell_type": "code",
   "execution_count": 2,
   "metadata": {},
   "outputs": [],
   "source": [
    "import os\n",
    "import json"
   ]
  },
  {
   "cell_type": "code",
   "execution_count": 3,
   "metadata": {},
   "outputs": [],
   "source": [
    "allowed_courses = ['sta', 'sol', 'dyn']\n",
    "\n",
    "coursetags = {\n",
    "    'sta': 'Statics',\n",
    "    'dyn': 'Dynamics',\n",
    "    'sol': 'Solid Mechanics'\n",
    "}\n",
    "\n",
    "page_list = []\n",
    "\n",
    "for course in allowed_courses:\n",
    "    dir = f'./src/pages/{course}'\n",
    "\n",
    "    pages = []\n",
    "\n",
    "    if os.path.exists(dir):\n",
    "\n",
    "        files = list(sorted(os.listdir(dir)))\n",
    "        \n",
    "        for file in files:\n",
    "            pages.append({\n",
    "                'id': file.replace('.astro', ''),\n",
    "                'name': file.replace('.astro', '').replace('_', ' ').title()\n",
    "            })\n",
    "        \n",
    "    page_list.append([coursetags[course], pages])\n"
   ]
  },
  {
   "cell_type": "code",
   "execution_count": 4,
   "metadata": {},
   "outputs": [
    {
     "data": {
      "text/plain": [
       "[['Statics',\n",
       "  [{'id': 'blanktopic', 'name': 'Blanktopic'},\n",
       "   {'id': 'cartesian_coordinates', 'name': 'Cartesian Coordinates'},\n",
       "   {'id': 'centers_of_mass', 'name': 'Centers Of Mass'},\n",
       "   {'id': 'forcesystems', 'name': 'Forcesystems'},\n",
       "   {'id': 'free_body_diagrams', 'name': 'Free Body Diagrams'},\n",
       "   {'id': 'friction', 'name': 'Friction'},\n",
       "   {'id': 'hydrostatic_fluid_pressure', 'name': 'Hydrostatic Fluid Pressure'},\n",
       "   {'id': 'shear_moment_diagrams', 'name': 'Internal Forces'},\n",
       "   {'id': 'introduction', 'name': 'Introduction'},\n",
       "   {'id': 'moment_of_inertia', 'name': 'Moment Of Inertia'},\n",
       "   {'id': 'moments', 'name': 'Moments'},\n",
       "   {'id': 'reaction_forces', 'name': 'Reaction Forces'},\n",
       "   {'id': 'trusses', 'name': 'Trusses'},\n",
       "   {'id': 'vectors_scalars', 'name': 'Vectors Scalars'},\n",
       "   {'id': 'virtual_work', 'name': 'Virtual Work'}]],\n",
       " ['Solid Mechanics',\n",
       "  [{'id': 'axial_loading', 'name': 'Axial Loading'},\n",
       "   {'id': 'beam_deflection', 'name': 'Beam Deflection'},\n",
       "   {'id': 'bending', 'name': 'Bending'},\n",
       "   {'id': 'buckling', 'name': 'Buckling'},\n",
       "   {'id': 'combined_loading', 'name': 'Combined Loading'},\n",
       "   {'id': 'failure_theories', 'name': 'Failure Theories'},\n",
       "   {'id': 'main', 'name': 'Main'},\n",
       "   {'id': 'material_properties', 'name': 'Material Properties'},\n",
       "   {'id': 'pressure_vessels', 'name': 'Pressure Vessels'},\n",
       "   {'id': 'shear_moment_diagrams', 'name': 'Shear Moment Diagrams'},\n",
       "   {'id': 'strain', 'name': 'Strain'},\n",
       "   {'id': 'stress', 'name': 'Stress'},\n",
       "   {'id': 'stress_transformation', 'name': 'Stress Transformation'},\n",
       "   {'id': 'torsion', 'name': 'Torsion'},\n",
       "   {'id': 'transverse_shear', 'name': 'Transverse Shear'}]],\n",
       " ['Dynamics', []]]"
      ]
     },
     "execution_count": 4,
     "metadata": {},
     "output_type": "execute_result"
    }
   ],
   "source": [
    "page_list"
   ]
  },
  {
   "cell_type": "code",
   "execution_count": 5,
   "metadata": {},
   "outputs": [],
   "source": [
    "json.dump(page_list, open('./public/classes.json', 'w'), indent=2)"
   ]
  },
  {
   "cell_type": "code",
   "execution_count": 19,
   "metadata": {},
   "outputs": [],
   "source": [
    "import json\n",
    "\n",
    "data = json.load(open('./public/classes.json'))\n",
    "\n",
    "cnames = {\n",
    "    'Statics' : 'sta',\n",
    "    'Dynamics' : 'dyn',\n",
    "    'Solid Mechanics': 'sol'\n",
    "}\n",
    "\n",
    "uh = {c: {} for k, c in cnames.items()}\n",
    "\n",
    "for course in data:\n",
    "    pages = course[1]\n",
    "\n",
    "    for page in pages:\n",
    "        uh[cnames[course[0]]][page['id']] = page['name']"
   ]
  },
  {
   "cell_type": "code",
   "execution_count": 20,
   "metadata": {},
   "outputs": [
    {
     "data": {
      "text/plain": [
       "{'sta': {'introduction': 'Introduction',\n",
       "  'cartesian_coordinates': 'Cartesian Coordinates',\n",
       "  'vectors_scalars': 'Vectors Scalars',\n",
       "  'free_body_diagrams': 'Free Body Diagrams',\n",
       "  'moments': 'Moments',\n",
       "  'forcesystems': 'Force Systems',\n",
       "  'reaction_forces': 'Reaction Forces',\n",
       "  'shear_moment_diagrams': 'Internal Forces',\n",
       "  'trusses': 'Trusses',\n",
       "  'friction': 'Friction',\n",
       "  'centers_of_mass': 'Centers Of Mass',\n",
       "  'hydrostatic_fluid_pressure': 'Hydrostatic Fluid Pressure',\n",
       "  'moment_of_inertia': 'Moment Of Inertia',\n",
       "  'virtual_work': 'Virtual Work'},\n",
       " 'dyn': {'vectors': 'Vectors',\n",
       "  'vector_calculus': 'Vector Calculus',\n",
       "  'particle_kinematics': 'Particle Kinematics',\n",
       "  'particle_kinetics': 'Particle Kinetics',\n",
       "  'rigid_body_kinematics': 'Rigid Body Kinematics',\n",
       "  'rigid_body_kinetics': 'Rigid Body Kinetics',\n",
       "  'contact_and_rolling': 'Contact And Rolling',\n",
       "  'work_and_energy': 'Work And Energy',\n",
       "  'questions_to_ask_instructor': 'Questions To Ask Instructor'},\n",
       " 'sol': {'stress': 'Stress',\n",
       "  'strain': 'Strain',\n",
       "  'material_properties': 'Material Properties',\n",
       "  'axial_loading': 'Axial Loading',\n",
       "  'torsion': 'Torsion',\n",
       "  'shear_moment_diagrams': 'Shear Moment Diagrams',\n",
       "  'bending': 'Bending',\n",
       "  'transverse_shear': 'Transverse Shear',\n",
       "  'pressure_vessels': 'Pressure Vessels',\n",
       "  'combined_loading': 'Combined Loading',\n",
       "  'stress_transformation': 'Stress Transformation',\n",
       "  'failure_theories': 'Failure Theories',\n",
       "  'beam_deflection': 'Beam Deflection',\n",
       "  'buckling': 'Buckling'}}"
      ]
     },
     "execution_count": 20,
     "metadata": {},
     "output_type": "execute_result"
    }
   ],
   "source": [
    "uh"
   ]
  },
  {
   "cell_type": "code",
   "execution_count": null,
   "metadata": {},
   "outputs": [],
   "source": []
  }
 ],
 "metadata": {
  "kernelspec": {
   "display_name": "Python 3",
   "language": "python",
   "name": "python3"
  },
  "language_info": {
   "codemirror_mode": {
    "name": "ipython",
    "version": 3
   },
   "file_extension": ".py",
   "mimetype": "text/x-python",
   "name": "python",
   "nbconvert_exporter": "python",
   "pygments_lexer": "ipython3",
   "version": "3.12.4"
  }
 },
 "nbformat": 4,
 "nbformat_minor": 2
}
