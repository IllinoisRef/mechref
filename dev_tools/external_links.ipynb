{
 "cells": [
  {
   "cell_type": "code",
   "execution_count": 8,
   "metadata": {},
   "outputs": [],
   "source": [
    "import os\n",
    "import os\n",
    "\n",
    "for course in ['sta', 'sol', 'dyn']:\n",
    "    for page in os.listdir(f'./src/pages/{course}'):\n",
    "        with open(os.path.join(f'./src/pages/{course}', page), 'r') as test_file:\n",
    "            data = test_file.read()\n",
    "        \n",
    "        data = data.replace('href=\"http', 'target=\"_blank\" rel=\"noopener noreferrer\" href=\"http')\n",
    "        #data = data.replace('href =\"https', 'href=\"https')\n",
    "        with open(os.path.join(f'./src/pages/{course}', page), 'w') as test_file:\n",
    "            test_file.write(data)"
   ]
  },
  {
   "cell_type": "code",
   "execution_count": null,
   "metadata": {},
   "outputs": [],
   "source": []
  }
 ],
 "metadata": {
  "kernelspec": {
   "display_name": "usr",
   "language": "python",
   "name": "python3"
  },
  "language_info": {
   "codemirror_mode": {
    "name": "ipython",
    "version": 3
   },
   "file_extension": ".py",
   "mimetype": "text/x-python",
   "name": "python",
   "nbconvert_exporter": "python",
   "pygments_lexer": "ipython3",
   "version": "3.11.9"
  }
 },
 "nbformat": 4,
 "nbformat_minor": 2
}
