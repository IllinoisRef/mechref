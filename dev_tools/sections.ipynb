{
 "cells": [
  {
   "cell_type": "code",
   "execution_count": 2,
   "metadata": {},
   "outputs": [],
   "source": [
    "import os\n",
    "import json"
   ]
  },
  {
   "cell_type": "code",
   "execution_count": 3,
   "metadata": {},
   "outputs": [],
   "source": [
    "allowed_courses = ['sta', 'sol', 'dyn']\n",
    "\n",
    "coursetags = {\n",
    "    'sta': 'Statics',\n",
    "    'dyn': 'Dynamics',\n",
    "    'sol': 'Solid Mechanics'\n",
    "}\n",
    "\n",
    "page_list = []\n",
    "\n",
    "for course in allowed_courses:\n",
    "    dir = f'./src/pages/{course}'\n",
    "\n",
    "    pages = []\n",
    "\n",
    "    if os.path.exists(dir):\n",
    "\n",
    "        files = list(sorted(os.listdir(dir)))\n",
    "        \n",
    "        for file in files:\n",
    "            pages.append({\n",
    "                'id': file.replace('.astro', ''),\n",
    "                'name': file.replace('.astro', '').replace('_', ' ').title()\n",
    "            })\n",
    "        \n",
    "    page_list.append([coursetags[course], pages])\n"
   ]
  },
  {
   "cell_type": "code",
   "execution_count": 4,
   "metadata": {},
   "outputs": [
    {
     "data": {
      "text/plain": [
       "[['Statics',\n",
       "  [{'id': 'blanktopic', 'name': 'Blanktopic'},\n",
       "   {'id': 'cartesian_coordinates', 'name': 'Cartesian Coordinates'},\n",
       "   {'id': 'centers_of_mass', 'name': 'Centers Of Mass'},\n",
       "   {'id': 'forcesystems', 'name': 'Forcesystems'},\n",
       "   {'id': 'free_body_diagrams', 'name': 'Free Body Diagrams'},\n",
       "   {'id': 'friction', 'name': 'Friction'},\n",
       "   {'id': 'hydrostatic_fluid_pressure', 'name': 'Hydrostatic Fluid Pressure'},\n",
       "   {'id': 'shear_moment_diagrams', 'name': 'Internal Forces'},\n",
       "   {'id': 'introduction', 'name': 'Introduction'},\n",
       "   {'id': 'moment_of_inertia', 'name': 'Moment Of Inertia'},\n",
       "   {'id': 'moments', 'name': 'Moments'},\n",
       "   {'id': 'reaction_forces', 'name': 'Reaction Forces'},\n",
       "   {'id': 'trusses', 'name': 'Trusses'},\n",
       "   {'id': 'vectors_scalars', 'name': 'Vectors Scalars'},\n",
       "   {'id': 'virtual_work', 'name': 'Virtual Work'}]],\n",
       " ['Solid Mechanics',\n",
       "  [{'id': 'axial_loading', 'name': 'Axial Loading'},\n",
       "   {'id': 'beam_deflection', 'name': 'Beam Deflection'},\n",
       "   {'id': 'bending', 'name': 'Bending'},\n",
       "   {'id': 'buckling', 'name': 'Buckling'},\n",
       "   {'id': 'combined_loading', 'name': 'Combined Loading'},\n",
       "   {'id': 'failure_theories', 'name': 'Failure Theories'},\n",
       "   {'id': 'main', 'name': 'Main'},\n",
       "   {'id': 'material_properties', 'name': 'Material Properties'},\n",
       "   {'id': 'pressure_vessels', 'name': 'Pressure Vessels'},\n",
       "   {'id': 'shear_moment_diagrams', 'name': 'Shear Moment Diagrams'},\n",
       "   {'id': 'strain', 'name': 'Strain'},\n",
       "   {'id': 'stress', 'name': 'Stress'},\n",
       "   {'id': 'stress_transformation', 'name': 'Stress Transformation'},\n",
       "   {'id': 'torsion', 'name': 'Torsion'},\n",
       "   {'id': 'transverse_shear', 'name': 'Transverse Shear'}]],\n",
       " ['Dynamics', []]]"
      ]
     },
     "execution_count": 4,
     "metadata": {},
     "output_type": "execute_result"
    }
   ],
   "source": [
    "page_list"
   ]
  },
  {
   "cell_type": "code",
   "execution_count": 5,
   "metadata": {},
   "outputs": [],
   "source": [
    "json.dump(page_list, open('./public/classes.json', 'w'), indent=2)"
   ]
  },
  {
   "cell_type": "code",
   "execution_count": null,
   "metadata": {},
   "outputs": [],
   "source": []
  }
 ],
 "metadata": {
  "kernelspec": {
   "display_name": "Python 3",
   "language": "python",
   "name": "python3"
  },
  "language_info": {
   "codemirror_mode": {
    "name": "ipython",
    "version": 3
   },
   "file_extension": ".py",
   "mimetype": "text/x-python",
   "name": "python",
   "nbconvert_exporter": "python",
   "pygments_lexer": "ipython3",
   "version": "3.11.9"
  }
 },
 "nbformat": 4,
 "nbformat_minor": 2
}
