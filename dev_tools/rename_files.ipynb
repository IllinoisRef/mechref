{
 "cells": [
  {
   "cell_type": "code",
   "execution_count": 3,
   "metadata": {},
   "outputs": [],
   "source": [
    "import shutil\n",
    "import os"
   ]
  },
  {
   "cell_type": "code",
   "execution_count": 30,
   "metadata": {},
   "outputs": [
    {
     "name": "stdout",
     "output_type": "stream",
     "text": [
      "{\n",
      "\"cartesian_coordinates\": ,\n",
      "\"introduction\": ,\n",
      "\"text\": ,\n",
      "\"vectors_scalars\": ,\n",
      "\"trusses\": ,\n",
      "\"centers_of_mass\": ,\n",
      "\"CartCoordFigures\": ,\n",
      "\"COMFigures\": ,\n",
      "\"FBDFigures\": ,\n",
      "\"FluidFigures\": ,\n",
      "\"ForceSystemsFigures\": ,\n",
      "\"FramesMachinesFigures\": ,\n",
      "\"FrictionFigures\": ,\n",
      "\"IntForceFigures\": ,\n",
      "\"IntroductionFigures\": ,\n",
      "\"MOIFigures\": ,\n",
      "\"MomentsFigures\": ,\n",
      "\"ReactionForcesFigures\": ,\n",
      "\"TrussFigures\": ,\n",
      "\"VectorsScalarsFigures\": ,\n",
      "\"VWorkFigures\": ,\n",
      "\"combined_loading\": ,\n",
      "}\n"
     ]
    }
   ],
   "source": [
    "page_folder = \"../src/pages/sta\"\n",
    "\n",
    "all_pages = os.listdir(page_folder)\n",
    "'''print(\"{\")\n",
    "for page in all_pages:\n",
    "    print(f'\"{page.replace(\".astro\", \"\")}\": ,')\n",
    "\n",
    "print(\"}\")'''\n",
    "\n",
    "folder_folder = \"../public/sta\"\n",
    "\n",
    "all_folders = os.listdir(folder_folder)\n",
    "print(\"{\")\n",
    "for f in all_folders:\n",
    "    print(f'\"{f}\": ,')\n",
    "\n",
    "print(\"}\")"
   ]
  },
  {
   "cell_type": "code",
   "execution_count": 31,
   "metadata": {},
   "outputs": [],
   "source": [
    "folders = {\n",
    "\"introduction\": \"IntroductionFigures\",\n",
    "\"cartesian_coordinates\": \"CartCoordFigures\",\n",
    "\"vectors_scalars\": \"VectorsScalarsFigures\",\n",
    "\"reaction_forces\": \"ReactionForcesFigures\",\n",
    "\"shear_moment_diagrams\": \"IntForceFigures\",\n",
    "\"centers_of_mass\": \"COMFigures\",\n",
    "\"hydrostatic_fluid_pressure\": \"FluidFigures\",\n",
    "\"moment_of_inertia\": \"MOIFigures\",\n",
    "\"force_systems\": \"ForceSystemsFigures\",\n",
    "\"frames_and_machines\": \"FramesMachinesFigures\",\n",
    "\"free_body_diagrams\": \"FBDFigures\",\n",
    "\"friction\": \"FrictionFigures\",\n",
    "\"moments\": \"MomentsFigures\",\n",
    "\"trusses\": \"TrussFigures\",\n",
    "\"virtual_work\": \"VWorkFigures\",\n",
    "}"
   ]
  },
  {
   "cell_type": "code",
   "execution_count": 33,
   "metadata": {},
   "outputs": [],
   "source": [
    "for page, folder in folders.items():\n",
    "    if not folder: continue\n",
    "    \n",
    "    if not os.path.exists(os.path.join(folder_folder, folder)):\n",
    "        os.mkdir(os.path.join(folder_folder, page))\n",
    "\n",
    "    if os.path.exists(os.path.join(folder_folder, folder)):\n",
    "        shutil.copytree(os.path.join(folder_folder, folder), os.path.join(folder_folder, page), dirs_exist_ok=True)\n",
    "    else:\n",
    "        try:\n",
    "            os.rename(os.path.join(folder_folder, folder), os.path.join(folder_folder, page))\n",
    "        except FileNotFoundError:\n",
    "            pass\n",
    "    \n",
    "    file = os.path.join(page_folder, page+\".astro\")\n",
    "\n",
    "    with open(file, 'r') as f:\n",
    "        data = f.read()\n",
    "\n",
    "    data = data.replace(\"/\"+folder, \"/\"+page)\n",
    "\n",
    "    with open(file, 'w') as f:\n",
    "        f.write(data)\n"
   ]
  },
  {
   "cell_type": "code",
   "execution_count": 27,
   "metadata": {},
   "outputs": [
    {
     "data": {
      "text/plain": [
       "'../public/sta/introduction'"
      ]
     },
     "execution_count": 27,
     "metadata": {},
     "output_type": "execute_result"
    }
   ],
   "source": [
    "\n",
    "shutil.copytree(\"../public/sta/IntroductionFigures\", \"../public/sta/introduction\", dirs_exist_ok=True)"
   ]
  },
  {
   "cell_type": "code",
   "execution_count": 34,
   "metadata": {},
   "outputs": [],
   "source": [
    "for page, folder in folders.items():\n",
    "    shutil.rmtree(os.path.join(folder_folder, folder))"
   ]
  },
  {
   "cell_type": "code",
   "execution_count": null,
   "metadata": {},
   "outputs": [],
   "source": []
  }
 ],
 "metadata": {
  "kernelspec": {
   "display_name": "Python 3",
   "language": "python",
   "name": "python3"
  },
  "language_info": {
   "codemirror_mode": {
    "name": "ipython",
    "version": 3
   },
   "file_extension": ".py",
   "mimetype": "text/x-python",
   "name": "python",
   "nbconvert_exporter": "python",
   "pygments_lexer": "ipython3",
   "version": "3.10.15"
  }
 },
 "nbformat": 4,
 "nbformat_minor": 2
}
