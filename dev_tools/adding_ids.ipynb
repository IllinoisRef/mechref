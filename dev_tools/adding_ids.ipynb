{
 "cells": [
  {
   "cell_type": "code",
   "execution_count": 2,
   "metadata": {},
   "outputs": [],
   "source": [
    "from bs4 import BeautifulSoup\n",
    "import os\n",
    "import json\n",
    "import shutil"
   ]
  },
  {
   "cell_type": "code",
   "execution_count": 3,
   "metadata": {},
   "outputs": [
    {
     "name": "stdout",
     "output_type": "stream",
     "text": [
      "prairiedraw.astro <li class='list-group-item py-0'><a class='text-decoration-none subsection' href='#quick_start'>Quick start</a></li>\n",
      "<li class='list-group-item py-0'><a class='text-decoration-none subsection' href='#coordinate_systems'>Coordinate systems</a></li>\n",
      "<li class='list-group-item py-0'><a class='text-decoration-none subsection' href='#vectors'>Vectors</a></li>\n",
      "<li class='list-group-item py-0'><a class='text-decoration-none subsection' href='#drawing_elements'>Drawing elements</a></li>\n",
      "<li class='list-group-item py-0'><a class='text-decoration-none subsubsection' href='#arrows'>Arrows</a></li>\n",
      "<li class='list-group-item py-0'><a class='text-decoration-none subsubsection' href='#points'>Points</a></li>\n",
      "<li class='list-group-item py-0'><a class='text-decoration-none subsubsection' href='#text'>Text</a></li>\n",
      "<li class='list-group-item py-0'><a class='text-decoration-none subsubsection' href='#lines'>Lines</a></li>\n",
      "<li class='list-group-item py-0'><a class='text-decoration-none subsubsection' href='#circles'>Circles</a></li>\n",
      "<li class='list-group-item py-0'><a class='text-decoration-none subsubsection' href='#rectangles'>Rectangles</a></li>\n",
      "<li class='list-group-item py-0'><a class='text-decoration-none subsection' href='#drawing_properties'>Drawing properties</a></li>\n",
      "<li class='list-group-item py-0'><a class='text-decoration-none subsection' href='#transformations'>Transformations</a></li>\n",
      "<li class='list-group-item py-0'><a class='text-decoration-none subsection' href='#saving_and_restoring_graphics_state'>Saving and restoring graphics state</a></li>\n",
      "<li class='list-group-item py-0'><a class='text-decoration-none subsection' href='#drawing_options_and_prairiedraw_objects'>Drawing options and PrairieDraw objects</a></li>\n",
      "<li class='list-group-item py-0'><a class='text-decoration-none subsection' href='#animation'>Animation</a></li>\n",
      "<li class='list-group-item py-0'><a class='text-decoration-none subsection' href='#sequenced_animations'>Sequenced animations</a></li>\n",
      "<li class='list-group-item py-0'><a class='text-decoration-none subsection' href='#numerical_differentiation'>Numerical differentiation</a></li>\n",
      "\n"
     ]
    }
   ],
   "source": [
    "course = 'about/documentation'\n",
    "\n",
    "for page in os.listdir(f'../src/pages/{course}'):\n",
    "    with open(os.path.join(f'../src/pages/{course}', page)) as test_file:\n",
    "        data = test_file.read()\n",
    "\n",
    "    soup = BeautifulSoup(data, \"html.parser\")\n",
    "\n",
    "    sections = soup.find_all(['section', 'subsection', 'subsubsection', 'subsubsubsection'])\n",
    "\n",
    "    sections_list = []\n",
    "\n",
    "    for section in sections:\n",
    "        try:\n",
    "            section['id'] = section.attrs['title'].replace(' ', '_').replace(':', '').replace(\"\\\\\", \"\").replace(r\"{\", \"\").lower()\n",
    "        except:\n",
    "            print(page)\n",
    "        sections_list.append([section.name, section['title'], section['id']])\n",
    "    text = \"\"\n",
    "    for section in sections_list:\n",
    "        if section[0] == 'section': \n",
    "            page_name = f'<Section title=\"{section[1]}\" id=\"{section[2]}\">'\n",
    "        else:\n",
    "            text += f\"<li class='list-group-item py-0'><a class='text-decoration-none {section[0]}' href='#{section[2]}'>{section[1]}</a></li>\\n\"\n",
    "\n",
    "            section_capitalized = section[0].replace('s', 'S')\n",
    "            data = data.replace(f'<{section_capitalized} title=\"{section[1]}\">', f'<{section_capitalized} title=\"{section[1]}\" id=\"{section[2]}\">')\n",
    "    \n",
    "    data = data.replace(page_name, text + \"\\n\"*2 + page_name)\n",
    "\n",
    "    with open(os.path.join(f'../src/pages/{course}', page), 'w') as test_file:\n",
    "        test_file.write(data)\n",
    "\n",
    "    print(page, text)"
   ]
  },
  {
   "cell_type": "code",
   "execution_count": null,
   "metadata": {},
   "outputs": [
    {
     "name": "stdout",
     "output_type": "stream",
     "text": [
      "['section', 'Rigid Body Kinematics', 'rigid_body_kinematics']\n",
      "['subsection', 'Rigid bodies', 'rigid_bodies']\n",
      "['subsection', 'Rotating rigid bodies', 'rotating_rigid_bodies']\n",
      "['subsection', 'Points on rigid bodies', 'points_on_rigid_bodies']\n",
      "['subsection', 'Rigid bodies in 2D', 'rigid_bodies_in_2d']\n",
      "['subsection', 'Constrained motion', 'constrained_motion']\n",
      "['subsubsection', 'Constraint forces', 'constraint_forces']\n",
      "['subsection', 'Gears', 'gears']\n",
      "['subsubsection', 'Standard sign convention', 'standard_sign_convention']\n",
      "['subsubsection', 'Accelerations in contact (no slip)', 'accelerations_in_contact_(no_slip)']\n",
      "['subsection', 'Applications', 'applications']\n",
      "['subsubsection', 'Steering geometry', 'steering_geometry']\n",
      "['subsubsubsection', 'Turning rigid bodies', 'turning_rigid_bodies']\n",
      "['subsubsection', 'Knee Joint', 'knee_joint']\n",
      "['subsubsection', \"Suspensions with Watt's linkage\", \"suspensions_with_watt's_linkage\"]\n",
      "['subsubsection', 'Aerobie Orbiter', 'aerobie_orbiter']\n"
     ]
    }
   ],
   "source": [
    "course = 'dyn'\n",
    "page = 'rigid_body_kinematics.astro'\n",
    "\n",
    "with open(os.path.join(f'../src/pages/{course}', page)) as test_file:\n",
    "    data = test_file.read()\n",
    "\n",
    "soup = BeautifulSoup(data, \"html.parser\")\n",
    "\n",
    "sections = soup.find_all(['section', 'subsection', 'subsubsection', 'subsubsubsection'])\n",
    "\n",
    "sections_list = []\n",
    "\n",
    "for section in sections:\n",
    "    \n",
    "    try:\n",
    "        section['id'] = section.attrs['title'].replace(' ', '_').replace(':', '').lower()\n",
    "    except:\n",
    "        print(page)\n",
    "    print([section.name, section['title'], section['id']])\n",
    "\n",
    "    \n"
   ]
  },
  {
   "cell_type": "code",
   "execution_count": 54,
   "metadata": {},
   "outputs": [
    {
     "name": "stdout",
     "output_type": "stream",
     "text": [
      "['subsection', 'Units', 'units']\n",
      "['subsection', 'Stress under general loading conditions', 'stress_under_general_loading_conditions']\n",
      "['subsection', 'Support Reactions', 'support_reactions']\n",
      "['subsection', 'Allowable Strength Design', 'allowable_strength_design']\n",
      "['subsubsection', 'Stress Tensor', 'stress_tensor']\n",
      "['subsection', 'Support Reactions', 'support_reactions']\n",
      "['subsection', 'Allowable Strength Design', 'allowable_strength_design']\n"
     ]
    },
    {
     "data": {
      "text/plain": [
       "[['section', 'Stress', 'stress'],\n",
       " ['subsection', 'Units', 'units'],\n",
       " ['subsection',\n",
       "  'Stress under general loading conditions',\n",
       "  'stress_under_general_loading_conditions'],\n",
       " ['subsubsection',\n",
       "  'Average Normal Stress - Axial Loading',\n",
       "  'average_normal_stress_-_axial_loading'],\n",
       " ['subsubsection', 'Average Shear Stress', 'average_shear_stress'],\n",
       " ['subsubsection', 'Stress Tensor', 'stress_tensor'],\n",
       " ['subsection', 'Support Reactions', 'support_reactions'],\n",
       " ['subsection', 'Allowable Strength Design', 'allowable_strength_design']]"
      ]
     },
     "execution_count": 54,
     "metadata": {},
     "output_type": "execute_result"
    }
   ],
   "source": [
    "types = ['section', 'subsection', 'subsubsection', 'subsubsubsection']\n",
    "\n",
    "types.reverse()\n",
    "\n",
    "res = {t: [] for t in types}\n",
    "\n",
    "found = False\n",
    "skips = 0\n",
    "\n",
    "for t in types:\n",
    "    for i, vali in enumerate(sections_list):\n",
    "\n",
    "        if vali[0] == t:\n",
    "            for j, valj in enumerate(sections_list[i:]):\n",
    "                valid = True\n",
    "                #print(j+i, len(sections_list))\n",
    "                if valj[0] != t or j + i == len(sections_list) - 1:\n",
    "                    final_index = j+i+1 if j + i == len(sections_list) - 1 else j+i\n",
    "                    for r in res[t]:\n",
    "                        if i in r:\n",
    "                            valid = False\n",
    "                            break\n",
    "                    if valid:\n",
    "                        res[t].append([n for n in range(i, final_index)])\n",
    "                    #print(t, i, j)\n",
    "                    break\n",
    "\n",
    "types.reverse()\n",
    "\n",
    "children = {\n",
    "    'section': 'subsection',\n",
    "    'subsection': 'subsubsection',\n",
    "    'subsubsection': 'subsubsubsection',\n",
    "}\n",
    "\n",
    "html = ''\n",
    "\n",
    "\n",
    "\n",
    "for i, (t, name, id) in enumerate(sections_list):\n",
    "    if i == len(sections_list) - 1:\n",
    "        break\n",
    "\n",
    "    if sections_list[i+1][0] == children[t]:\n",
    "        for j, valj in enumerate(sections_list[i+1:]):\n",
    "            if sections_list[j+1][0] == children[t]:\n",
    "                print(valj)\n",
    "\n",
    "sections_list"
   ]
  },
  {
   "cell_type": "code",
   "execution_count": null,
   "metadata": {},
   "outputs": [],
   "source": [
    "cleaned = sorted([file.replace('.astro', '')  for file in os.listdir('../src/components') if '.astro' in file])\n",
    "cleaned.reverse()\n",
    "replacements = {clean.lower(): clean for clean in cleaned}\n",
    "\n",
    "for page in os.listdir('../src/pages/sol'):\n",
    "\n",
    "    if '_o.astro' in path:\n",
    "        continue\n",
    "\n",
    "    with open(os.path.join('../src/pages/sol', page)) as test_file:\n",
    "        data = test_file.read()\n",
    "\n",
    "    soup = BeautifulSoup(data, \"html.parser\")\n",
    "\n",
    "    sections = soup.find_all(['section', 'subsection', 'subsubsection', 'subsubsubsection'])\n",
    "\n",
    "    sections_list = []\n",
    "\n",
    "    for section in sections:\n",
    "        section['id'] = section.attrs['title'].replace(' ', '_').replace(':', '').lower()\n",
    "\n",
    "        sections_list.append([section.name, section['title'], section['id']])\n",
    "\n",
    "    json_path = os.path.join('../public/sol/trees', page.replace('_o.astro', '.json'))\n",
    "    json.dump(sections_list, open(json_path, 'w'), indent=2)\n",
    "\n",
    "    for section in sections:\n",
    "        section['id'] = section.attrs['title'].replace(' ', '_').replace(':', '').replace(\"'\", '').lower()\n",
    "\n",
    "    with open(os.path.join('../src/pages/sol', page.replace('_o.astro', '.astro')), 'w') as dump_file:\n",
    "        string = str(soup)\n",
    "        \n",
    "        for wrong, correct in replacements.items():\n",
    "            string = string.replace(wrong, correct)\n",
    "        string = string.replace('<layout', '<Layout').replace('</layout', '</Layout').replace('></InlineEquation>' , ' />')\n",
    "        dump_file.write(string)"
   ]
  },
  {
   "cell_type": "code",
   "execution_count": null,
   "metadata": {},
   "outputs": [],
   "source": [
    "cleaned = sorted([file.replace('.astro', '')  for file in os.listdir('../src/components') if '.astro' in file])\n",
    "cleaned.reverse()\n",
    "replacements = {clean.lower(): clean for clean in cleaned}"
   ]
  },
  {
   "cell_type": "code",
   "execution_count": 13,
   "metadata": {},
   "outputs": [
    {
     "data": {
      "text/plain": [
       "{'warning': 'Warning',\n",
       " 'subsubsubsection': 'SubSubSubSection',\n",
       " 'subsubsection': 'SubSubSection',\n",
       " 'subsection': 'SubSection',\n",
       " 'sidebarcontainer': 'SidebarContainer',\n",
       " 'section': 'Section',\n",
       " 'searchbar': 'Searchbar',\n",
       " 'row': 'Row',\n",
       " 'redtext': 'RedText',\n",
       " 'prairiedrawcanvas': 'PrairieDrawCanvas',\n",
       " 'navbar': 'Navbar',\n",
       " 'navtree': 'NavTree',\n",
       " 'latex': 'Latex',\n",
       " 'itemize': 'Itemize',\n",
       " 'item': 'Item',\n",
       " 'inlineequation': 'InlineEquation',\n",
       " 'image': 'Image',\n",
       " 'example': 'Example',\n",
       " 'enumerate': 'Enumerate',\n",
       " 'displayequationcustom': 'DisplayEquationCustom',\n",
       " 'displayequation': 'DisplayEquation',\n",
       " 'col': 'Col',\n",
       " 'center': 'Center',\n",
       " 'calloutcontainer': 'CalloutContainer',\n",
       " 'calloutcard': 'CalloutCard',\n",
       " 'bluetext': 'BlueText'}"
      ]
     },
     "execution_count": 13,
     "metadata": {},
     "output_type": "execute_result"
    }
   ],
   "source": [
    "replacements"
   ]
  },
  {
   "cell_type": "code",
   "execution_count": null,
   "metadata": {},
   "outputs": [],
   "source": []
  }
 ],
 "metadata": {
  "kernelspec": {
   "display_name": "Python 3",
   "language": "python",
   "name": "python3"
  },
  "language_info": {
   "codemirror_mode": {
    "name": "ipython",
    "version": 3
   },
   "file_extension": ".py",
   "mimetype": "text/x-python",
   "name": "python",
   "nbconvert_exporter": "python",
   "pygments_lexer": "ipython3",
   "version": "3.11.9"
  }
 },
 "nbformat": 4,
 "nbformat_minor": 2
}
