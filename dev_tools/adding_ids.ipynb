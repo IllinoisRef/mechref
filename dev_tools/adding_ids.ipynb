{
 "cells": [
  {
   "cell_type": "code",
   "execution_count": 2,
   "metadata": {},
   "outputs": [],
   "source": [
    "from bs4 import BeautifulSoup\n",
    "import os\n",
    "import json\n",
    "import shutil"
   ]
  },
  {
   "cell_type": "code",
   "execution_count": null,
   "metadata": {},
   "outputs": [
    {
     "name": "stdout",
     "output_type": "stream",
     "text": [
      "[['section', 'Contact and Rolling', 'contact_and_rolling'], ['subsection', 'Rolling motion', 'rolling_motion'], ['subsubsection', 'Rolling on a flat surface', 'rolling_on_a_flat_surface'], ['subsubsection', 'Rolling on curved surfaces', 'rolling_on_curved_surfaces'], ['subsection', 'Applications', 'applications'], ['subsubsection', 'Bearings', 'bearings']]\n",
      "[['section', 'Particle Kinematics', 'particle_kinematics'], ['subsection', 'Position vectors', 'position_vectors'], ['subsubsection', 'Transformation of position vectors', 'transformation_of_position_vectors'], ['subsection', 'Velocity and acceleration vectors', 'velocity_and_acceleration_vectors'], ['subsubsection', 'Velocity and acceleration in Cartesian basis', 'velocity_and_acceleration_in_cartesian_basis'], ['subsubsection', 'Velocity and acceleration in Polar basis', 'velocity_and_acceleration_in_polar_basis'], ['subsubsection', 'Summary table', 'summary_table'], ['subsection', 'Rotating frames', 'rotating_frames'], ['subsubsection', 'Angular velocity', 'angular_velocity'], ['subsubsection', 'Vector derivatives and rotations', 'vector_derivatives_and_rotations'], ['subsubsection', 'Rotations in 2D', 'rotations_in_2d'], ['subsubsection', 'Rotations and vector “positions”', 'rotations_and_vector_“positions”'], ['subsubsection', 'Properties of rotations', 'properties_of_rotations'], ['subsubsection', 'Rodrigues’ rotation formula', 'rodrigues’_rotation_formula'], ['subsubsection', 'Angular acceleration', 'angular_acceleration'], ['subsection', 'Tangential and Normal basis', 'tangential_and_normal_basis'], ['subsubsection', 'Normal basis', 'normal_basis'], ['subsubsection', 'Curvature and torsion', 'curvature_and_torsion'], ['subsubsection', 'Basis derivatives and angular velocity', 'basis_derivatives_and_angular_velocity'], ['subsubsection', 'Normal and Tangential kinematics', 'normal_and_tangential_kinematics'], ['subsubsection', 'Tangent lines and osculating circles', 'tangent_lines_and_osculating_circles'], ['subsection', 'Curvature on curves ', 'curvature_on_curves_'], ['subsubsection', 'System comparison: Cartesian/Polar/Tangent-Normal', 'system_comparison_cartesian/polar/tangent-normal'], ['subsection', 'Applications', 'applications'], ['subsubsection', 'Celestial velocities', 'celestial_velocities'], ['subsubsubsection', 'Periods of rotation', 'periods_of_rotation'], ['subsubsubsection', 'Solar and sidereal time', 'solar_and_sidereal_time'], ['subsubsection', 'Track transition curves', 'track_transition_curves'], ['subsubsubsection', 'Circular arcs for transition curves', 'circular_arcs_for_transition_curves'], ['subsubsubsection', 'Smooth transition curves with Euler spirals', 'smooth_transition_curves_with_euler_spirals'], ['subsubsubsection', 'Euler spiral equation', 'euler_spiral_equation'], ['subsubsection', 'Train wheels', 'train_wheels'], ['subsubsection', 'Variable inertia flywheel', 'variable_inertia_flywheel'], ['subsubsection', 'Roller coaster', 'roller_coaster']]\n",
      "[['section', 'Rigid Body Kinematics', 'rigid_body_kinematics'], ['subsection', 'Rigid bodies', 'rigid_bodies'], ['subsection', 'Rotating rigid bodies', 'rotating_rigid_bodies'], ['subsection', 'Points on rigid bodies', 'points_on_rigid_bodies'], ['subsection', 'Rigid bodies in 2D', 'rigid_bodies_in_2d'], ['subsection', 'Constrained motion', 'constrained_motion'], ['subsubsection', 'Constraint forces', 'constraint_forces'], ['subsection', 'Gears', 'gears'], ['subsubsection', 'Standard sign convention', 'standard_sign_convention'], ['subsubsection', 'Accelerations in contact (no slip)', 'accelerations_in_contact_(no_slip)'], ['subsection', 'Applications', 'applications'], ['subsubsection', 'Steering geometry', 'steering_geometry'], ['subsubsubsection', 'Turning rigid bodies', 'turning_rigid_bodies'], ['subsubsection', 'Knee Joint', 'knee_joint'], ['subsubsection', \"Suspensions with Watt's linkage\", \"suspensions_with_watt's_linkage\"], ['subsubsection', 'Aerobie Orbiter', 'aerobie_orbiter']]\n",
      "[['section', 'Vector Calculus', 'vector_calculus'], ['subsection', 'Dot product', 'dot_product'], ['subsubsection', 'Dot product identities', 'dot_product_identities'], ['subsection', 'Cross product', 'cross_product'], ['subsubsection', 'Cross product identities', 'cross_product_identities'], ['subsection', 'Derivatives', 'derivatives'], ['subsubsection', 'Newton versus Leibniz Notation', 'newton_versus_leibniz_notation'], ['subsection', 'Derivatives and vector \"positions\"', 'derivatives_and_vector_\"positions\"'], ['subsubsection', 'Cartesian', 'cartesian'], ['subsubsection', 'Non-Cartesian: Polar basis', 'non-cartesian_polar_basis'], ['subsection', 'Chain rule', 'chain_rule'], ['subsection', 'Integration', 'integration'], ['subsubsection', 'Cartesian basis', 'cartesian_basis'], ['subsubsection', 'Polar basis', 'polar_basis'], ['subsection', 'Solving equations', 'solving_equations']]\n",
      "[['section', 'Vectors', 'vectors'], ['subsection', 'Notation', 'notation'], ['subsection', 'Cartesian coordinate system', 'cartesian_coordinate_system'], ['subsection', 'Polar coordinate system', 'polar_coordinate_system'], ['subsection', 'Units', 'units'], ['subsection', 'Unit vectors', 'unit_vectors'], ['subsection', 'Vectors bases', 'vectors_bases'], ['subsubsection', 'Length of vectors', 'length_of_vectors'], ['subsection', 'Changing bases', 'changing_bases'], ['subsection', 'Projection and complementary projection', 'projection_and_complementary_projection'], ['subsection', 'Change in length and direction', 'change_in_length_and_direction'], ['subsection', 'Spherical Coordinates', 'spherical_coordinates'], ['subsection', 'Cylindrical Coordinates', 'cylindrical_coordinates'], ['subsection', 'Applications', 'applications'], ['subsubsection', 'Haystack antenna', 'haystack_antenna'], ['subsubsection', 'Shortest flight paths', 'shortest_flight_paths'], ['subsubsubsection', 'Shortest paths on the sphere', 'shortest_paths_on_the_sphere'], ['subsubsubsection', 'Proof that great circles are shortest paths', 'proof_that_great_circles_are_shortest_paths']]\n",
      "[['section', 'Work and Energy', 'work_and_energy'], ['subsection', 'Energy', 'energy'], ['subsubsection', 'Potential Energy', 'potential_energy'], ['subsubsection', 'Kinetic Energy', 'kinetic_energy'], ['subsubsection', 'Summary', 'summary'], ['subsection', 'Work', 'work'], ['subsubsection', 'Work and Energy', 'work_and_energy'], ['subsubsection', 'Work done by a Force', 'work_done_by_a_force'], ['subsubsection', 'Conservative vs Non-conservative forces', 'conservative_vs_non-conservative_forces'], ['subsubsection', 'Work done by Friction', 'work_done_by_friction'], ['subsubsection', 'Work done by a Moment', 'work_done_by_a_moment'], ['subsection', 'Friction', 'friction'], ['subsubsection', 'Stick, Transition, Slip', 'stick,_transition,_slip'], ['subsubsection', 'Solution procedure', 'solution_procedure'], ['subsection', 'Momentum', 'momentum'], ['subsection', 'Impulse', 'impulse'], ['subsection', 'Collisions', 'collisions'], ['subsection', 'Applications', 'applications'], ['subsubsection', 'Wind Turbine', 'wind_turbine'], ['subsubsection', 'Race Cars', 'race_cars']]\n",
      "[['section', 'Particle Kinetics', 'particle_kinetics'], ['subsection', 'Classical mechanics', 'classical_mechanics'], ['subsubsection', 'Method of assumed forces and method of assumed motion', 'method_of_assumed_forces_and_method_of_assumed_motion'], ['subsubsection', 'Solution steps', 'solution_steps'], ['subsection', 'Numerical integration', 'numerical_integration'], ['subsection', 'Applications', 'applications'], ['subsubsection', 'Accelerating and braking', 'accelerating_and_braking'], ['subsubsection', 'Banked turns', 'banked_turns'], ['subsubsubsection', 'Track geometry', 'track_geometry'], ['subsubsubsection', 'Point mass model', 'point_mass_model'], ['subsubsubsection', '2D Rigid body model', '2d_rigid_body_model'], ['subsubsubsection', 'Design of roads, tracks, and rail', 'design_of_roads,_tracks,_and_rail'], ['subsubsubsection', 'Bus model', 'bus_model'], ['subsubsection', 'Projectiles with air resistance', 'projectiles_with_air_resistance'], ['subsubsubsection', 'Drag forces and drag coefficients', 'drag_forces_and_drag_coefficients'], ['subsubsubsection', 'Drag coefficients as a function of Reynolds number', 'drag_coefficients_as_a_function_of_reynolds_number'], ['subsubsubsection', 'Quadratic drag model', 'quadratic_drag_model'], ['subsubsection', 'Kiiking', 'kiiking']]\n",
      "[['section', 'Rigid Body Kinetics', 'rigid_body_kinetics'], ['subsection', 'Center of mass (COM)', 'center_of_mass_(com)'], ['subsubsection', 'Recap', 'recap'], ['subsubsection', 'Basic Shapes', 'basic_shapes'], ['subsubsection', 'Simplified shapes', 'simplified_shapes'], ['subsection', 'Moment of Inertia', 'moment_of_inertia'], ['subsubsection', 'Parallel axis theorem', 'parallel_axis_theorem'], ['subsubsection', 'Additive theorem', 'additive_theorem'], ['subsubsection', 'Basic shapes', 'basic_shapes'], ['subsubsection', 'Simplified shapes', 'simplified_shapes'], ['subsection', 'Instantaneous center (M)', 'instantaneous_center_(m)'], ['subsubsection', ' Graphical rules for finding M', '_graphical_rules_for_finding_m'], ['subsection', 'Applications', 'applications'], ['subsubsection', 'Accelerating and braking', 'accelerating_and_braking'], ['subsubsubsection', '2D rigid body model', '2d_rigid_body_model'], ['subsubsubsection', 'Traction, acceleration, and braking', 'traction,_acceleration,_and_braking'], ['subsubsubsection', 'Traction, acceleration, and braking', 'traction,_acceleration,_and_braking'], ['subsubsubsection', 'More complex models', 'more_complex_models'], ['subsubsubsection', 'Brake system design', 'brake_system_design'], ['subsubsubsection', 'Car model', 'car_model'], ['subsubsection', 'Banked turns', 'banked_turns'], ['subsubsubsection', '2D Rigid body model', '2d_rigid_body_model'], ['subsubsubsection', 'Design of roads, tracks, and rail', 'design_of_roads,_tracks,_and_rail'], ['subsubsubsection', 'Bus model', 'bus_model'], ['subsubsection', 'Cargo Ships', 'cargo_ships'], ['subsubsection', 'Tuned Mass Damper', 'tuned_mass_damper']]\n"
     ]
    }
   ],
   "source": [
    "course = 'dyn'\n",
    "\n",
    "for page in os.listdir(f'../src/pages/{course}'):\n",
    "    with open(os.path.join(f'../src/pages/{course}', page)) as test_file:\n",
    "        data = test_file.read()\n",
    "\n",
    "    soup = BeautifulSoup(data, \"html.parser\")\n",
    "\n",
    "    sections = soup.find_all(['section', 'subsection', 'subsubsection', 'subsubsubsection'])\n",
    "\n",
    "    sections_list = []\n",
    "\n",
    "    for section in sections:\n",
    "        try:\n",
    "            section['id'] = section.attrs['title'].replace(' ', '_').replace(':', '').lower()\n",
    "        except:\n",
    "            print(page)\n",
    "        sections_list.append([section.name, section['title'], section['id']])\n",
    "        \n",
    "    print(sections_list) "
   ]
  },
  {
   "cell_type": "code",
   "execution_count": null,
   "metadata": {},
   "outputs": [
    {
     "name": "stdout",
     "output_type": "stream",
     "text": [
      "['section', 'Rigid Body Kinematics', 'rigid_body_kinematics']\n",
      "['subsection', 'Rigid bodies', 'rigid_bodies']\n",
      "['subsection', 'Rotating rigid bodies', 'rotating_rigid_bodies']\n",
      "['subsection', 'Points on rigid bodies', 'points_on_rigid_bodies']\n",
      "['subsection', 'Rigid bodies in 2D', 'rigid_bodies_in_2d']\n",
      "['subsection', 'Constrained motion', 'constrained_motion']\n",
      "['subsubsection', 'Constraint forces', 'constraint_forces']\n",
      "['subsection', 'Gears', 'gears']\n",
      "['subsubsection', 'Standard sign convention', 'standard_sign_convention']\n",
      "['subsubsection', 'Accelerations in contact (no slip)', 'accelerations_in_contact_(no_slip)']\n",
      "['subsection', 'Applications', 'applications']\n",
      "['subsubsection', 'Steering geometry', 'steering_geometry']\n",
      "['subsubsubsection', 'Turning rigid bodies', 'turning_rigid_bodies']\n",
      "['subsubsection', 'Knee Joint', 'knee_joint']\n",
      "['subsubsection', \"Suspensions with Watt's linkage\", \"suspensions_with_watt's_linkage\"]\n",
      "['subsubsection', 'Aerobie Orbiter', 'aerobie_orbiter']\n"
     ]
    }
   ],
   "source": [
    "course = 'dyn'\n",
    "page = 'rigid_body_kinematics.astro'\n",
    "\n",
    "with open(os.path.join(f'../src/pages/{course}', page)) as test_file:\n",
    "    data = test_file.read()\n",
    "\n",
    "soup = BeautifulSoup(data, \"html.parser\")\n",
    "\n",
    "sections = soup.find_all(['section', 'subsection', 'subsubsection', 'subsubsubsection'])\n",
    "\n",
    "sections_list = []\n",
    "\n",
    "for section in sections:\n",
    "    \n",
    "    try:\n",
    "        section['id'] = section.attrs['title'].replace(' ', '_').replace(':', '').lower()\n",
    "    except:\n",
    "        print(page)\n",
    "    print([section.name, section['title'], section['id']])\n",
    "\n",
    "    \n"
   ]
  },
  {
   "cell_type": "code",
   "execution_count": 54,
   "metadata": {},
   "outputs": [
    {
     "name": "stdout",
     "output_type": "stream",
     "text": [
      "['subsection', 'Units', 'units']\n",
      "['subsection', 'Stress under general loading conditions', 'stress_under_general_loading_conditions']\n",
      "['subsection', 'Support Reactions', 'support_reactions']\n",
      "['subsection', 'Allowable Strength Design', 'allowable_strength_design']\n",
      "['subsubsection', 'Stress Tensor', 'stress_tensor']\n",
      "['subsection', 'Support Reactions', 'support_reactions']\n",
      "['subsection', 'Allowable Strength Design', 'allowable_strength_design']\n"
     ]
    },
    {
     "data": {
      "text/plain": [
       "[['section', 'Stress', 'stress'],\n",
       " ['subsection', 'Units', 'units'],\n",
       " ['subsection',\n",
       "  'Stress under general loading conditions',\n",
       "  'stress_under_general_loading_conditions'],\n",
       " ['subsubsection',\n",
       "  'Average Normal Stress - Axial Loading',\n",
       "  'average_normal_stress_-_axial_loading'],\n",
       " ['subsubsection', 'Average Shear Stress', 'average_shear_stress'],\n",
       " ['subsubsection', 'Stress Tensor', 'stress_tensor'],\n",
       " ['subsection', 'Support Reactions', 'support_reactions'],\n",
       " ['subsection', 'Allowable Strength Design', 'allowable_strength_design']]"
      ]
     },
     "execution_count": 54,
     "metadata": {},
     "output_type": "execute_result"
    }
   ],
   "source": [
    "types = ['section', 'subsection', 'subsubsection', 'subsubsubsection']\n",
    "\n",
    "types.reverse()\n",
    "\n",
    "res = {t: [] for t in types}\n",
    "\n",
    "found = False\n",
    "skips = 0\n",
    "\n",
    "for t in types:\n",
    "    for i, vali in enumerate(sections_list):\n",
    "\n",
    "        if vali[0] == t:\n",
    "            for j, valj in enumerate(sections_list[i:]):\n",
    "                valid = True\n",
    "                #print(j+i, len(sections_list))\n",
    "                if valj[0] != t or j + i == len(sections_list) - 1:\n",
    "                    final_index = j+i+1 if j + i == len(sections_list) - 1 else j+i\n",
    "                    for r in res[t]:\n",
    "                        if i in r:\n",
    "                            valid = False\n",
    "                            break\n",
    "                    if valid:\n",
    "                        res[t].append([n for n in range(i, final_index)])\n",
    "                    #print(t, i, j)\n",
    "                    break\n",
    "\n",
    "types.reverse()\n",
    "\n",
    "children = {\n",
    "    'section': 'subsection',\n",
    "    'subsection': 'subsubsection',\n",
    "    'subsubsection': 'subsubsubsection',\n",
    "}\n",
    "\n",
    "html = ''\n",
    "\n",
    "\n",
    "\n",
    "for i, (t, name, id) in enumerate(sections_list):\n",
    "    if i == len(sections_list) - 1:\n",
    "        break\n",
    "\n",
    "    if sections_list[i+1][0] == children[t]:\n",
    "        for j, valj in enumerate(sections_list[i+1:]):\n",
    "            if sections_list[j+1][0] == children[t]:\n",
    "                print(valj)\n",
    "\n",
    "sections_list"
   ]
  },
  {
   "cell_type": "code",
   "execution_count": null,
   "metadata": {},
   "outputs": [],
   "source": [
    "cleaned = sorted([file.replace('.astro', '')  for file in os.listdir('../src/components') if '.astro' in file])\n",
    "cleaned.reverse()\n",
    "replacements = {clean.lower(): clean for clean in cleaned}\n",
    "\n",
    "for page in os.listdir('../src/pages/sol'):\n",
    "\n",
    "    if '_o.astro' in path:\n",
    "        continue\n",
    "\n",
    "    with open(os.path.join('../src/pages/sol', page)) as test_file:\n",
    "        data = test_file.read()\n",
    "\n",
    "    soup = BeautifulSoup(data, \"html.parser\")\n",
    "\n",
    "    sections = soup.find_all(['section', 'subsection', 'subsubsection', 'subsubsubsection'])\n",
    "\n",
    "    sections_list = []\n",
    "\n",
    "    for section in sections:\n",
    "        section['id'] = section.attrs['title'].replace(' ', '_').replace(':', '').lower()\n",
    "\n",
    "        sections_list.append([section.name, section['title'], section['id']])\n",
    "\n",
    "    json_path = os.path.join('../public/sol/trees', page.replace('_o.astro', '.json'))\n",
    "    json.dump(sections_list, open(json_path, 'w'), indent=2)\n",
    "\n",
    "    for section in sections:\n",
    "        section['id'] = section.attrs['title'].replace(' ', '_').replace(':', '').replace(\"'\", '').lower()\n",
    "\n",
    "    with open(os.path.join('../src/pages/sol', page.replace('_o.astro', '.astro')), 'w') as dump_file:\n",
    "        string = str(soup)\n",
    "        \n",
    "        for wrong, correct in replacements.items():\n",
    "            string = string.replace(wrong, correct)\n",
    "        string = string.replace('<layout', '<Layout').replace('</layout', '</Layout').replace('></InlineEquation>' , ' />')\n",
    "        dump_file.write(string)"
   ]
  },
  {
   "cell_type": "code",
   "execution_count": null,
   "metadata": {},
   "outputs": [],
   "source": [
    "cleaned = sorted([file.replace('.astro', '')  for file in os.listdir('../src/components') if '.astro' in file])\n",
    "cleaned.reverse()\n",
    "replacements = {clean.lower(): clean for clean in cleaned}"
   ]
  },
  {
   "cell_type": "code",
   "execution_count": 13,
   "metadata": {},
   "outputs": [
    {
     "data": {
      "text/plain": [
       "{'warning': 'Warning',\n",
       " 'subsubsubsection': 'SubSubSubSection',\n",
       " 'subsubsection': 'SubSubSection',\n",
       " 'subsection': 'SubSection',\n",
       " 'sidebarcontainer': 'SidebarContainer',\n",
       " 'section': 'Section',\n",
       " 'searchbar': 'Searchbar',\n",
       " 'row': 'Row',\n",
       " 'redtext': 'RedText',\n",
       " 'prairiedrawcanvas': 'PrairieDrawCanvas',\n",
       " 'navbar': 'Navbar',\n",
       " 'navtree': 'NavTree',\n",
       " 'latex': 'Latex',\n",
       " 'itemize': 'Itemize',\n",
       " 'item': 'Item',\n",
       " 'inlineequation': 'InlineEquation',\n",
       " 'image': 'Image',\n",
       " 'example': 'Example',\n",
       " 'enumerate': 'Enumerate',\n",
       " 'displayequationcustom': 'DisplayEquationCustom',\n",
       " 'displayequation': 'DisplayEquation',\n",
       " 'col': 'Col',\n",
       " 'center': 'Center',\n",
       " 'calloutcontainer': 'CalloutContainer',\n",
       " 'calloutcard': 'CalloutCard',\n",
       " 'bluetext': 'BlueText'}"
      ]
     },
     "execution_count": 13,
     "metadata": {},
     "output_type": "execute_result"
    }
   ],
   "source": [
    "replacements"
   ]
  },
  {
   "cell_type": "code",
   "execution_count": null,
   "metadata": {},
   "outputs": [],
   "source": []
  }
 ],
 "metadata": {
  "kernelspec": {
   "display_name": "Python 3",
   "language": "python",
   "name": "python3"
  },
  "language_info": {
   "codemirror_mode": {
    "name": "ipython",
    "version": 3
   },
   "file_extension": ".py",
   "mimetype": "text/x-python",
   "name": "python",
   "nbconvert_exporter": "python",
   "pygments_lexer": "ipython3",
   "version": "3.10.15"
  }
 },
 "nbformat": 4,
 "nbformat_minor": 2
}
