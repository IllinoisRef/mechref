{
 "cells": [
  {
   "cell_type": "code",
   "execution_count": 2,
   "metadata": {},
   "outputs": [],
   "source": []
  },
  {
   "cell_type": "code",
   "execution_count": null,
   "metadata": {},
   "outputs": [],
   "source": [
    "import json\n",
    "import shutil\n",
    "\n",
    "data = json.load(open('../logs/vec_calc.har'))['log']['entries']\n",
    "\n",
    "page = 'vector_calculus'\n",
    "course = 'dyn'"
   ]
  },
  {
   "cell_type": "code",
   "execution_count": null,
   "metadata": {},
   "outputs": [
    {
     "name": "stdout",
     "output_type": "stream",
     "text": [
      "https://www.mechref.org/dyn/VectorCalculusFigures/Graphical%20Estimation%20of%20Derivatives.png\n",
      "[Errno 2] No such file or directory: './dyn/text/https://www.mechref.org/dyn/VectorCalculusFigures/Graphical%20Estimation%20of%20Derivatives.png'\n",
      "https://www.mechref.org/dyn/VectorCalculusFigures/PolarIntegration.png\n",
      "[Errno 2] No such file or directory: './dyn/text/https://www.mechref.org/dyn/VectorCalculusFigures/PolarIntegration.png'\n",
      "https://www.mechref.org/dyn/VectorCalculusFigures/SolvingEqns.png\n",
      "[Errno 2] No such file or directory: './dyn/text/https://www.mechref.org/dyn/VectorCalculusFigures/SolvingEqns.png'\n",
      "https://www.mechref.org/dyn/VectorCalculusFigures/SolvingEqns2.png\n",
      "[Errno 2] No such file or directory: './dyn/text/https://www.mechref.org/dyn/VectorCalculusFigures/SolvingEqns2.png'\n",
      "001fe9df9979422f039d5465579326959eb86c16.png\n",
      "ffa9b4c31668cbee7b69c548c2e7c59e23882c8e.png\n",
      "52e8ed7a3ba22130ad3984eb2cd413406475a689.png\n",
      "6f00083262250566456dd7ced2b2b4a10fb67db6.png\n",
      "67330642f5ab85b55abe4e119d7a1d421d6fb2d8.png\n",
      "eeff6933c9279ee3fa9a89ac327909a7fd3c0e8f.png\n",
      "c3b674e8ff5b70f0d1bd37d0d39760aa54502408.png\n",
      "a508dbe083ffa1c6f2f48b56a63cef6f0e25564e.png\n",
      "2eb8edb9d914709a1348cbc75b722a5b513a30fa.png\n",
      "40e9d95bf9ff5711105327037bc1464a46e7a265.png\n",
      "c7f20848158fa0d28e15563134217774d04c0299.png\n",
      "ed934fb176e9e353ee6c0edbd6045bc41c4a94a9.png\n",
      "e0d2bf360290fd61d1c1557e763f2622363b3d35.png\n",
      "24d8d355c0be2f195e27c2295f8e2b00e95b0934.png\n",
      "7d5cb56f328826c2aa35ef7b56efe3fe17831019.png\n",
      "1ab39d761413804680d26d972381f028001562f5.png\n",
      "5e97a8af68fbc8e357d3ee0eba452022b06c1875.png\n",
      "69fc4b9ed6d75d026557e7b06c2ed483c6ed0eda.png\n",
      "93b7aa611365e135f58aa09d52043ecd34855fe4.png\n",
      "8a3cd2094694a3aff66098d91952f04770557f2f.png\n",
      "4fd34753d39e8c5583a04d987ed0b1da435f28b7.png\n",
      "b3e812911eb50285f6dde21bf4d30b7d62ab0ec7.png\n",
      "000879b341ae1a8774ce8e60591dfdeb50923d08.png\n",
      "f393f1c3a9cc3ee0542710ec46f3e0039652ba89.png\n",
      "66258cd9bf940a9391258150e32df770b1c8492b.png\n",
      "74354dac27b49032969564b9f62dd62e72bf2284.png\n",
      "0feedadf711df99e7574a48eed8b377ef4702add.png\n",
      "66258cd9bf940a9391258150e32df770b1c8492b.png\n",
      "412787c048e28774dc63fc27db42dc52ca858de7.png\n",
      "f632147eb0df3bf71d0eb13e17167f5b4ee84ba6.png\n",
      "5992e1682ac83a9f617ea849ca2c2d6830e969d5.png\n",
      "0785f19824c8b23ab3dfe000b471994078fdf589.png\n",
      "99d2ec6abea678ae237e87ec38d9b4b013608bc4.png\n",
      "3b4bda7ecf8931ba277d23b9b469706707ef31e6.png\n",
      "61d2cbd00d5ab1701f3a0d7dd3643fd0ac153b74.png\n",
      "6acf4e746f6e5e5c882f33e688fb76431b8d53a2.png\n",
      "f9eb89b1268b1e4fd25622e4e3cfbd748abe5826.png\n",
      "301eb6fa160f6ec7feac48aa1bb61c1bab7d3a3b.png\n",
      "29e3f505b4df120e411d60f8ecb484a85eafb3c2.png\n",
      "157b10d93d218201d6cd381d94fd96b97dda1383.png\n",
      "d69d37d374a62dec0c77877a9f4486317a65d7ed.png\n"
     ]
    }
   ],
   "source": [
    "for request in data:\n",
    "    if request['response']['content']['mimeType'] == 'image/png' or request['response']['status'] == 404:\n",
    "        filename = request['request']['url'].replace(f'https://www.mechref.org/{course}/{page}/text/', '').replace(f'http://localhost:4321/{course}/text/', '')\n",
    "        print(filename)\n",
    "        try:\n",
    "            shutil.copy(f'../dyn/text/{filename}', f'../public/{course}/{page}/text/{filename}')\n",
    "        except FileNotFoundError as e:\n",
    "            print(e)"
   ]
  },
  {
   "cell_type": "code",
   "execution_count": 10,
   "metadata": {},
   "outputs": [
    {
     "name": "stdout",
     "output_type": "stream",
     "text": [
      "<tr>\n",
      "\t<td>Air</td>\n",
      "\t<td> 28.97</td>\n",
      "</tr>\n",
      "<tr>\n",
      "\t<td>Carbon dioxide CO<InlineEquation equation=\"_2\" /></td>\n",
      "\t<td> 44.01</td>\n",
      "</tr>\n",
      "<tr>\n",
      "\t<td>Ethane C<InlineEquation equation=\"_2\" />H<InlineEquation equation=\"_6\" /></td>\n",
      "\t<td> 30.07</td>\n",
      "</tr>\n",
      "<tr>\n",
      "\t<td>Hydrogen H<InlineEquation equation=\"_2\" /></td>\n",
      "\t<td> 2.01</td>\n",
      "</tr>\n",
      "<tr>\n",
      "\t<td>Methane CH<InlineEquation equation=\"_4\" /></td>\n",
      "\t<td> 16.04</td>\n",
      "</tr>\n",
      "<tr>\n",
      "\t<td>Nitrogen N<InlineEquation equation=\"_2\" /></td>\n",
      "\t<td> 28.01</td>\n",
      "</tr>\n",
      "<tr>\n",
      "\t<td>Oxygen O<InlineEquation equation=\"_2\" /></td>\n",
      "\t<td> 32.00</td>\n",
      "</tr>\n",
      "<tr>\n",
      "\t<td>Refrigerant 22</td>\n",
      "\t<td> 86.48</td>\n",
      "</tr>\n",
      "<tr>\n",
      "\t<td>Refrigerant 134a</td>\n",
      "\t<td> 102.3</td>\n",
      "</tr>\n",
      "<tr>\n",
      "\t<td>Water H<InlineEquation equation=\"_2\" />O</td>\n",
      "\t<td> 18.015</td>\n",
      "</tr>\n"
     ]
    }
   ],
   "source": [
    "str=\"\"\"<Item>Air- 28.97</Item>\n",
    "<Item>Carbon dioxide CO<InlineEquation equation=\"_2\" />- 44.01</Item>\n",
    "<Item>Ethane C<InlineEquation equation=\"_2\" />H<InlineEquation equation=\"_6\" />- 30.07</Item>\n",
    "<Item>Hydrogen H<InlineEquation equation=\"_2\" />- 2.01</Item>\n",
    "<Item>Methane CH<InlineEquation equation=\"_4\" />- 16.04</Item>\n",
    "<Item>Nitrogen N<InlineEquation equation=\"_2\" />- 28.01</Item>\n",
    "<Item>Oxygen O<InlineEquation equation=\"_2\" />- 32.00</Item>\n",
    "<Item>Refrigerant 22- 86.48</Item>\n",
    "<Item>Refrigerant 134a- 102.3</Item>\n",
    "<Item>Water H<InlineEquation equation=\"_2\" />O- 18.015</Item>\"\"\"\n",
    "\n",
    "sp = str.split('\\n')\n",
    "\n",
    "clean = ['<tr>\\n\\t<td>' + \"</td>\\n\\t<td>\".join(s.replace('<Item>', '').replace('</Item>', '').split('-')) + \"</td>\\n</tr>\" for s in sp]\n",
    "\n",
    "print(\"\\n\".join(clean))"
   ]
  },
  {
   "cell_type": "code",
   "execution_count": null,
   "metadata": {},
   "outputs": [],
   "source": []
  }
 ],
 "metadata": {
  "kernelspec": {
   "display_name": "Python 3",
   "language": "python",
   "name": "python3"
  },
  "language_info": {
   "codemirror_mode": {
    "name": "ipython",
    "version": 3
   },
   "file_extension": ".py",
   "mimetype": "text/x-python",
   "name": "python",
   "nbconvert_exporter": "python",
   "pygments_lexer": "ipython3",
   "version": "3.10.15"
  }
 },
 "nbformat": 4,
 "nbformat_minor": 2
}
