{
 "cells": [
  {
   "cell_type": "code",
   "execution_count": 3,
   "metadata": {},
   "outputs": [],
   "source": [
    "import re\n",
    "import os"
   ]
  },
  {
   "cell_type": "code",
   "execution_count": 51,
   "metadata": {},
   "outputs": [],
   "source": [
    "course_titles = {\n",
    "    'sta': 'Statics',\n",
    "    'dyn': 'Dynamics',\n",
    "    'mf': 'Machine failure',\n",
    "    'md': \"Mechanism design\",\n",
    "    'thermodynamics': \"Thermodynamics\"\n",
    "}\n",
    "\n",
    "for course in ['sta', 'dyn', 'mf', 'thermodynamics']:\n",
    "    cpath = os.path.join('../src/pages', course)\n",
    "\n",
    "    course_pages = os.listdir(cpath)\n",
    "\n",
    "    navtree = ''\n",
    "    simp_list = ''\n",
    "\n",
    "    for p in course_pages:\n",
    "        with open(os.path.join(cpath, p), 'r') as f:\n",
    "            data = f.read()\n",
    "\n",
    "        pattern = r'<div\\s+slot=\"navtree\">(.*?)</div>'\n",
    "        match = re.search(pattern, data, re.DOTALL)\n",
    "\n",
    "        if match:\n",
    "            content = match.group(1).strip()\n",
    "\n",
    "        content = content.replace(\"href='#\", f\"href='/{course}/{p.replace('.astro', '')}#\")\n",
    "        \n",
    "        title = p.replace('.astro', '').replace('_', ' ').capitalize()\n",
    "\n",
    "        navtree += f'''\n",
    "        <CourseCard href=\"/{course}/{p.replace('.astro', '')}\" img_src=\"/{course}/{p.replace('.astro', '')}/src\" title=\"{title}\">\n",
    "            {content}\n",
    "        </CourseCard>\n",
    "        '''\n",
    "        \n",
    "        simp_list += f'<li slot=\"list\"><a href=\"/{course}/{p.replace(\".astro\", \"\")}?origin=coursemenu\">{title}</a></li>\\n'\n",
    "\n",
    "    course_string = f'''---\n",
    "import Layout from \"../layouts/CourseMenuLayout.astro\"\n",
    "import Section from \"../components/Section.astro\"\n",
    "import SubSection from \"../components/SubSection.astro\"\n",
    "import Image from \"../components/Image.astro\"\n",
    "import SimplifiedView from \"../components/course_menus/SimplifiedView.astro\"\n",
    "import CourseCard from \"../components/course_menus/CourseCard.astro\"\n",
    "import Item from \"../components/Item.astro\"\n",
    "import Itemize from \"../components/Itemize.astro\"\n",
    "\n",
    "import \"../../public/static/css/course_home_pages.css\"\n",
    "---\n",
    "\n",
    "    <Layout title=\"{course_titles[course]}\">\n",
    "        <div class=\"mt-sm-4 mt-2 row\">\n",
    "            <div class=\"col-md-12 col-12\">\n",
    "                <SimplifiedView id=\"here\" title=\"{course_titles[course]}\" title_style=\"h1 fw-bold\" style=\"enumerate\">\n",
    "                    {navtree}\n",
    "                    {simp_list}\n",
    "                </SimplifiedView>\n",
    "            </div>\n",
    "            <div class=\"col-md-0 col-0\">\n",
    "            </div>\n",
    "        </div>    \n",
    "    </Layout>\n",
    "    '''\n",
    "\n",
    "    with open(cpath+\".astro\", 'w') as f:\n",
    "        f.write(course_string)"
   ]
  },
  {
   "cell_type": "code",
   "execution_count": null,
   "metadata": {},
   "outputs": [],
   "source": []
  },
  {
   "cell_type": "code",
   "execution_count": null,
   "metadata": {},
   "outputs": [],
   "source": []
  },
  {
   "cell_type": "code",
   "execution_count": null,
   "metadata": {},
   "outputs": [],
   "source": []
  },
  {
   "cell_type": "code",
   "execution_count": null,
   "metadata": {},
   "outputs": [],
   "source": []
  },
  {
   "cell_type": "code",
   "execution_count": null,
   "metadata": {},
   "outputs": [],
   "source": []
  }
 ],
 "metadata": {
  "kernelspec": {
   "display_name": "Python 3",
   "language": "python",
   "name": "python3"
  },
  "language_info": {
   "codemirror_mode": {
    "name": "ipython",
    "version": 3
   },
   "file_extension": ".py",
   "mimetype": "text/x-python",
   "name": "python",
   "nbconvert_exporter": "python",
   "pygments_lexer": "ipython3",
   "version": "3.11.9"
  }
 },
 "nbformat": 4,
 "nbformat_minor": 2
}
