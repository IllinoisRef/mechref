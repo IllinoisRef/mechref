{
 "cells": [
  {
   "cell_type": "code",
   "execution_count": 2,
   "metadata": {},
   "outputs": [],
   "source": [
    "import os\n",
    "import shutil"
   ]
  },
  {
   "cell_type": "code",
   "execution_count": 19,
   "metadata": {},
   "outputs": [],
   "source": [
    "course_name = \"thermodynamics\"\n",
    "\n",
    "cwd = os.getcwd()\n",
    "\n",
    "course_path = os.path.join(os.path.dirname(cwd), \"src/pages\", course_name.replace(\" \", \"_\").lower())\n",
    "\n",
    "latex_path = os.path.join(os.path.dirname(cwd), \"public\", \"Thermo\")\n",
    "\n",
    "for page in [p for p in os.listdir(latex_path) if p[-4:]==\".tex\"]:\n",
    "    shutil.copy(os.path.join(os.path.dirname(cwd), \"src/pages/about/examples/example.astro\"), \\\n",
    "                os.path.join(os.path.dirname(cwd), f\"src/pages/{course_name}/{page.replace('.tex', '').replace(' ', '_').lower()}.astro\"))"
   ]
  },
  {
   "cell_type": "code",
   "execution_count": null,
   "metadata": {},
   "outputs": [],
   "source": []
  }
 ],
 "metadata": {
  "kernelspec": {
   "display_name": "usr",
   "language": "python",
   "name": "python3"
  },
  "language_info": {
   "codemirror_mode": {
    "name": "ipython",
    "version": 3
   },
   "file_extension": ".py",
   "mimetype": "text/x-python",
   "name": "python",
   "nbconvert_exporter": "python",
   "pygments_lexer": "ipython3",
   "version": "3.10.15"
  }
 },
 "nbformat": 4,
 "nbformat_minor": 2
}
