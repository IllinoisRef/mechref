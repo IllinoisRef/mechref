{
 "cells": [
  {
   "cell_type": "code",
   "execution_count": null,
   "metadata": {},
   "outputs": [],
   "source": [
    "import os\n",
    "import shutil"
   ]
  },
  {
   "cell_type": "code",
   "execution_count": null,
   "metadata": {},
   "outputs": [
    {
     "name": "stdout",
     "output_type": "stream",
     "text": [
      "Course created at /home/jcrayb/Documents/GitHub/mechref/src/pages/me_371.\n"
     ]
    }
   ],
   "source": [
    "course_name = \"ME 371\"\n",
    "\n",
    "cwd = os.getcwd()\n",
    "\n",
    "course_path = os.path.join(cwd, \"src/pages\", course_name.replace(\" \", \"_\").lower())\n",
    "\n",
    "if os.path.exists(course_path):\n",
    "    print(\"Course already exists\")\n",
    "else:\n",
    "    os.mkdir(course_path)\n",
    "    print(f\"Course created at {course_path}.\")\n",
    "    shutil.copy(os.path.join(cwd, \"src/pages\",\"example.astro\"), course_path)"
   ]
  },
  {
   "cell_type": "code",
   "execution_count": null,
   "metadata": {},
   "outputs": [],
   "source": []
  }
 ],
 "metadata": {
  "kernelspec": {
   "display_name": "Python 3",
   "language": "python",
   "name": "python3"
  },
  "language_info": {
   "codemirror_mode": {
    "name": "ipython",
    "version": 3
   },
   "file_extension": ".py",
   "mimetype": "text/x-python",
   "name": "python",
   "nbconvert_exporter": "python",
   "pygments_lexer": "ipython3",
   "version": "3.10.15"
  }
 },
 "nbformat": 4,
 "nbformat_minor": 2
}
