{
 "cells": [
  {
   "cell_type": "code",
   "execution_count": null,
   "metadata": {},
   "outputs": [
    {
     "data": {
      "text/plain": [
       "{'href=\"/favicon2.png\"': 'href=\"../favicon2.png\"',\n",
       " 'href=\"/bootstrap.min.css\"': 'href=\"../bootstrap.min.css\"',\n",
       " 'href=\"/bootstrap-icons.min.css\"': 'href=\"../bootstrap-icons.min.css\"',\n",
       " 'href=\"/static/css/lightTheme.css\"': 'href=\"../static/css/lightTheme.css\"',\n",
       " 'href=\"/static/css/darkTheme.css\"': 'href=\"../static/css/darkTheme.css\"',\n",
       " 'href=\"/static/css/tables.css\"': 'href=\"../static/css/tables.css\"',\n",
       " 'href=\"/static/css/themes.css\"': 'href=\"../static/css/themes.css\"',\n",
       " 'href=\"/static/css/main.css\"': 'href=\"../static/css/main.css\"',\n",
       " 'href=\"/static/css/sidebar.css\"': 'href=\"../static/css/sidebar.css\"',\n",
       " 'src=\"/bootstrap.min.js\"': 'src=\"../bootstrap.min.js\"',\n",
       " 'src=\"/mathjax/tex-svg.js\"': 'src=\"../mathjax/tex-svg.js\"',\n",
       " 'src=\"/jquery-2.1.4.min.js\"': 'src=\"../jquery-2.1.4.min.js\"',\n",
       " 'src=\"/sha1.js\"': 'src=\"../sha1.js\"',\n",
       " 'src=\"/sylvester.js\"': 'src=\"../sylvester.js\"',\n",
       " 'src=\"/PrairieGeom.js\"': 'src=\"../PrairieGeom.js\"',\n",
       " 'src=\"/PrairieDraw.js\"': 'src=\"../PrairieDraw.js\"',\n",
       " 'src=\"/static/js/simplified_view.js\"': 'src=\"../static/js/simplified_view.js\"',\n",
       " 'src=\"/highlight.js\"': 'src=\"../highlight.js\"',\n",
       " 'src=\"/static/js/themes.js\"': 'src=\"../static/js/themes.js\"'}"
      ]
     },
     "execution_count": 31,
     "metadata": {},
     "output_type": "execute_result"
    }
   ],
   "source": [
    "import shutil\n",
    "import os\n",
    "import cbtf_scripts.utils as utils\n",
    "import cbtf_scripts.navbar as navbar\n",
    "#import cbtf_scripts.content_pages as content_pages\n",
    "import cbtf_scripts.main_pages as main_pages\n",
    "\n",
    "from bs4 import BeautifulSoup\n",
    "\n",
    "banned_dirs = [\n",
    "    'Dynamics',\n",
    "    'Solid_Mechanics',\n",
    "    'Statics',\n",
    "    'mathjax',\n",
    "    'static',\n",
    "    '_astro'\n",
    "]\n",
    "\n",
    "home = os.path.join(os.getcwd(), 'dist')\n",
    "\n",
    "utils.explore_dir_and_move(home, '', banned_dirs)\n"
   ]
  },
  {
   "cell_type": "code",
   "execution_count": null,
   "metadata": {},
   "outputs": [],
   "source": []
  }
 ],
 "metadata": {
  "kernelspec": {
   "display_name": "Python 3",
   "language": "python",
   "name": "python3"
  },
  "language_info": {
   "codemirror_mode": {
    "name": "ipython",
    "version": 3
   },
   "file_extension": ".py",
   "mimetype": "text/x-python",
   "name": "python",
   "nbconvert_exporter": "python",
   "pygments_lexer": "ipython3",
   "version": "3.11.9"
  }
 },
 "nbformat": 4,
 "nbformat_minor": 2
}
