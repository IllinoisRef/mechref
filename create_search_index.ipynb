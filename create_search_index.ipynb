{
 "cells": [
  {
   "cell_type": "code",
   "execution_count": 1,
   "metadata": {},
   "outputs": [],
   "source": [
    "import requests\n",
    "from bs4 import BeautifulSoup\n",
    "import json\n",
    "\n",
    "searchable_pages = [\n",
    "    \"sol/strain\",\n",
    "    \"sol/stress\",\n",
    "    \"sol/material_properties\",\n",
    "    \"sol/axial_loading\",\n",
    "    \"dyn/vectors\",\n",
    "    \"dyn/vector_calculus\",\n",
    "    \"sta/introduction\",\n",
    "    \"sta/cartesian_coordinates\",\n",
    "    \"sta/vectors_scalars\"\n",
    "]\n",
    "\n",
    "page_text = []\n",
    "\n",
    "for page in searchable_pages:\n",
    "    url = f\"http://localhost:4321/{page}\"\n",
    "    html = requests.get(url).text\n",
    "\n",
    "\n",
    "    soup = BeautifulSoup(html, features=\"html.parser\")\n",
    "\n",
    "    # kill all script and style elements\n",
    "    for script in soup([\"script\", \"style\", \"nav\"]):\n",
    "        script.extract()    # rip it out\n",
    "\n",
    "    soup.find(\"div\", attrs={\"id\": \"nav_container\"}).extract()\n",
    "    soup.find(\"h1\", attrs={\"id\": \"page_title\"}).extract()\n",
    "    soup.find(\"div\", attrs={\"id\": \"title_bar\"}).extract()\n",
    "\n",
    "    # get text\n",
    "    text = soup.get_text()\n",
    "\n",
    "    # break into lines and remove leading and trailing space on each\n",
    "    lines = (line.strip() for line in text.splitlines())\n",
    "    # break multi-headlines into a line each\n",
    "    chunks = (phrase.strip() for line in lines for phrase in line.split(\"  \"))\n",
    "    # drop blank lines\n",
    "    text = ' '.join(chunk for chunk in chunks if chunk)\n",
    "\n",
    "    banned_strings = [\n",
    "        \"Derivation +\",\n",
    "        \"Solution +\"\n",
    "    ]\n",
    "\n",
    "    for b in banned_strings:    \n",
    "        text = text.replace(b, \"\")\n",
    "\n",
    "    page_text.append({\"title\": page.split(\"/\")[1].replace(\"_\", \" \").capitalize(),\"text\": text, 'link': \"/\" + page})\n",
    "\n",
    "json.dump(page_text, open(\"./public/search.json\", \"w\"), indent=2)"
   ]
  },
  {
   "cell_type": "code",
   "execution_count": null,
   "metadata": {},
   "outputs": [],
   "source": []
  },
  {
   "cell_type": "code",
   "execution_count": null,
   "metadata": {},
   "outputs": [],
   "source": []
  }
 ],
 "metadata": {
  "kernelspec": {
   "display_name": "Python 3",
   "language": "python",
   "name": "python3"
  },
  "language_info": {
   "codemirror_mode": {
    "name": "ipython",
    "version": 3
   },
   "file_extension": ".py",
   "mimetype": "text/x-python",
   "name": "python",
   "nbconvert_exporter": "python",
   "pygments_lexer": "ipython3",
   "version": "3.12.4"
  }
 },
 "nbformat": 4,
 "nbformat_minor": 2
}
