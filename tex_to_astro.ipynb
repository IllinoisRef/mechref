{
 "cells": [
  {
   "cell_type": "code",
   "execution_count": 2,
   "metadata": {},
   "outputs": [],
   "source": [
    "from TexSoup import TexSoup\n",
    "import shutil\n",
    "import re\n",
    "import os\n",
    "import difflib\n",
    "import pprint\n",
    "\n",
    "#os.path.exists(os.path.join(os.getcwd(), 'src/pages/sta'))"
   ]
  },
  {
   "cell_type": "code",
   "execution_count": 3,
   "metadata": {},
   "outputs": [
    {
     "data": {
      "text/plain": [
       "['BlankTopic',\n",
       " 'Cartesian Coordinates',\n",
       " 'Centers of Mass',\n",
       " 'ForceSystems',\n",
       " 'Free Body Diagrams',\n",
       " 'Friction',\n",
       " 'Hydrostatic Fluid Pressure',\n",
       " 'Internal Forces',\n",
       " 'Introduction',\n",
       " 'main',\n",
       " 'Moment of Inertia',\n",
       " 'Moments',\n",
       " 'Reaction Forces',\n",
       " 'Trusses',\n",
       " 'Vectors Scalars',\n",
       " 'Virtual Work']"
      ]
     },
     "execution_count": 3,
     "metadata": {},
     "output_type": "execute_result"
    }
   ],
   "source": [
    "coursetags = {\n",
    "    'Statics': 'sta',\n",
    "    'Dynamics': 'dyn',\n",
    "    'Solid Mechanics': 'sol'\n",
    "}\n",
    "\n",
    "course = 'Statics'\n",
    "\n",
    "tex_files = [file[:-4] for file in os.listdir(f'./public/{course}') if file[-4:] == '.tex']\n",
    "\n",
    "tex_files"
   ]
  },
  {
   "cell_type": "code",
   "execution_count": 4,
   "metadata": {},
   "outputs": [],
   "source": [
    "replacements = {\n",
    "    'section': 'Section',\n",
    "    'subsection': 'SubSection',\n",
    "    'subsubsection': 'SubSubSection',\n",
    "    'blue': 'BlueText',\n",
    "    'red': 'RedText',\n",
    "    'textit': 'em',\n",
    "    'textbf': 'strong'\n",
    "}"
   ]
  },
  {
   "cell_type": "code",
   "execution_count": 27,
   "metadata": {},
   "outputs": [
    {
     "name": "stdout",
     "output_type": "stream",
     "text": [
      "('section', 'subsection')\n"
     ]
    }
   ],
   "source": [
    "from tex2py import tex2py\n",
    "\n",
    "with open('./public/Statics/Trusses.tex', 'r') as file:\n",
    "    data = tex2py(file.read())\n",
    "\n",
    "    print(data.findHierarchy())\n",
    "    \n",
    "    sections = list(data.sections)\n",
    "\n",
    "    #print(sections)\n",
    "\n",
    "    subsections = {section: section.branches for section in sections}\n",
    "\n",
    "    #print(subsections)\n",
    "\n",
    "tex_files = ['Moment of Inertia']"
   ]
  },
  {
   "cell_type": "code",
   "execution_count": 28,
   "metadata": {},
   "outputs": [
    {
     "name": "stdout",
     "output_type": "stream",
     "text": [
      "['Moment of Inertia (Second Moment of Area)']\n",
      "<BlueText>Taken from TAM 210 Lecture 3 - Slide 3</BlueText>\n",
      "<BlueText>Taken from TAM 210 Lecture 3 - Slide 3</BlueText>\n",
      "<BlueText>Taken from TAM 210 Lecture 3 - Slide 3</BlueText>\n"
     ]
    }
   ],
   "source": [
    "for filename in tex_files:\n",
    "    required_modules = ['Image']\n",
    "\n",
    "    tex_path = f\"public/{course}/{filename}.tex\"\n",
    "\n",
    "    astro_path = f\"src/pages/{coursetags[course]}/{filename.lower().replace(' ', '_')}.astro\"\n",
    "\n",
    "\n",
    "    with open(tex_path, 'r+') as file:\n",
    "        raw = file.read()\n",
    "        data = TexSoup(raw)\n",
    "        for tex, html in replacements.items():\n",
    "            matches = data.find_all(tex)\n",
    "            #print(matches, tex)\n",
    "            for match in matches:\n",
    "                if len(match.contents) != 0:\n",
    "                    raw = raw.replace(r\"\\%s{%s}\" % (tex, match.contents[0]), f\"<{html}>{match.contents[0]}</{html}>\")\n",
    "\n",
    "                    if html != 'em' and html != 'strong' and (html not in required_modules):\n",
    "                        required_modules.append(html)\n",
    "        \n",
    "        # ADDITIONAL CLEANUP\n",
    "\n",
    "        \n",
    "        print([e for e in data.subsection.descendants])\n",
    "        \n",
    "\n",
    "        raw = raw.replace(r'\\noindent', '')\n",
    "\n",
    "        for l in data.find_all('enumerate'):\n",
    "            s = str(l)\n",
    "            final_str = ''\n",
    "            for c in l.children:\n",
    "                final_str += f\"\\t<li>{c.text[0]}</li>\\n\"\n",
    "            \n",
    "            final_str = '<ol>\\n'+final_str+'</ol>\\n'\n",
    "\n",
    "            raw = raw.replace(s, final_str)\n",
    "\n",
    "        comments = re.findall('\\n%(.*)\\n', raw)\n",
    "        \n",
    "        for comment in comments:\n",
    "            raw = raw.replace(f'%{comment}', f'<!-- {comment} -->')\n",
    "\n",
    "\n",
    "        inline_equations = re.findall('\\$([^$]*)\\$', raw)\n",
    "        \n",
    "        if len(inline_equations): required_modules.append('InlineEquation')\n",
    "\n",
    "        for eq in inline_equations:\n",
    "            db_backslash = eq.replace('\\\\','\\\\\\\\')\n",
    "            raw = raw.replace(f'${eq}$', f\"<InlineEquation equation='{db_backslash}' />\")\n",
    "\n",
    "        display_equations = re.findall('\\[(.*)\\]', raw)\n",
    "\n",
    "        for eq in display_equations:\n",
    "            db_backslash = eq.replace('\\\\','\\\\\\\\')\n",
    "            if r'\\[%s]'% (eq) in raw and ('DisplayEquation' not in required_modules): required_modules.append('DisplayEquation')\n",
    "            raw = raw.replace(r'\\[%s]'% (eq), f\"<DisplayEquation equation='{db_backslash}' />\")\n",
    "\n",
    "        imports = 'import Layout from \"../../layouts/Layout.astro\" \\n'\n",
    "\n",
    "        for comp in required_modules:\n",
    "            imports += f'import {comp} from \"../../components/{comp}.astro\" \\n' \n",
    "\n",
    "        figs = data.find_all('figure*')\n",
    "\n",
    "        for fig in figs:\n",
    "            caption = ' '.join([str(e) for e in fig.caption.contents[1:]])\n",
    "            \n",
    "            actual_text = caption[6:-1] if caption[0:5] == r'\\blue' else caption\n",
    "            \n",
    "            inline_equations = re.findall('\\$([^$]*)\\$', actual_text)\n",
    "\n",
    "            for eq in inline_equations:\n",
    "                db_backslash = eq.replace('\\\\','\\\\\\\\')\n",
    "                actual_text = actual_text.replace(f'${eq}$', f\"<InlineEquation equation='{db_backslash}' />\")\n",
    "\n",
    "            if caption[0:5] == r'\\blue':\n",
    "                actual_text = f'<BlueText>{actual_text}</BlueText>'\n",
    "\n",
    "            src = fig.includegraphics.text[-1]\n",
    "            width = fig.includegraphics.text[0].split(',')[1].split('=')[1].replace('in', '')\n",
    "\n",
    "            print(actual_text)\n",
    "\n",
    "            raw = raw.replace(r'\\end{figure*}', f\"<Image src='/{course}/{src}' width='{width}'>{actual_text}</Image>\", 1)\n",
    "\n",
    "        #print(imports)\n",
    "\n",
    "        raw = '---\\n' + imports + '---\\n' + f'<Layout title=\"{filename}\">' + '\\n' + raw + '\\n' +'</Layout>'\n",
    "        \n",
    "\n",
    "        astro_file = open(astro_path, mode='w+')\n",
    "\n",
    "        astro_file.write(raw)\n",
    "\n",
    "        astro_file.close()\n",
    "\n"
   ]
  },
  {
   "cell_type": "code",
   "execution_count": 34,
   "metadata": {},
   "outputs": [
    {
     "data": {
      "text/plain": [
       "['\\\\vec{a}', 'm', '\\\\vec{F}']"
      ]
     },
     "execution_count": 34,
     "metadata": {},
     "output_type": "execute_result"
    }
   ],
   "source": [
    "re.findall('\\$([^$]*)\\$', r'ration $\\vec{a}$ of a point mass with mass $m$ to the total applied force $\\vec{F}$ on the mass ')"
   ]
  },
  {
   "cell_type": "code",
   "execution_count": null,
   "metadata": {},
   "outputs": [],
   "source": []
  }
 ],
 "metadata": {
  "kernelspec": {
   "display_name": "Python 3",
   "language": "python",
   "name": "python3"
  },
  "language_info": {
   "codemirror_mode": {
    "name": "ipython",
    "version": 3
   },
   "file_extension": ".py",
   "mimetype": "text/x-python",
   "name": "python",
   "nbconvert_exporter": "python",
   "pygments_lexer": "ipython3",
   "version": "3.11.9"
  }
 },
 "nbformat": 4,
 "nbformat_minor": 2
}
