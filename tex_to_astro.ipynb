{
 "cells": [
  {
   "cell_type": "code",
   "execution_count": 2,
   "metadata": {},
   "outputs": [],
   "source": [
    "from TexSoup import TexSoup\n",
    "import shutil\n",
    "import re\n",
    "import os\n",
    "import difflib\n",
    "import pprint\n",
    "\n",
    "#os.path.exists(os.path.join(os.getcwd(), 'src/pages/sta'))"
   ]
  },
  {
   "cell_type": "code",
   "execution_count": 17,
   "metadata": {},
   "outputs": [
    {
     "data": {
      "text/plain": [
       "['Pressure Vessels',\n",
       " 'Shear Moment Diagrams',\n",
       " 'Strain',\n",
       " 'Stress',\n",
       " 'Stress Transformation',\n",
       " 'Torsion',\n",
       " 'Transverse Shear']"
      ]
     },
     "execution_count": 17,
     "metadata": {},
     "output_type": "execute_result"
    }
   ],
   "source": [
    "coursetags = {\n",
    "    'Statics': 'sta',\n",
    "    'Dynamics': 'dyn',\n",
    "    'Solid_Mechanics': 'sol'\n",
    "}\n",
    "\n",
    "course = 'Solid_Mechanics'\n",
    "\n",
    "tex_files = list(sorted([file[:-4] for file in os.listdir(f'./public/{course}') if file[-4:] == '.tex']))[7:]\n",
    "\n",
    "tex_files"
   ]
  },
  {
   "cell_type": "code",
   "execution_count": 18,
   "metadata": {},
   "outputs": [],
   "source": [
    "replacements = {\n",
    "    'section': 'Section',\n",
    "    'subsection': 'SubSection',\n",
    "    'subsubsection': 'SubSubSection',\n",
    "    'blue': 'BlueText',\n",
    "    'red': 'RedText',\n",
    "    'textit': 'em',\n",
    "    'textbf': 'strong'\n",
    "}"
   ]
  },
  {
   "cell_type": "code",
   "execution_count": 39,
   "metadata": {},
   "outputs": [
    {
     "ename": "NameError",
     "evalue": "name 'filena' is not defined",
     "output_type": "error",
     "traceback": [
      "\u001b[0;31m---------------------------------------------------------------------------\u001b[0m",
      "\u001b[0;31mNameError\u001b[0m                                 Traceback (most recent call last)",
      "Cell \u001b[0;32mIn[39], line 19\u001b[0m\n\u001b[1;32m     17\u001b[0m \u001b[38;5;28;01mfor\u001b[39;00m match \u001b[38;5;129;01min\u001b[39;00m \u001b[38;5;28mlist\u001b[39m(matches):\n\u001b[1;32m     18\u001b[0m     \u001b[38;5;28;01mif\u001b[39;00m tex \u001b[38;5;241m==\u001b[39m \u001b[38;5;124m'\u001b[39m\u001b[38;5;124mblue\u001b[39m\u001b[38;5;124m'\u001b[39m:\n\u001b[0;32m---> 19\u001b[0m         \u001b[38;5;28mprint\u001b[39m(\u001b[38;5;28mstr\u001b[39m(match)[:\u001b[38;5;241m6\u001b[39m], \u001b[43mfilena\u001b[49m,e)\n\u001b[1;32m     21\u001b[0m     \u001b[38;5;28;01mif\u001b[39;00m \u001b[38;5;28mlen\u001b[39m(\u001b[38;5;28mlist\u001b[39m(match\u001b[38;5;241m.\u001b[39mcontents)) \u001b[38;5;241m!=\u001b[39m \u001b[38;5;241m0\u001b[39m:\n\u001b[1;32m     22\u001b[0m         \u001b[38;5;66;03m#print(str(match))\u001b[39;00m\n\u001b[1;32m     23\u001b[0m         \n\u001b[1;32m     24\u001b[0m         \u001b[38;5;66;03m#raw = raw.replace(r\"\\%s{%s}\" % (tex, list(match.contents)[0]), f\"<{html}>{list(match.contents)[0]}</{html}>\")\u001b[39;00m\n\u001b[1;32m     26\u001b[0m         raw \u001b[38;5;241m=\u001b[39m raw\u001b[38;5;241m.\u001b[39mreplace(\u001b[38;5;28mstr\u001b[39m(match)\u001b[38;5;241m.\u001b[39mreplace(\u001b[38;5;124mr\u001b[39m\u001b[38;5;124m'\u001b[39m\u001b[38;5;124m\\\u001b[39m\u001b[38;5;124mblue \u001b[39m\u001b[38;5;124m{\u001b[39m\u001b[38;5;124m'\u001b[39m, \u001b[38;5;124mr\u001b[39m\u001b[38;5;124m'\u001b[39m\u001b[38;5;124m\\\u001b[39m\u001b[38;5;124mblue\u001b[39m\u001b[38;5;124m{\u001b[39m\u001b[38;5;124m'\u001b[39m), \u001b[38;5;124mf\u001b[39m\u001b[38;5;124m\"\u001b[39m\u001b[38;5;124m<\u001b[39m\u001b[38;5;132;01m{\u001b[39;00mhtml\u001b[38;5;132;01m}\u001b[39;00m\u001b[38;5;124m>\u001b[39m\u001b[38;5;132;01m{\u001b[39;00m\u001b[38;5;124m'\u001b[39m\u001b[38;5;124m \u001b[39m\u001b[38;5;124m'\u001b[39m\u001b[38;5;241m.\u001b[39mjoin(\u001b[38;5;28mlist\u001b[39m([\u001b[38;5;28mstr\u001b[39m(e)\u001b[38;5;250m \u001b[39m\u001b[38;5;28;01mfor\u001b[39;00m\u001b[38;5;250m \u001b[39me\u001b[38;5;250m \u001b[39m\u001b[38;5;129;01min\u001b[39;00m\u001b[38;5;250m \u001b[39mmatch\u001b[38;5;241m.\u001b[39mcontents]))\u001b[38;5;132;01m}\u001b[39;00m\u001b[38;5;124m</\u001b[39m\u001b[38;5;132;01m{\u001b[39;00mhtml\u001b[38;5;132;01m}\u001b[39;00m\u001b[38;5;124m>\u001b[39m\u001b[38;5;124m\"\u001b[39m)\n",
      "\u001b[0;31mNameError\u001b[0m: name 'filena' is not defined"
     ]
    }
   ],
   "source": [
    "for filename in tex_files:\n",
    "    required_modules = ['Image']\n",
    "\n",
    "    tex_path = f\"public/{course}/{filename}.tex\"\n",
    "\n",
    "    astro_path = f\"src/pages/{coursetags[course]}/{filename.lower().replace(' ', '_')}.astro\"\n",
    "\n",
    "\n",
    "    with open(tex_path, 'r+') as file:\n",
    "        raw = file.read()\n",
    "\n",
    "        data = TexSoup(raw)\n",
    "        for tex, html in replacements.items():\n",
    "            \n",
    "            matches = data.find_all(tex)\n",
    "            \n",
    "            for match in list(matches):\n",
    "                if tex == 'blue':\n",
    "                    print(str(match)[:6], filename)\n",
    "\n",
    "                if len(list(match.contents)) != 0:\n",
    "                    #print(str(match))\n",
    "                    \n",
    "                    #raw = raw.replace(r\"\\%s{%s}\" % (tex, list(match.contents)[0]), f\"<{html}>{list(match.contents)[0]}</{html}>\")\n",
    "\n",
    "                    raw = raw.replace(str(match).replace(r'\\blue {', r'\\blue{'), f\"<{html}>{' '.join(list([str(e) for e in match.contents]))}</{html}>\")\n",
    "\n",
    "                    if html != 'em' and html != 'strong' and (html not in required_modules):\n",
    "                        required_modules.append(html)\n",
    "        \n",
    "        # ADDITIONAL CLEANUP\n",
    "\n",
    "        \n",
    "        #print([e for e in data.subsection.descendants])\n",
    "        \n",
    "\n",
    "        raw = raw.replace(r'\\noindent', '')\n",
    "        enum = list(data.find_all('enumerate'))\n",
    "\n",
    "        if len(enum): \n",
    "            required_modules.append('Enumerate')\n",
    "            required_modules.append('Item')\n",
    "\n",
    "        for l in enum:\n",
    "            s = str(l)\n",
    "            final_str = ''\n",
    "            for c in l.children:\n",
    "                final_str += f\"\\t<Item>{list(c.text)[0]}</Item>\\n\"\n",
    "            \n",
    "            final_str = '<Enumerate>\\n'+final_str+'</Enumerate>\\n'\n",
    "\n",
    "            raw = raw.replace(s, final_str)\n",
    "\n",
    "        item = list(data.find_all('itemize'))\n",
    "\n",
    "        if len(item): \n",
    "            required_modules.append('Itemize')\n",
    "            if 'Item' not in required_modules:\n",
    "                required_modules.append('Item')\n",
    "\n",
    "\n",
    "        for l in item:\n",
    "            #print(l)\n",
    "            s = str(l)\n",
    "            final_str = ''\n",
    "            for c in l.children:\n",
    "                final_str += f\"\\t<Item>{list(c.text)[0]}</Item>\\n\"\n",
    "            \n",
    "            final_str = '<Itemize>\\n'+final_str+'</Itemize>\\n'\n",
    "\n",
    "            raw = raw.replace(s, final_str)\n",
    "\n",
    "        comments = re.findall('\\n%(.*)\\n', raw)\n",
    "        \n",
    "        for comment in comments:\n",
    "            raw = raw.replace(f'%{comment}', f'<!-- {comment} -->')\n",
    "\n",
    "\n",
    "        inline_equations = re.findall('\\$([^$]*)\\$', raw)\n",
    "        \n",
    "        if len(inline_equations): required_modules.append('InlineEquation')\n",
    "\n",
    "        for eq in inline_equations:\n",
    "            db_backslash = eq.replace('\\\\','\\\\\\\\')\n",
    "            raw = raw.replace(f'${eq}$', f'<InlineEquation equation=\"{db_backslash}\" />')\n",
    "\n",
    "        display_equations = re.findall('\\[(.*)\\]', raw)\n",
    "\n",
    "        for eq in display_equations:\n",
    "            db_backslash = eq.replace('\\\\','\\\\\\\\')\n",
    "            if r'\\[%s]'% (eq) in raw and ('DisplayEquation' not in required_modules): required_modules.append('DisplayEquation')\n",
    "            raw = raw.replace(r'\\[%s]'% (eq), f'<DisplayEquation equation=\"{db_backslash}\" />')\n",
    "\n",
    "        imports = 'import Layout from \"../../layouts/Layout.astro\" \\n'\n",
    "\n",
    "        for comp in required_modules:\n",
    "            imports += f'import {comp} from \"../../components/{comp}.astro\" \\n' \n",
    "\n",
    "        figs = data.find_all('figure*')\n",
    "\n",
    "        for fig in figs:\n",
    "            caption = ' '.join([str(e) for e in list(fig.caption.contents)[1:]])\n",
    "            \n",
    "            actual_text = caption[6:-1] if caption[0:5] == r'\\blue' else caption\n",
    "            \n",
    "            inline_equations = re.findall('\\$([^$]*)\\$', actual_text)\n",
    "\n",
    "            for eq in inline_equations:\n",
    "                db_backslash = eq.replace('\\\\','\\\\\\\\')\n",
    "                actual_text = actual_text.replace(f'${eq}$', f'<InlineEquation equation=\"{db_backslash}\" />')\n",
    "\n",
    "            if caption[0:5] == r'\\blue':\n",
    "                actual_text = f'<BlueText>{actual_text}</BlueText>'\n",
    "\n",
    "            src = list(fig.includegraphics.text)[-1]\n",
    "            width = list(fig.includegraphics.text)[0].split(',')[1].split('=')[1].replace('in', '')\n",
    "\n",
    "            #print(actual_text)\n",
    "\n",
    "            raw = raw.replace(r'\\end{figure*}', f'<Image src=\"/{course}/{src}\" width=\"{width}\">{actual_text}</Image>', 1)\n",
    "\n",
    "        #print(imports)\n",
    "\n",
    "        raw = '---\\n' + imports + '---\\n' + f'<Layout title=\"{filename}\">' + '\\n' + raw + '\\n' +'</Layout>'\n",
    "        \n",
    "\n",
    "        astro_file = open(astro_path, mode='w+')\n",
    "\n",
    "        astro_file.write(raw)\n",
    "\n",
    "        astro_file.close()\n",
    "\n"
   ]
  },
  {
   "cell_type": "code",
   "execution_count": 34,
   "metadata": {},
   "outputs": [
    {
     "data": {
      "text/plain": [
       "['\\\\vec{a}', 'm', '\\\\vec{F}']"
      ]
     },
     "execution_count": 34,
     "metadata": {},
     "output_type": "execute_result"
    }
   ],
   "source": [
    "re.findall('\\$([^$]*)\\$', r'ration $\\vec{a}$ of a point mass with mass $m$ to the total applied force $\\vec{F}$ on the mass ')"
   ]
  },
  {
   "cell_type": "code",
   "execution_count": null,
   "metadata": {},
   "outputs": [],
   "source": []
  }
 ],
 "metadata": {
  "kernelspec": {
   "display_name": "Python 3",
   "language": "python",
   "name": "python3"
  },
  "language_info": {
   "codemirror_mode": {
    "name": "ipython",
    "version": 3
   },
   "file_extension": ".py",
   "mimetype": "text/x-python",
   "name": "python",
   "nbconvert_exporter": "python",
   "pygments_lexer": "ipython3",
   "version": "3.11.9"
  }
 },
 "nbformat": 4,
 "nbformat_minor": 2
}
