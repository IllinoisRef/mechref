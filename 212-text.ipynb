{
 "cells": [
  {
   "cell_type": "code",
   "execution_count": 2,
   "metadata": {},
   "outputs": [],
   "source": []
  },
  {
   "cell_type": "code",
   "execution_count": 15,
   "metadata": {},
   "outputs": [],
   "source": [
    "import json\n",
    "import shutil\n",
    "\n",
    "data = json.load(open('./logs/vec_calc.har'))['log']['entries']\n",
    "\n",
    "page = 'vectors'\n",
    "course = 'dyn'"
   ]
  },
  {
   "cell_type": "code",
   "execution_count": 14,
   "metadata": {},
   "outputs": [
    {
     "name": "stdout",
     "output_type": "stream",
     "text": [
      "[Errno 2] No such file or directory: './dyn/text/https://www.mechref.org/favicon2.png'\n"
     ]
    }
   ],
   "source": [
    "for request in data:\n",
    "    if request['response']['content']['mimeType'] == 'image/png' or request['response']['status'] == 404:\n",
    "        filename = request['request']['url'].replace(f'https://www.mechref.org/{course}/{page}/text/', '').replace(f'http://localhost:4321/{course}/text/', '')\n",
    "        try:\n",
    "            shutil.copy(f'./dyn/text/{filename}', f'./public/{course}/{page}/text/{filename}')\n",
    "        except FileNotFoundError as e:\n",
    "            print(e)"
   ]
  },
  {
   "cell_type": "code",
   "execution_count": null,
   "metadata": {},
   "outputs": [],
   "source": []
  }
 ],
 "metadata": {
  "kernelspec": {
   "display_name": "Python 3",
   "language": "python",
   "name": "python3"
  },
  "language_info": {
   "codemirror_mode": {
    "name": "ipython",
    "version": 3
   },
   "file_extension": ".py",
   "mimetype": "text/x-python",
   "name": "python",
   "nbconvert_exporter": "python",
   "pygments_lexer": "ipython3",
   "version": "3.12.4"
  }
 },
 "nbformat": 4,
 "nbformat_minor": 2
}
