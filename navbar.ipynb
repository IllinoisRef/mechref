{
 "cells": [
  {
   "cell_type": "code",
   "execution_count": 2,
   "metadata": {},
   "outputs": [],
   "source": [
    "import json\n"
   ]
  },
  {
   "cell_type": "code",
   "execution_count": 3,
   "metadata": {},
   "outputs": [],
   "source": [
    "pages = json.load(open('./public/classes.json', 'r'))"
   ]
  },
  {
   "cell_type": "code",
   "execution_count": 11,
   "metadata": {},
   "outputs": [
    {
     "name": "stdout",
     "output_type": "stream",
     "text": [
      "Statics\n",
      "<li class=\"px-2\"><a href=\"/sta/introduction\">Introduction</a></li>\n",
      "<li class=\"px-2\"><a href=\"/sta/cartesian_coordinates\">Cartesian Coordinates</a></li>\n",
      "<li class=\"px-2\"><a href=\"/sta/vectors_scalars\">Vectors and Scalars</a></li>\n",
      "<li class=\"px-2\"><a href=\"/sta/free_body_diagrams\">Free Body Diagrams</a></li>\n",
      "<li class=\"px-2\"><a href=\"/sta/moments\">Moments</a></li>\n",
      "<li class=\"px-2\"><a href=\"/sta/force_systems\">Force Systems</a></li>\n",
      "<li class=\"px-2\"><a href=\"/sta/reaction_forces\">Reaction Forces</a></li>\n",
      "<li class=\"px-2\"><a href=\"/sta/trusses\">Trusses</a></li>\n",
      "<li class=\"px-2\"><a href=\"/sta/frames_and_machines\">Frames and Machines</a></li>\n",
      "<li class=\"px-2\"><a href=\"/sta/shear_moment_diagrams\">Internal Forces</a></li>\n",
      "<li class=\"px-2\"><a href=\"/sta/friction\">Friction</a></li>\n",
      "<li class=\"px-2\"><a href=\"/sta/centers_of_mass\">Center of Mass</a></li>\n",
      "<li class=\"px-2\"><a href=\"/sta/hydrostatic_fluid_pressure\">Hydrostatic Fluid Pressure</a></li>\n",
      "<li class=\"px-2\"><a href=\"/sta/moment_of_inertia\">Moment Of Inertia</a></li>\n",
      "<li class=\"px-2\"><a href=\"/sta/virtual_work\">Virtual Work</a></li>\n",
      "\n",
      "\n",
      "Dynamics\n",
      "<li class=\"px-2\"><a href=\"/dyn/vectors\">Vectors</a></li>\n",
      "<li class=\"px-2\"><a href=\"/dyn/vector_calculus\">Vector Calculus</a></li>\n",
      "<li class=\"px-2\"><a href=\"/dyn/particle_kinematics\">Particle Kinematics</a></li>\n",
      "<li class=\"px-2\"><a href=\"/dyn/particle_kinetics\">Particle Kinetics</a></li>\n",
      "<li class=\"px-2\"><a href=\"/dyn/rigid_body_kinematics\">Rigid Body Kinematics</a></li>\n",
      "<li class=\"px-2\"><a href=\"/dyn/rigid_body_kinetics\">Rigid Body Kinetics</a></li>\n",
      "<li class=\"px-2\"><a href=\"/dyn/contact_and_rolling\">Contact And Rolling</a></li>\n",
      "<li class=\"px-2\"><a href=\"/dyn/work_and_energy\">Work And Energy</a></li>\n",
      "\n",
      "\n",
      "Solid Mechanics\n",
      "<li class=\"px-2\"><a href=\"/sol/stress\">Stress</a></li>\n",
      "<li class=\"px-2\"><a href=\"/sol/strain\">Strain</a></li>\n",
      "<li class=\"px-2\"><a href=\"/sol/material_properties\">Material Properties</a></li>\n",
      "<li class=\"px-2\"><a href=\"/sol/axial_loading\">Axial Loading</a></li>\n",
      "<li class=\"px-2\"><a href=\"/sol/torsion\">Torsion</a></li>\n",
      "<li class=\"px-2\"><a href=\"/sol/shear_moment_diagrams\">Shear Moment Diagrams</a></li>\n",
      "<li class=\"px-2\"><a href=\"/sol/bending\">Bending</a></li>\n",
      "<li class=\"px-2\"><a href=\"/sol/transverse_shear\">Transverse Shear</a></li>\n",
      "<li class=\"px-2\"><a href=\"/sol/pressure_vessels\">Pressure Vessels</a></li>\n",
      "<li class=\"px-2\"><a href=\"/sol/combined_loading\">Combined Loading</a></li>\n",
      "<li class=\"px-2\"><a href=\"/sol/stress_transformation\">Stress Transformation</a></li>\n",
      "<li class=\"px-2\"><a href=\"/sol/failure_theories\">Failure Theories</a></li>\n",
      "<li class=\"px-2\"><a href=\"/sol/beam_deflection\">Beam Deflection</a></li>\n",
      "<li class=\"px-2\"><a href=\"/sol/buckling\">Buckling</a></li>\n",
      "\n",
      "\n"
     ]
    }
   ],
   "source": [
    "course = {\n",
    "    'Statics': 'sta',\n",
    "    'Dynamics': 'dyn',\n",
    "    'Solid Mechanics': 'sol',\n",
    "}\n",
    "\n",
    "for class_ in pages:\n",
    "    print(class_[0])\n",
    "    for page in class_[1]:\n",
    "        print(f'<li class=\"px-2\"><a href=\"/{course[class_[0]]}/{page['id']}\">{page['name']}</a></li>')\n",
    "\n",
    "    print('\\n')"
   ]
  },
  {
   "cell_type": "code",
   "execution_count": null,
   "metadata": {},
   "outputs": [],
   "source": []
  }
 ],
 "metadata": {
  "kernelspec": {
   "display_name": "Python 3",
   "language": "python",
   "name": "python3"
  },
  "language_info": {
   "codemirror_mode": {
    "name": "ipython",
    "version": 3
   },
   "file_extension": ".py",
   "mimetype": "text/x-python",
   "name": "python",
   "nbconvert_exporter": "python",
   "pygments_lexer": "ipython3",
   "version": "3.12.6"
  }
 },
 "nbformat": 4,
 "nbformat_minor": 2
}
