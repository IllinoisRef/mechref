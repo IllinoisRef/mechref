{
 "cells": [
  {
   "cell_type": "code",
   "execution_count": 2,
   "metadata": {},
   "outputs": [],
   "source": [
    "import pandas as pd\n",
    "import numpy as np\n",
    "\n",
    "fancy_name = lambda x: \"Dynamics\" if x == 'dyn' else ('Solid Mechanics' if x == 'sol' else 'Statics')"
   ]
  },
  {
   "cell_type": "code",
   "execution_count": 3,
   "metadata": {},
   "outputs": [],
   "source": [
    "start = {\n",
    "    'sta': pd.read_excel('./ief/sta.xlsx'),\n",
    "    'dyn': pd.read_excel('./ief/dyn.xlsx'),\n",
    "    'sol': pd.read_excel('./ief/sol.xlsx')\n",
    "}\n",
    "\n",
    "end = {\n",
    "    'sta': pd.read_csv('./ief/esta.csv'),\n",
    "    'dyn': pd.read_csv('./ief/edyn.csv'),\n",
    "    'sol': pd.read_csv('./ief/esol.csv')\n",
    "}"
   ]
  },
  {
   "cell_type": "code",
   "execution_count": 4,
   "metadata": {},
   "outputs": [
    {
     "data": {
      "text/plain": [
       "[\"Demographic Info: All questions below are optional; you may decline to answer any of the following questions by leaving that entry blank. [I feel like I'm becoming a member of the engineering community]\",\n",
       " 'Demographic Info: All questions below are optional; you may decline to answer any of the following questions by leaving that entry blank. [How many years have you been studying at UIUC?]',\n",
       " 'Demographic Info: All questions below are optional; you may decline to answer any of the following questions by leaving that entry blank. [Are you a transfer student? (1: Yes; 2:No)]',\n",
       " 'Demographic Info: All questions below are optional; you may decline to answer any of the following questions by leaving that entry blank. [Are you an international student (1: Yes; 2: No)]',\n",
       " 'Demographic Info: All questions below are optional; you may decline to answer any of the following questions by leaving that entry blank. [Which of the following best describes your gender? 1: Female; 2: Male  3: Neither of these options best describes me)]',\n",
       " 'Demographic Info: All questions below are optional; you may decline to answer any of the following questions by leaving that entry blank. [Which of the following best describes you? 1: African/Black; 2: Asian; 3: White/Caucasian : 4: Native American/Pacific Islander; 5: None of these options best describes me]',\n",
       " 'Demographic Info: All questions below are optional; you may decline to answer any of the following questions by leaving that entry blank. [Do you describe yourself as Hispanic? (1: Yes; 2:No)]']"
      ]
     },
     "execution_count": 4,
     "metadata": {},
     "output_type": "execute_result"
    }
   ],
   "source": [
    "demo_questions = [c for c in start['sta'].columns if 'Demographic' in c]\n",
    "\n",
    "demo_questions"
   ]
  },
  {
   "cell_type": "code",
   "execution_count": 5,
   "metadata": {},
   "outputs": [
    {
     "name": "stdout",
     "output_type": "stream",
     "text": [
      "Responses start\n",
      "\\textbf{Course} & Total & & & 683 & 100\\% & & & 360 & 100\\% & & & 1043 & 100\\% & \\\\\n",
      "\\textbf{} & Statics & & & 425 & 62\\% & & & 154 & 43\\% & & & 579 & 56\\% & \\\\\n",
      "\\textbf{} & Dynamics & & & 129 & 19\\% & & & 85 & 24\\% & & & 214 & 21\\% & \\\\\n",
      "\\textbf{} & Solid Mechanics & & & 129 & 19\\% & & & 121 & 34\\% & & & 250 & 24\\% & \\\\\n"
     ]
    }
   ],
   "source": [
    "print(\"Responses start\")\n",
    "string = \"\"\n",
    "n_start = len(start['sta'].index)+len(start['dyn'].index)+len(start['sol'].index)\n",
    "n_end = len(end['sta'].index)+len(end['dyn'].index)+len(end['sol'].index)\n",
    "print(f\"\\\\textbf{{Course}} & Total & & & {n_start} & 100\\% & & & {n_end} & 100\\% & & & {n_start+n_end} & 100\\% & \\\\\\\\\")\n",
    "for class_ in ['sta', 'dyn', 'sol']:\n",
    "    print(f\"\\\\textbf{{}} & {fancy_name(class_)} & & & {len(start[class_].index)} & {round(len(start[class_].index)*100/n_start)}\\% & & & {len(end[class_].index)} & {round(len(end[class_].index)/n_end*100)}\\% & & & {len(start[class_].index)+len(end[class_].index)} & {round((len(end[class_].index)+len(start[class_].index))*100/(n_start+n_end))}\\% & \\\\\\\\\")"
   ]
  },
  {
   "cell_type": "code",
   "execution_count": null,
   "metadata": {},
   "outputs": [
    {
     "name": "stdout",
     "output_type": "stream",
     "text": [
      "[168. 340.  13.]\n",
      "\\textbf{} & Female & & & 168 & 32\\% & & & & & & & 168 & 32\\% & \\\\\n",
      "\\textbf{} & Male & & & 340 & 65\\% & & & & & & & 340 & 65\\% & \\\\\n",
      "\\textbf{} & Other & & & 13 & 2\\% & & & & & & & 13 & 2\\% & \\\\\n"
     ]
    }
   ],
   "source": [
    "total_values = np.zeros(3)\n",
    "\n",
    "for class_ in ['sta', 'dyn', 'sol']:\n",
    "    d = [c for c in start[class_].columns if 'Demographic' in c][4]\n",
    "    \n",
    "    #print(d.replace(\"Demographic Info: All questions below are optional; you may decline to answer any of the following questions by leaving that entry blank.\", \"\"), class_)\n",
    "\n",
    "    total_values += np.array([start[class_][d].value_counts()[i+1] for i in range(3)])\n",
    "    \n",
    "names = [\"Female\", 'Male', 'Other']\n",
    "print(total_values)\n",
    "for i in range(3):\n",
    "    print(f\"\\\\textbf{{}} & {names[i]} & & & {int(total_values[i])} & {round(total_values[i]*100/sum(total_values))}\\% & & & & & & & {int(total_values[i])} & {round(total_values[i]*100/sum(total_values))}\\% & \\\\\\\\\")\n",
    "\n",
    "#print(f\"\\\\textbf{{}} & NA & & & {int(n_start - total_values.sum())} & {round((n_start - total_values.sum())*100/n_start)}\\% & & & & & & & {int(n_start - total_values.sum())} & {round((n_start - total_values.sum())*100/n_start)}\\% & \\\\\\\\\")"
   ]
  },
  {
   "cell_type": "code",
   "execution_count": null,
   "metadata": {},
   "outputs": [],
   "source": []
  },
  {
   "cell_type": "code",
   "execution_count": 80,
   "metadata": {},
   "outputs": [
    {
     "name": "stdout",
     "output_type": "stream",
     "text": [
      " [Which of the following best describes you? 1: African/Black; 2: Asian; 3: White/Caucasian : 4: Native American/Pacific Islander; 5: None of these options best describes me] sta\n",
      " [Which of the following best describes you? 1: African/Black; 2: Asian; 3: White/Caucasian : 4: Native American/Pacific Islander; 5: None of these options best describes me] dyn\n",
      " [Which of the following best describes you? 1: African/Black; 2: Asian; 3: White/Caucasian : 4: Native American/Pacific Islander; 5: None of these options best describes me] sol\n",
      "[ 16. 139. 292.  13.  31.]\n",
      "\\textbf{} & Black/AA & & & 16 & 3\\% & & & & & & & 16 & 3\\% & \\\\\n",
      "\\textbf{} & Asian & & & 139 & 28\\% & & & & & & & 139 & 28\\% & \\\\\n",
      "\\textbf{} & White & & & 227 & 46\\% & & & & & & & 227 & 46\\% & \\\\\n",
      "\\textbf{} & NA/PI & & & 13 & 3\\% & & & & & & & 13 & 3\\% & \\\\\n",
      "\\textbf{} & Other & & & 31 & 6\\% & & & & & & & 31 & 6\\% & \\\\\n",
      "\\textbf{} & Hisp./Latino & & & 65 & 13\\% & & & & & & & 65 & 13\\% & \\\\\n"
     ]
    }
   ],
   "source": [
    "total_values = np.zeros(5)\n",
    "\n",
    "for class_ in ['sta', 'dyn', 'sol']:\n",
    "    d = [c for c in start[class_].columns if 'Demographic' in c][5]\n",
    "    \n",
    "    print(d.replace(\"Demographic Info: All questions below are optional; you may decline to answer any of the following questions by leaving that entry blank.\", \"\"), class_)\n",
    "\n",
    "    total_values += np.array([start[class_][d].value_counts()[i+1] for i in range(5)])\n",
    "\n",
    "names = [\"Black/AA\", 'Asian', 'White', \"NA/PI\", 'Other']\n",
    "print(total_values)\n",
    "hd = demo_questions[6]\n",
    "hisp = (start['sta'][hd].value_counts()[1]+start['dyn'][hd].value_counts()[1]+start['sol'][hd].value_counts()[1])\n",
    "\n",
    "for i in range(5):\n",
    "    if i == 2:\n",
    "        print(f\"\\\\textbf{{}} & {names[i]} & & & {int(total_values[i]-hisp)} & {round((total_values[i]-hisp)*100/sum(total_values))}\\% & & & & & & & {int(total_values[i]-hisp)} & {round((total_values[i]-hisp)*100/sum(total_values))}\\% & \\\\\\\\\")\n",
    "    else:\n",
    "        print(f\"\\\\textbf{{}} & {names[i]} & & & {int(total_values[i])} & {round(total_values[i]*100/sum(total_values))}\\% & & & & & & & {int(total_values[i])} & {round(total_values[i]*100/sum(total_values))}\\% & \\\\\\\\\")\n",
    "\n",
    "print(f\"\\\\textbf{{}} & Hisp./Latino & & & {int(hisp)} & {round(hisp*100/sum(total_values))}\\% & & & & & & & {int(hisp)} & {round(hisp*100/sum(total_values))}\\% & \\\\\\\\\")"
   ]
  },
  {
   "cell_type": "code",
   "execution_count": 88,
   "metadata": {},
   "outputs": [
    {
     "name": "stdout",
     "output_type": "stream",
     "text": [
      " [Are you a transfer student? (1: Yes; 2:No)] sta\n",
      "Demographic Info: All questions below are optional; you may decline to answer any of the following questions by leaving that entry blank. [Are you a transfer student? (1: Yes; 2:No)]\n",
      "2.0    317\n",
      "1.0      4\n",
      "3.0      4\n",
      "4.0      2\n",
      "Name: count, dtype: int64\n",
      " [Are you a transfer student? (1: Yes; 2:No)] dyn\n",
      "Demographic Info: All questions below are optional; you may decline to answer any of the following questions by leaving that entry blank. [Are you a transfer student? (1: Yes; 2:No)]\n",
      "2.0    92\n",
      "3.0     4\n",
      "1.0     3\n",
      "Name: count, dtype: int64\n",
      " [Are you a transfer student? (1: Yes; 2:No)] sol\n",
      "Demographic Info: All questions below are optional; you may decline to answer any of the following questions by leaving that entry blank. [Are you a transfer student? (1: Yes; 2:No)]\n",
      "2.0    88\n",
      "1.0    12\n",
      "3.0     2\n",
      "Name: count, dtype: int64\n",
      "\\textbf{} & 1 & & & 19 & 4\\% & & & & & & & 19 & 4\\% & \\\\\n",
      "\\textbf{} & 2 & & & 497 & 94\\% & & & & & & & 497 & 94\\% & \\\\\n",
      "\\textbf{} & 3 & & & 10 & 2\\% & & & & & & & 10 & 2\\% & \\\\\n",
      "\\textbf{} & 4 & & & 2 & 0\\% & & & & & & & 2 & 0\\% & \\\\\n"
     ]
    }
   ],
   "source": [
    "total_values = np.zeros(4)\n",
    "\n",
    "for class_ in ['sta', 'dyn', 'sol']:\n",
    "    d = [c for c in start[class_].columns if 'Demographic' in c][2]\n",
    "    \n",
    "    print(d.replace(\"Demographic Info: All questions below are optional; you may decline to answer any of the following questions by leaving that entry blank.\", \"\"), class_)\n",
    "    print(start[class_][d].value_counts())\n",
    "    total_values += np.array([start[class_][d].value_counts()[i+1] if (i+1) in start[class_][d].value_counts() else 0 for i in range(4)])\n",
    "\n",
    "hd = demo_questions[6]\n",
    "hisp = (start['sta'][hd].value_counts()[1]+start['dyn'][hd].value_counts()[1]+start['sol'][hd].value_counts()[1])\n",
    "\n",
    "for i in range(4):\n",
    "    print(f\"\\\\textbf{{}} & {i+1} & & & {int(total_values[i])} & {round((total_values[i])*100/sum(total_values))}\\% & & & & & & & {int(total_values[i])} & {round((total_values[i])*100/sum(total_values))}\\% & \\\\\\\\\")\n",
    "    "
   ]
  },
  {
   "cell_type": "code",
   "execution_count": 92,
   "metadata": {},
   "outputs": [
    {
     "name": "stdout",
     "output_type": "stream",
     "text": [
      " [Are you a transfer student? (1: Yes; 2:No)] sta\n",
      "Demographic Info: All questions below are optional; you may decline to answer any of the following questions by leaving that entry blank. [Are you a transfer student? (1: Yes; 2:No)]\n",
      "2.0    317\n",
      "1.0      4\n",
      "3.0      4\n",
      "4.0      2\n",
      "Name: count, dtype: int64\n",
      " [Are you a transfer student? (1: Yes; 2:No)] dyn\n",
      "Demographic Info: All questions below are optional; you may decline to answer any of the following questions by leaving that entry blank. [Are you a transfer student? (1: Yes; 2:No)]\n",
      "2.0    92\n",
      "3.0     4\n",
      "1.0     3\n",
      "Name: count, dtype: int64\n",
      " [Are you a transfer student? (1: Yes; 2:No)] sol\n",
      "Demographic Info: All questions below are optional; you may decline to answer any of the following questions by leaving that entry blank. [Are you a transfer student? (1: Yes; 2:No)]\n",
      "2.0    88\n",
      "1.0    12\n",
      "3.0     2\n",
      "Name: count, dtype: int64\n",
      "\\textbf{} & Yes & & & 19 & 4\\% & & & & & & & 19 & 4\\% & \\\\\n",
      "\\textbf{} & No & & & 497 & 96\\% & & & & & & & 497 & 96\\% & \\\\\n"
     ]
    }
   ],
   "source": [
    "total_values = np.zeros(2)\n",
    "\n",
    "for class_ in ['sta', 'dyn', 'sol']:\n",
    "    d = [c for c in start[class_].columns if 'Demographic' in c][2]\n",
    "    \n",
    "    print(d.replace(\"Demographic Info: All questions below are optional; you may decline to answer any of the following questions by leaving that entry blank.\", \"\"), class_)\n",
    "    print(start[class_][d].value_counts())\n",
    "    total_values += np.array([start[class_][d].value_counts()[i+1] if (i+1) in start[class_][d].value_counts() else 0 for i in range(2)])\n",
    "\n",
    "names = ['Yes', 'No']\n",
    "\n",
    "for i in range(2):\n",
    "    print(f\"\\\\textbf{{}} & {names[i]} & & & {int(total_values[i])} & {round((total_values[i])*100/sum(total_values))}\\% & & & & & & & {int(total_values[i])} & {round((total_values[i])*100/sum(total_values))}\\% & \\\\\\\\\")\n",
    "    "
   ]
  },
  {
   "cell_type": "code",
   "execution_count": 93,
   "metadata": {},
   "outputs": [
    {
     "name": "stdout",
     "output_type": "stream",
     "text": [
      " [Are you an international student (1: Yes; 2: No)] sta\n",
      "Demographic Info: All questions below are optional; you may decline to answer any of the following questions by leaving that entry blank. [Are you an international student (1: Yes; 2: No)]\n",
      "2.0    286\n",
      "1.0     34\n",
      "3.0      3\n",
      "4.0      2\n",
      "Name: count, dtype: int64\n",
      " [Are you an international student (1: Yes; 2: No)] dyn\n",
      "Demographic Info: All questions below are optional; you may decline to answer any of the following questions by leaving that entry blank. [Are you an international student (1: Yes; 2: No)]\n",
      "2.0    84\n",
      "1.0    12\n",
      "3.0     3\n",
      "6.0     1\n",
      "Name: count, dtype: int64\n",
      " [Are you an international student (1: Yes; 2: No)] sol\n",
      "Demographic Info: All questions below are optional; you may decline to answer any of the following questions by leaving that entry blank. [Are you an international student (1: Yes; 2: No)]\n",
      "2.0    87\n",
      "1.0    11\n",
      "3.0     2\n",
      "Name: count, dtype: int64\n",
      "\\textbf{} & Yes & & & 57 & 11\\% & & & & & & & 57 & 11\\% & \\\\\n",
      "\\textbf{} & No & & & 457 & 89\\% & & & & & & & 457 & 89\\% & \\\\\n"
     ]
    }
   ],
   "source": [
    "total_values = np.zeros(2)\n",
    "\n",
    "for class_ in ['sta', 'dyn', 'sol']:\n",
    "    d = [c for c in start[class_].columns if 'Demographic' in c][3]\n",
    "    \n",
    "    print(d.replace(\"Demographic Info: All questions below are optional; you may decline to answer any of the following questions by leaving that entry blank.\", \"\"), class_)\n",
    "    print(start[class_][d].value_counts())\n",
    "    total_values += np.array([start[class_][d].value_counts()[i+1] if (i+1) in start[class_][d].value_counts() else 0 for i in range(2)])\n",
    "\n",
    "names = ['Yes', 'No']\n",
    "\n",
    "for i in range(2):\n",
    "    print(f\"\\\\textbf{{}} & {names[i]} & & & {int(total_values[i])} & {round((total_values[i])*100/sum(total_values))}\\% & & & & & & & {int(total_values[i])} & {round((total_values[i])*100/sum(total_values))}\\% & \\\\\\\\\")\n",
    "    "
   ]
  },
  {
   "cell_type": "code",
   "execution_count": 16,
   "metadata": {},
   "outputs": [
    {
     "data": {
      "text/plain": [
       "['Timestamp',\n",
       " 'My Instructor is',\n",
       " 'My discussion section TA is',\n",
       " 'How helpful have the following activities been in learning the course material?  [Lecture]',\n",
       " 'How helpful have the following activities been in learning the course material?  [Discusion Section]',\n",
       " 'How helpful have the following activities been in learning the course material?  [PrairieLearn Homework]',\n",
       " 'How helpful have the following activities been in learning the course material?  [Office Hours]',\n",
       " 'How helpful have the following activities been in learning the course material?  [Campuswire]',\n",
       " 'How helpful have the following activities been in learning the course material?  [Quiz Review Sessions]',\n",
       " 'How helpful have the following activities been in learning the course material?  [Reference pages]',\n",
       " 'Instructor and lectures [I attend lectures regularly]',\n",
       " 'Instructor and lectures [Lecture pace is (1: Too slow; 5: Too fast)]',\n",
       " 'Instructor and lectures [The instructor makes key concepts easy to understand]',\n",
       " 'Instructor and lectures [The instructor makes good use of examples]',\n",
       " 'Instructor and lectures [I can hear the instructor well]',\n",
       " 'Instructor and lectures [I find iClicker questions thought provoking]',\n",
       " 'Instructor and lectures [I discuss iClicker questions with classmates]',\n",
       " 'Instructor and lectures [I can see lecture content on the slides well. ]',\n",
       " 'Instructor and lectures [The instructor regularly shows/mentions reference pages in lecture]',\n",
       " 'Course resources [I make use of notes posted after lectures]',\n",
       " 'Course resources [I make use of the course online reference pages]',\n",
       " 'Course resources [I make use of the recommended textbook]',\n",
       " 'Course resources [I have adequate access to the professor(s)]',\n",
       " 'Course resources [I go to office hours for help]',\n",
       " 'Course resources [I need more office hours than are offered]',\n",
       " 'Course resources [Office hours are too crowded]',\n",
       " 'Course resources [I would watch lecture recordings if they were available]',\n",
       " 'PrairieLearn Homework [I find the online homework (1: too easy; 5: too hard)]',\n",
       " 'PrairieLearn Homework [I spend ___ hours on online homework each week]',\n",
       " 'PrairieLearn Homework [The homework prepares me for the quizzes (1: Strongly disagree; 5: Strongly agree)]',\n",
       " 'PrairieLearn Homework [I use Python to solve problems (1: Strongly disagree; 5. Strongly agree)]',\n",
       " 'PrairieLearn Homework [I use online homework solution resources to help me complete homework (1: never; 5: always)]',\n",
       " 'PrairieLearn Homework [I work on homework assignments with friends (1: never; 5: always)]',\n",
       " 'PrairieLearn Homework [I use the online reference pages to solve problems]',\n",
       " 'Quizzes [I feel comfortable in the computer testing facility]',\n",
       " 'Quizzes [I think cheating is a problem on quizzes]',\n",
       " 'Quizzes [The allotted time for computer-based quizzes is too short]',\n",
       " 'Quizzes [The computer-based quizzes are too hard]',\n",
       " 'Quizzes [The opportunity for a quiz retry reduces my stress levels]',\n",
       " 'Quizzes [I use the online reference pages to solve problems]',\n",
       " 'Discussion Sections [My group has to wait a long time for a TA/CA to come answer our questions]',\n",
       " 'Discussion Sections [The TA/CA checks to see that our group understands the worksheet rather than looking only at whether we have completed the activity]',\n",
       " 'Discussion Sections [I find it easy to communicate with my teammates]',\n",
       " 'Discussion Sections [I have made friends with people in my discussion section]',\n",
       " 'Discussion Sections [I feel like this class is a community of learners that I belong to]',\n",
       " 'Discussion Sections [I feel like my contributions to the group are taken seriously by all members]',\n",
       " 'Discussion Sections [I feel like my teammates stay focused on the activity]',\n",
       " 'Discussion Sections [I find the introduction given by the TA at the beginning of each session helpful]',\n",
       " 'Discussion Sections [The TA spends too much time at the beginning for introduction]',\n",
       " 'Discussion Sections [I use the online reference pages to solve problems]',\n",
       " 'What is one thing that you think is working well in TAM 210/211 this semester?',\n",
       " 'What is one thing that you think could be done better in TAM 210/211 this semester?',\n",
       " \"Demographic Info: All questions below are optional; you may decline to answer any of the following questions by leaving that entry blank. [I feel like I'm becoming a member of the engineering community]\",\n",
       " 'Demographic Info: All questions below are optional; you may decline to answer any of the following questions by leaving that entry blank. [How many years have you been studying at UIUC?]',\n",
       " 'Demographic Info: All questions below are optional; you may decline to answer any of the following questions by leaving that entry blank. [Are you a transfer student? (1: Yes; 2:No)]',\n",
       " 'Demographic Info: All questions below are optional; you may decline to answer any of the following questions by leaving that entry blank. [Are you an international student (1: Yes; 2: No)]',\n",
       " 'Demographic Info: All questions below are optional; you may decline to answer any of the following questions by leaving that entry blank. [Which of the following best describes your gender? 1: Female; 2: Male  3: Neither of these options best describes me)]',\n",
       " 'Demographic Info: All questions below are optional; you may decline to answer any of the following questions by leaving that entry blank. [Which of the following best describes you? 1: African/Black; 2: Asian; 3: White/Caucasian : 4: Native American/Pacific Islander; 5: None of these options best describes me]',\n",
       " 'Demographic Info: All questions below are optional; you may decline to answer any of the following questions by leaving that entry blank. [Do you describe yourself as Hispanic? (1: Yes; 2:No)]',\n",
       " 'Course online reference page [The content in this class stimulates my curiosity about real world problems]',\n",
       " 'Course online reference page [The reference pages help me understand how concepts in the course connect to each other.]',\n",
       " 'Course online reference page [The reference pages help me understand how the course content relates to my role as a future engineer.]']"
      ]
     },
     "execution_count": 16,
     "metadata": {},
     "output_type": "execute_result"
    }
   ],
   "source": [
    "majors = [c for c in start['sta'].columns]\n",
    "majors"
   ]
  },
  {
   "cell_type": "code",
   "execution_count": null,
   "metadata": {},
   "outputs": [],
   "source": []
  }
 ],
 "metadata": {
  "kernelspec": {
   "display_name": "usr",
   "language": "python",
   "name": "python3"
  },
  "language_info": {
   "codemirror_mode": {
    "name": "ipython",
    "version": 3
   },
   "file_extension": ".py",
   "mimetype": "text/x-python",
   "name": "python",
   "nbconvert_exporter": "python",
   "pygments_lexer": "ipython3",
   "version": "3.11.9"
  }
 },
 "nbformat": 4,
 "nbformat_minor": 2
}
