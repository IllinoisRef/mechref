{
 "cells": [
  {
   "cell_type": "code",
   "execution_count": 19,
   "metadata": {},
   "outputs": [],
   "source": [
    "import numpy as np\n",
    "import pandas as pd\n",
    "import datetime as dt\n",
    "import plotly.express as px\n",
    "import plotly.graph_objects as go\n",
    "\n",
    "import warnings\n",
    "warnings.filterwarnings(\"ignore\")\n",
    "\n",
    "px.defaults.template = \"ggplot2\""
   ]
  },
  {
   "cell_type": "code",
   "execution_count": 20,
   "metadata": {},
   "outputs": [
    {
     "data": {
      "text/html": [
       "<div>\n",
       "<style scoped>\n",
       "    .dataframe tbody tr th:only-of-type {\n",
       "        vertical-align: middle;\n",
       "    }\n",
       "\n",
       "    .dataframe tbody tr th {\n",
       "        vertical-align: top;\n",
       "    }\n",
       "\n",
       "    .dataframe thead th {\n",
       "        text-align: right;\n",
       "    }\n",
       "</style>\n",
       "<table border=\"1\" class=\"dataframe\">\n",
       "  <thead>\n",
       "    <tr style=\"text-align: right;\">\n",
       "      <th></th>\n",
       "      <th>0</th>\n",
       "      <th>1</th>\n",
       "      <th>2</th>\n",
       "      <th>3</th>\n",
       "      <th>4</th>\n",
       "      <th>5</th>\n",
       "      <th>6</th>\n",
       "      <th>7</th>\n",
       "      <th>8</th>\n",
       "      <th>9</th>\n",
       "      <th>...</th>\n",
       "      <th>69</th>\n",
       "      <th>70</th>\n",
       "      <th>71</th>\n",
       "      <th>72</th>\n",
       "      <th>73</th>\n",
       "      <th>74</th>\n",
       "      <th>75</th>\n",
       "      <th>76</th>\n",
       "      <th>77</th>\n",
       "      <th>78</th>\n",
       "    </tr>\n",
       "    <tr>\n",
       "      <th>Nth day</th>\n",
       "      <th></th>\n",
       "      <th></th>\n",
       "      <th></th>\n",
       "      <th></th>\n",
       "      <th></th>\n",
       "      <th></th>\n",
       "      <th></th>\n",
       "      <th></th>\n",
       "      <th></th>\n",
       "      <th></th>\n",
       "      <th></th>\n",
       "      <th></th>\n",
       "      <th></th>\n",
       "      <th></th>\n",
       "      <th></th>\n",
       "      <th></th>\n",
       "      <th></th>\n",
       "      <th></th>\n",
       "      <th></th>\n",
       "      <th></th>\n",
       "      <th></th>\n",
       "    </tr>\n",
       "  </thead>\n",
       "  <tbody>\n",
       "    <tr>\n",
       "      <th>/sta/</th>\n",
       "      <td>51</td>\n",
       "      <td>12</td>\n",
       "      <td>25</td>\n",
       "      <td>74</td>\n",
       "      <td>74</td>\n",
       "      <td>128</td>\n",
       "      <td>130</td>\n",
       "      <td>161</td>\n",
       "      <td>19</td>\n",
       "      <td>28</td>\n",
       "      <td>...</td>\n",
       "      <td>19</td>\n",
       "      <td>8</td>\n",
       "      <td>6</td>\n",
       "      <td>7</td>\n",
       "      <td>24</td>\n",
       "      <td>11</td>\n",
       "      <td>15</td>\n",
       "      <td>13</td>\n",
       "      <td>3</td>\n",
       "      <td>1</td>\n",
       "    </tr>\n",
       "    <tr>\n",
       "      <th>/dyn/</th>\n",
       "      <td>51</td>\n",
       "      <td>11</td>\n",
       "      <td>37</td>\n",
       "      <td>95</td>\n",
       "      <td>53</td>\n",
       "      <td>59</td>\n",
       "      <td>86</td>\n",
       "      <td>84</td>\n",
       "      <td>38</td>\n",
       "      <td>48</td>\n",
       "      <td>...</td>\n",
       "      <td>128</td>\n",
       "      <td>139</td>\n",
       "      <td>127</td>\n",
       "      <td>198</td>\n",
       "      <td>121</td>\n",
       "      <td>4</td>\n",
       "      <td>9</td>\n",
       "      <td>7</td>\n",
       "      <td>1</td>\n",
       "      <td>2</td>\n",
       "    </tr>\n",
       "    <tr>\n",
       "      <th>/sol/</th>\n",
       "      <td>47</td>\n",
       "      <td>46</td>\n",
       "      <td>29</td>\n",
       "      <td>40</td>\n",
       "      <td>81</td>\n",
       "      <td>80</td>\n",
       "      <td>51</td>\n",
       "      <td>60</td>\n",
       "      <td>46</td>\n",
       "      <td>18</td>\n",
       "      <td>...</td>\n",
       "      <td>153</td>\n",
       "      <td>159</td>\n",
       "      <td>151</td>\n",
       "      <td>198</td>\n",
       "      <td>135</td>\n",
       "      <td>6</td>\n",
       "      <td>2</td>\n",
       "      <td>2</td>\n",
       "      <td>1</td>\n",
       "      <td>6</td>\n",
       "    </tr>\n",
       "    <tr>\n",
       "      <th>/dyn/rigid_body_kinematics/</th>\n",
       "      <td>4</td>\n",
       "      <td>3</td>\n",
       "      <td>5</td>\n",
       "      <td>6</td>\n",
       "      <td>5</td>\n",
       "      <td>8</td>\n",
       "      <td>10</td>\n",
       "      <td>28</td>\n",
       "      <td>5</td>\n",
       "      <td>11</td>\n",
       "      <td>...</td>\n",
       "      <td>79</td>\n",
       "      <td>70</td>\n",
       "      <td>100</td>\n",
       "      <td>120</td>\n",
       "      <td>142</td>\n",
       "      <td>4</td>\n",
       "      <td>3</td>\n",
       "      <td>1</td>\n",
       "      <td>0</td>\n",
       "      <td>1</td>\n",
       "    </tr>\n",
       "    <tr>\n",
       "      <th>/dyn/rigid_body_kinetics/</th>\n",
       "      <td>2</td>\n",
       "      <td>3</td>\n",
       "      <td>2</td>\n",
       "      <td>1</td>\n",
       "      <td>2</td>\n",
       "      <td>1</td>\n",
       "      <td>2</td>\n",
       "      <td>10</td>\n",
       "      <td>2</td>\n",
       "      <td>1</td>\n",
       "      <td>...</td>\n",
       "      <td>86</td>\n",
       "      <td>87</td>\n",
       "      <td>103</td>\n",
       "      <td>128</td>\n",
       "      <td>140</td>\n",
       "      <td>0</td>\n",
       "      <td>3</td>\n",
       "      <td>1</td>\n",
       "      <td>0</td>\n",
       "      <td>0</td>\n",
       "    </tr>\n",
       "    <tr>\n",
       "      <th>...</th>\n",
       "      <td>...</td>\n",
       "      <td>...</td>\n",
       "      <td>...</td>\n",
       "      <td>...</td>\n",
       "      <td>...</td>\n",
       "      <td>...</td>\n",
       "      <td>...</td>\n",
       "      <td>...</td>\n",
       "      <td>...</td>\n",
       "      <td>...</td>\n",
       "      <td>...</td>\n",
       "      <td>...</td>\n",
       "      <td>...</td>\n",
       "      <td>...</td>\n",
       "      <td>...</td>\n",
       "      <td>...</td>\n",
       "      <td>...</td>\n",
       "      <td>...</td>\n",
       "      <td>...</td>\n",
       "      <td>...</td>\n",
       "      <td>...</td>\n",
       "    </tr>\n",
       "    <tr>\n",
       "      <th>/pl/course_instance/158221/assessment/2434727/clientFilesCourse/mechref/dyn/particle_kinetics.html</th>\n",
       "      <td>0</td>\n",
       "      <td>0</td>\n",
       "      <td>0</td>\n",
       "      <td>0</td>\n",
       "      <td>0</td>\n",
       "      <td>0</td>\n",
       "      <td>0</td>\n",
       "      <td>0</td>\n",
       "      <td>0</td>\n",
       "      <td>0</td>\n",
       "      <td>...</td>\n",
       "      <td>20</td>\n",
       "      <td>22</td>\n",
       "      <td>13</td>\n",
       "      <td>30</td>\n",
       "      <td>13</td>\n",
       "      <td>0</td>\n",
       "      <td>0</td>\n",
       "      <td>0</td>\n",
       "      <td>0</td>\n",
       "      <td>0</td>\n",
       "    </tr>\n",
       "    <tr>\n",
       "      <th>/pl/course_instance/158221/assessment/2434727/clientFilesCourse/mechref/dyn/rigid_body_kinematics.html</th>\n",
       "      <td>0</td>\n",
       "      <td>0</td>\n",
       "      <td>0</td>\n",
       "      <td>0</td>\n",
       "      <td>0</td>\n",
       "      <td>0</td>\n",
       "      <td>0</td>\n",
       "      <td>0</td>\n",
       "      <td>0</td>\n",
       "      <td>0</td>\n",
       "      <td>...</td>\n",
       "      <td>28</td>\n",
       "      <td>24</td>\n",
       "      <td>24</td>\n",
       "      <td>34</td>\n",
       "      <td>49</td>\n",
       "      <td>0</td>\n",
       "      <td>0</td>\n",
       "      <td>0</td>\n",
       "      <td>0</td>\n",
       "      <td>0</td>\n",
       "    </tr>\n",
       "    <tr>\n",
       "      <th>/pl/course_instance/158221/assessment/2434727/clientFilesCourse/mechref/dyn/rigid_body_kinetics.html</th>\n",
       "      <td>0</td>\n",
       "      <td>0</td>\n",
       "      <td>0</td>\n",
       "      <td>0</td>\n",
       "      <td>0</td>\n",
       "      <td>0</td>\n",
       "      <td>0</td>\n",
       "      <td>0</td>\n",
       "      <td>0</td>\n",
       "      <td>0</td>\n",
       "      <td>...</td>\n",
       "      <td>40</td>\n",
       "      <td>28</td>\n",
       "      <td>16</td>\n",
       "      <td>30</td>\n",
       "      <td>46</td>\n",
       "      <td>0</td>\n",
       "      <td>0</td>\n",
       "      <td>0</td>\n",
       "      <td>0</td>\n",
       "      <td>0</td>\n",
       "    </tr>\n",
       "    <tr>\n",
       "      <th>/pl/course_instance/158221/assessment/2434759/clientFilesCourse/mechref/dyn/particle_kinetics.html</th>\n",
       "      <td>0</td>\n",
       "      <td>0</td>\n",
       "      <td>0</td>\n",
       "      <td>0</td>\n",
       "      <td>0</td>\n",
       "      <td>0</td>\n",
       "      <td>0</td>\n",
       "      <td>0</td>\n",
       "      <td>0</td>\n",
       "      <td>0</td>\n",
       "      <td>...</td>\n",
       "      <td>0</td>\n",
       "      <td>0</td>\n",
       "      <td>0</td>\n",
       "      <td>4</td>\n",
       "      <td>0</td>\n",
       "      <td>0</td>\n",
       "      <td>0</td>\n",
       "      <td>0</td>\n",
       "      <td>0</td>\n",
       "      <td>0</td>\n",
       "    </tr>\n",
       "    <tr>\n",
       "      <th>/pl/course_instance/158221/assessment/2434759/clientFilesCourse/mechref/dyn/vectors.html</th>\n",
       "      <td>0</td>\n",
       "      <td>0</td>\n",
       "      <td>0</td>\n",
       "      <td>0</td>\n",
       "      <td>0</td>\n",
       "      <td>0</td>\n",
       "      <td>0</td>\n",
       "      <td>0</td>\n",
       "      <td>0</td>\n",
       "      <td>0</td>\n",
       "      <td>...</td>\n",
       "      <td>0</td>\n",
       "      <td>0</td>\n",
       "      <td>0</td>\n",
       "      <td>3</td>\n",
       "      <td>0</td>\n",
       "      <td>0</td>\n",
       "      <td>0</td>\n",
       "      <td>0</td>\n",
       "      <td>0</td>\n",
       "      <td>0</td>\n",
       "    </tr>\n",
       "  </tbody>\n",
       "</table>\n",
       "<p>107 rows × 79 columns</p>\n",
       "</div>"
      ],
      "text/plain": [
       "                                                    0   1   2   3   4    5   \\\n",
       "Nth day                                                                       \n",
       "/sta/                                               51  12  25  74  74  128   \n",
       "/dyn/                                               51  11  37  95  53   59   \n",
       "/sol/                                               47  46  29  40  81   80   \n",
       "/dyn/rigid_body_kinematics/                          4   3   5   6   5    8   \n",
       "/dyn/rigid_body_kinetics/                            2   3   2   1   2    1   \n",
       "...                                                 ..  ..  ..  ..  ..  ...   \n",
       "/pl/course_instance/158221/assessment/2434727/c...   0   0   0   0   0    0   \n",
       "/pl/course_instance/158221/assessment/2434727/c...   0   0   0   0   0    0   \n",
       "/pl/course_instance/158221/assessment/2434727/c...   0   0   0   0   0    0   \n",
       "/pl/course_instance/158221/assessment/2434759/c...   0   0   0   0   0    0   \n",
       "/pl/course_instance/158221/assessment/2434759/c...   0   0   0   0   0    0   \n",
       "\n",
       "                                                     6    7   8   9   ...  \\\n",
       "Nth day                                                               ...   \n",
       "/sta/                                               130  161  19  28  ...   \n",
       "/dyn/                                                86   84  38  48  ...   \n",
       "/sol/                                                51   60  46  18  ...   \n",
       "/dyn/rigid_body_kinematics/                          10   28   5  11  ...   \n",
       "/dyn/rigid_body_kinetics/                             2   10   2   1  ...   \n",
       "...                                                 ...  ...  ..  ..  ...   \n",
       "/pl/course_instance/158221/assessment/2434727/c...    0    0   0   0  ...   \n",
       "/pl/course_instance/158221/assessment/2434727/c...    0    0   0   0  ...   \n",
       "/pl/course_instance/158221/assessment/2434727/c...    0    0   0   0  ...   \n",
       "/pl/course_instance/158221/assessment/2434759/c...    0    0   0   0  ...   \n",
       "/pl/course_instance/158221/assessment/2434759/c...    0    0   0   0  ...   \n",
       "\n",
       "                                                     69   70   71   72   73  \\\n",
       "Nth day                                                                       \n",
       "/sta/                                                19    8    6    7   24   \n",
       "/dyn/                                               128  139  127  198  121   \n",
       "/sol/                                               153  159  151  198  135   \n",
       "/dyn/rigid_body_kinematics/                          79   70  100  120  142   \n",
       "/dyn/rigid_body_kinetics/                            86   87  103  128  140   \n",
       "...                                                 ...  ...  ...  ...  ...   \n",
       "/pl/course_instance/158221/assessment/2434727/c...   20   22   13   30   13   \n",
       "/pl/course_instance/158221/assessment/2434727/c...   28   24   24   34   49   \n",
       "/pl/course_instance/158221/assessment/2434727/c...   40   28   16   30   46   \n",
       "/pl/course_instance/158221/assessment/2434759/c...    0    0    0    4    0   \n",
       "/pl/course_instance/158221/assessment/2434759/c...    0    0    0    3    0   \n",
       "\n",
       "                                                    74  75  76 77 78  \n",
       "Nth day                                                               \n",
       "/sta/                                               11  15  13  3  1  \n",
       "/dyn/                                                4   9   7  1  2  \n",
       "/sol/                                                6   2   2  1  6  \n",
       "/dyn/rigid_body_kinematics/                          4   3   1  0  1  \n",
       "/dyn/rigid_body_kinetics/                            0   3   1  0  0  \n",
       "...                                                 ..  ..  .. .. ..  \n",
       "/pl/course_instance/158221/assessment/2434727/c...   0   0   0  0  0  \n",
       "/pl/course_instance/158221/assessment/2434727/c...   0   0   0  0  0  \n",
       "/pl/course_instance/158221/assessment/2434727/c...   0   0   0  0  0  \n",
       "/pl/course_instance/158221/assessment/2434759/c...   0   0   0  0  0  \n",
       "/pl/course_instance/158221/assessment/2434759/c...   0   0   0  0  0  \n",
       "\n",
       "[107 rows x 79 columns]"
      ]
     },
     "execution_count": 20,
     "metadata": {},
     "output_type": "execute_result"
    }
   ],
   "source": [
    "data1 = pd.read_csv('10-6_to_12-3.csv').set_index('Nth day')\n",
    "data2 = pd.read_csv('12-4_to_12-21.csv').set_index('Nth day')\n",
    "\n",
    "data = data1.merge(data2, left_index=True, right_index=True)\n",
    "data = data.drop(data.iloc[0].name, axis=0)\n",
    "'''\n",
    "data.index = ['Nth day'] + [i for i in range(len(data.index)-1)] \n",
    "\n",
    "data = data.transpose().fillna(0)\n",
    "\n",
    "data1, data2'''\n",
    "data.columns = [i for i in range(len(data.columns))]\n",
    "\n",
    "data"
   ]
  },
  {
   "cell_type": "code",
   "execution_count": 21,
   "metadata": {},
   "outputs": [
    {
     "data": {
      "text/plain": [
       "339"
      ]
     },
     "execution_count": 21,
     "metadata": {},
     "output_type": "execute_result"
    }
   ],
   "source": [
    "roster_210 = pd.read_csv('./210_roster.csv')\n",
    "\n",
    "n_students = roster_210.Number.value_counts()\n",
    "\n",
    "n_students[211]"
   ]
  },
  {
   "cell_type": "code",
   "execution_count": 22,
   "metadata": {},
   "outputs": [
    {
     "data": {
      "text/plain": [
       "[[datetime.datetime(2024, 10, 6, 0, 0),\n",
       "  datetime.datetime(2024, 10, 13, 0, 0),\n",
       "  datetime.datetime(2024, 10, 20, 0, 0),\n",
       "  datetime.datetime(2024, 10, 27, 0, 0),\n",
       "  datetime.datetime(2024, 11, 3, 0, 0),\n",
       "  datetime.datetime(2024, 11, 10, 0, 0),\n",
       "  datetime.datetime(2024, 11, 17, 0, 0),\n",
       "  datetime.datetime(2024, 11, 24, 0, 0),\n",
       "  datetime.datetime(2024, 12, 1, 0, 0),\n",
       "  datetime.datetime(2024, 12, 8, 0, 0),\n",
       "  datetime.datetime(2024, 12, 15, 0, 0)],\n",
       " [datetime.datetime(2024, 10, 7, 0, 0),\n",
       "  datetime.datetime(2024, 10, 14, 0, 0),\n",
       "  datetime.datetime(2024, 10, 21, 0, 0),\n",
       "  datetime.datetime(2024, 10, 28, 0, 0),\n",
       "  datetime.datetime(2024, 11, 4, 0, 0),\n",
       "  datetime.datetime(2024, 11, 11, 0, 0),\n",
       "  datetime.datetime(2024, 11, 18, 0, 0),\n",
       "  datetime.datetime(2024, 11, 25, 0, 0),\n",
       "  datetime.datetime(2024, 12, 2, 0, 0),\n",
       "  datetime.datetime(2024, 12, 9, 0, 0),\n",
       "  datetime.datetime(2024, 12, 16, 0, 0)],\n",
       " [datetime.datetime(2024, 10, 8, 0, 0),\n",
       "  datetime.datetime(2024, 10, 15, 0, 0),\n",
       "  datetime.datetime(2024, 10, 22, 0, 0),\n",
       "  datetime.datetime(2024, 10, 29, 0, 0),\n",
       "  datetime.datetime(2024, 11, 5, 0, 0),\n",
       "  datetime.datetime(2024, 11, 12, 0, 0),\n",
       "  datetime.datetime(2024, 11, 19, 0, 0),\n",
       "  datetime.datetime(2024, 11, 26, 0, 0),\n",
       "  datetime.datetime(2024, 12, 3, 0, 0),\n",
       "  datetime.datetime(2024, 12, 10, 0, 0),\n",
       "  datetime.datetime(2024, 12, 17, 0, 0)],\n",
       " [datetime.datetime(2024, 10, 9, 0, 0),\n",
       "  datetime.datetime(2024, 10, 16, 0, 0),\n",
       "  datetime.datetime(2024, 10, 23, 0, 0),\n",
       "  datetime.datetime(2024, 10, 30, 0, 0),\n",
       "  datetime.datetime(2024, 11, 6, 0, 0),\n",
       "  datetime.datetime(2024, 11, 13, 0, 0),\n",
       "  datetime.datetime(2024, 11, 20, 0, 0),\n",
       "  datetime.datetime(2024, 11, 27, 0, 0),\n",
       "  datetime.datetime(2024, 12, 4, 0, 0),\n",
       "  datetime.datetime(2024, 12, 11, 0, 0),\n",
       "  datetime.datetime(2024, 12, 18, 0, 0)],\n",
       " [datetime.datetime(2024, 10, 10, 0, 0),\n",
       "  datetime.datetime(2024, 10, 17, 0, 0),\n",
       "  datetime.datetime(2024, 10, 24, 0, 0),\n",
       "  datetime.datetime(2024, 10, 31, 0, 0),\n",
       "  datetime.datetime(2024, 11, 7, 0, 0),\n",
       "  datetime.datetime(2024, 11, 14, 0, 0),\n",
       "  datetime.datetime(2024, 11, 21, 0, 0),\n",
       "  datetime.datetime(2024, 11, 28, 0, 0),\n",
       "  datetime.datetime(2024, 12, 5, 0, 0),\n",
       "  datetime.datetime(2024, 12, 12, 0, 0),\n",
       "  datetime.datetime(2024, 12, 19, 0, 0)],\n",
       " [datetime.datetime(2024, 10, 11, 0, 0),\n",
       "  datetime.datetime(2024, 10, 18, 0, 0),\n",
       "  datetime.datetime(2024, 10, 25, 0, 0),\n",
       "  datetime.datetime(2024, 11, 1, 0, 0),\n",
       "  datetime.datetime(2024, 11, 8, 0, 0),\n",
       "  datetime.datetime(2024, 11, 15, 0, 0),\n",
       "  datetime.datetime(2024, 11, 22, 0, 0),\n",
       "  datetime.datetime(2024, 11, 29, 0, 0),\n",
       "  datetime.datetime(2024, 12, 6, 0, 0),\n",
       "  datetime.datetime(2024, 12, 13, 0, 0),\n",
       "  datetime.datetime(2024, 12, 20, 0, 0)],\n",
       " [datetime.datetime(2024, 10, 12, 0, 0),\n",
       "  datetime.datetime(2024, 10, 19, 0, 0),\n",
       "  datetime.datetime(2024, 10, 26, 0, 0),\n",
       "  datetime.datetime(2024, 11, 2, 0, 0),\n",
       "  datetime.datetime(2024, 11, 9, 0, 0),\n",
       "  datetime.datetime(2024, 11, 16, 0, 0),\n",
       "  datetime.datetime(2024, 11, 23, 0, 0),\n",
       "  datetime.datetime(2024, 11, 30, 0, 0),\n",
       "  datetime.datetime(2024, 12, 7, 0, 0),\n",
       "  datetime.datetime(2024, 12, 14, 0, 0),\n",
       "  datetime.datetime(2024, 12, 21, 0, 0)]]"
      ]
     },
     "execution_count": 22,
     "metadata": {},
     "output_type": "execute_result"
    }
   ],
   "source": [
    "class_data = pd.DataFrame(0, columns=['sta', 'sol', 'dyn', 'date'], index=[i for i in range(len(data.columns)-1)])\n",
    "\n",
    "\n",
    "for i, row in enumerate(data.iloc()):\n",
    "    name = row.name\n",
    "    \n",
    "    if 'sta' in name or \"/course_instance/158188\" in name:\n",
    "        class_data['sta'] += np.array([int(i) for i in row[1:].values])\n",
    "\n",
    "    if 'sol' in name or \"/course_instance/157231\" in name:\n",
    "        class_data['sol'] += np.array([int(i) for i in row[1:].values])\n",
    "    \n",
    "    if 'dyn' in name or \"/course_instance/158221\" in name:\n",
    "        class_data['dyn'] += np.array([int(i) for i in row[1:].values])\n",
    "\n",
    "dates = [dt.datetime(year=2024, month=10, day=5) + dt.timedelta(days=i) for i in range(len(class_data.index))]\n",
    "\n",
    "class_data['date'] = dates\n",
    "\n",
    "class_data = class_data.set_index('date')\n",
    "\n",
    "class_data.loc[class_data.index >= dt.datetime(year=2024, month=11, day=17), ['sta']] *= (n_students[210]+n_students[211])/n_students[211]\n",
    "\n",
    "class_data = class_data.loc[class_data.index >= dt.datetime(year=2024, month=10, day=6)]\n",
    "\n",
    "\n",
    "day = dt.datetime(year=2024, month=10, day=6)\n",
    "\n",
    "days = [[] for i in range(7)]\n",
    "\n",
    "for i in range(7):\n",
    "    temp = day + dt.timedelta(days=i)\n",
    "    while temp < dt.datetime(year=2024, month=12, day=22):\n",
    "        days[i].append(temp)\n",
    "        temp += dt.timedelta(days=7)\n",
    "\n",
    "days"
   ]
  },
  {
   "cell_type": "code",
   "execution_count": 23,
   "metadata": {},
   "outputs": [
    {
     "data": {
      "text/html": [
       "<div>\n",
       "<style scoped>\n",
       "    .dataframe tbody tr th:only-of-type {\n",
       "        vertical-align: middle;\n",
       "    }\n",
       "\n",
       "    .dataframe tbody tr th {\n",
       "        vertical-align: top;\n",
       "    }\n",
       "\n",
       "    .dataframe thead th {\n",
       "        text-align: right;\n",
       "    }\n",
       "</style>\n",
       "<table border=\"1\" class=\"dataframe\">\n",
       "  <thead>\n",
       "    <tr style=\"text-align: right;\">\n",
       "      <th></th>\n",
       "      <th>sta</th>\n",
       "      <th>sol</th>\n",
       "      <th>dyn</th>\n",
       "    </tr>\n",
       "    <tr>\n",
       "      <th>date</th>\n",
       "      <th></th>\n",
       "      <th></th>\n",
       "      <th></th>\n",
       "    </tr>\n",
       "  </thead>\n",
       "  <tbody>\n",
       "    <tr>\n",
       "      <th>2024-10-06</th>\n",
       "      <td>61</td>\n",
       "      <td>58</td>\n",
       "      <td>131</td>\n",
       "    </tr>\n",
       "    <tr>\n",
       "      <th>2024-10-07</th>\n",
       "      <td>206</td>\n",
       "      <td>116</td>\n",
       "      <td>310</td>\n",
       "    </tr>\n",
       "    <tr>\n",
       "      <th>2024-10-08</th>\n",
       "      <td>240</td>\n",
       "      <td>220</td>\n",
       "      <td>208</td>\n",
       "    </tr>\n",
       "    <tr>\n",
       "      <th>2024-10-09</th>\n",
       "      <td>409</td>\n",
       "      <td>280</td>\n",
       "      <td>223</td>\n",
       "    </tr>\n",
       "    <tr>\n",
       "      <th>2024-10-10</th>\n",
       "      <td>454</td>\n",
       "      <td>158</td>\n",
       "      <td>432</td>\n",
       "    </tr>\n",
       "    <tr>\n",
       "      <th>...</th>\n",
       "      <td>...</td>\n",
       "      <td>...</td>\n",
       "      <td>...</td>\n",
       "    </tr>\n",
       "    <tr>\n",
       "      <th>2024-12-17</th>\n",
       "      <td>61</td>\n",
       "      <td>23</td>\n",
       "      <td>20</td>\n",
       "    </tr>\n",
       "    <tr>\n",
       "      <th>2024-12-18</th>\n",
       "      <td>111</td>\n",
       "      <td>32</td>\n",
       "      <td>33</td>\n",
       "    </tr>\n",
       "    <tr>\n",
       "      <th>2024-12-19</th>\n",
       "      <td>54</td>\n",
       "      <td>10</td>\n",
       "      <td>18</td>\n",
       "    </tr>\n",
       "    <tr>\n",
       "      <th>2024-12-20</th>\n",
       "      <td>9</td>\n",
       "      <td>3</td>\n",
       "      <td>2</td>\n",
       "    </tr>\n",
       "    <tr>\n",
       "      <th>2024-12-21</th>\n",
       "      <td>4</td>\n",
       "      <td>10</td>\n",
       "      <td>4</td>\n",
       "    </tr>\n",
       "  </tbody>\n",
       "</table>\n",
       "<p>77 rows × 3 columns</p>\n",
       "</div>"
      ],
      "text/plain": [
       "            sta  sol  dyn\n",
       "date                     \n",
       "2024-10-06   61   58  131\n",
       "2024-10-07  206  116  310\n",
       "2024-10-08  240  220  208\n",
       "2024-10-09  409  280  223\n",
       "2024-10-10  454  158  432\n",
       "...         ...  ...  ...\n",
       "2024-12-17   61   23   20\n",
       "2024-12-18  111   32   33\n",
       "2024-12-19   54   10   18\n",
       "2024-12-20    9    3    2\n",
       "2024-12-21    4   10    4\n",
       "\n",
       "[77 rows x 3 columns]"
      ]
     },
     "execution_count": 23,
     "metadata": {},
     "output_type": "execute_result"
    }
   ],
   "source": [
    "class_data.sta = class_data.sta.map(lambda x: round(x))\n",
    "\n",
    "class_data"
   ]
  },
  {
   "cell_type": "code",
   "execution_count": 24,
   "metadata": {},
   "outputs": [],
   "source": [
    "daily_avgs_no_quiz = pd.DataFrame(0, columns=['sta', 'sol', 'dyn'], index=[i for i in range(7)])\n",
    "daily_avgs_quiz = pd.DataFrame(0, columns=['sta', 'sol', 'dyn'], index=[i for i in range(7)])\n",
    "\n",
    "daily_quiz  = {\n",
    "    'sta':np.array([]),\n",
    "    'sol':np.array([]),\n",
    "    'dyn':np.array([])\n",
    "}\n",
    "\n",
    "daily_noquiz  = {\n",
    "    'sta':np.array([]),\n",
    "    'sol':np.array([]),\n",
    "    'dyn':np.array([])\n",
    "}\n",
    "\n",
    "exam_weeks = {\n",
    "    'sta':[0, 2, 5, 6],\n",
    "    'sol':[0, 2, 4, 6],\n",
    "    'dyn':[1, 3, 5, 8]\n",
    "}\n",
    "\n",
    "day = dt.datetime(year=2024, month=10, day=6)\n",
    "\n",
    "for class_ in ['sta', 'dyn', 'sol']:\n",
    "    for i in range(9):\n",
    "        values = class_data.loc[(class_data.index >= day + dt.timedelta(days=i*7)) & (class_data.index < day + dt.timedelta(days=(i+1)*7))][class_].to_numpy()\n",
    "        \n",
    "        if i in exam_weeks[class_]:\n",
    "            daily_avgs_quiz[class_] += values/len(exam_weeks[class_])\n",
    "            daily_quiz[class_] = np.concatenate([daily_quiz[class_], values])\n",
    "        elif i != 7:\n",
    "            daily_avgs_no_quiz[class_] += values/(8-len(exam_weeks[class_]))\n",
    "            daily_noquiz[class_] = np.concatenate([daily_noquiz[class_], values])"
   ]
  },
  {
   "cell_type": "markdown",
   "metadata": {},
   "source": [
    "# Plots"
   ]
  },
  {
   "cell_type": "code",
   "execution_count": 25,
   "metadata": {},
   "outputs": [],
   "source": [
    "#plot data\n",
    "red = '#f8766d'\n",
    "blue = '#619cff'\n",
    "\n",
    "style = dict(line_width=3, line_dash=\"dash\", line_color=red, opacity=1)\n",
    "day_mapping = {0: \"Su\", 1: \"M\", 2: \"Tu\", 3: \"W\", 4: \"Th\", 5: \"F\", 6: \"Sa\"}"
   ]
  },
  {
   "cell_type": "code",
   "execution_count": 26,
   "metadata": {},
   "outputs": [
    {
     "data": {
      "application/vnd.plotly.v1+json": {
       "config": {
        "plotlyServerURL": "https://plot.ly"
       },
       "data": [
        {
         "marker": {
          "color": "#f8766d",
          "line": {
           "color": "rgb(248, 248, 249)",
           "width": 1
          }
         },
         "name": "Quiz week",
         "showlegend": true,
         "type": "bar",
         "x": [
          1,
          2,
          3,
          4,
          5,
          6,
          7
         ],
         "xaxis": "x",
         "y": [
          133.5,
          280.75,
          386,
          722.25,
          852,
          734.5,
          49.5
         ],
         "yaxis": "y"
        },
        {
         "marker": {
          "color": "#619cff",
          "line": {
           "color": "rgb(248, 248, 249)",
           "width": 1
          }
         },
         "name": "Not quiz week",
         "showlegend": true,
         "type": "bar",
         "x": [
          1,
          2,
          3,
          4,
          5,
          6,
          7
         ],
         "xaxis": "x",
         "y": [
          81.25,
          304.5,
          302.75,
          444.25,
          322,
          255.5,
          81.5
         ],
         "yaxis": "y"
        },
        {
         "marker": {
          "color": "#f8766d",
          "line": {
           "color": "rgb(248, 248, 249)",
           "width": 1
          }
         },
         "name": "Quiz week",
         "showlegend": false,
         "type": "bar",
         "x": [
          1,
          2,
          3,
          4,
          5,
          6,
          7
         ],
         "xaxis": "x2",
         "y": [
          150.75,
          456.5,
          236.25,
          424.75,
          733,
          169.5,
          79.5
         ],
         "yaxis": "y2"
        },
        {
         "marker": {
          "color": "#619cff",
          "line": {
           "color": "rgb(248, 248, 249)",
           "width": 1
          }
         },
         "name": "Not quiz week",
         "showlegend": false,
         "type": "bar",
         "x": [
          1,
          2,
          3,
          4,
          5,
          6,
          7
         ],
         "xaxis": "x2",
         "y": [
          144,
          308.75,
          113.5,
          136,
          208.75,
          159.25,
          65.25
         ],
         "yaxis": "y2"
        },
        {
         "marker": {
          "color": "#f8766d",
          "line": {
           "color": "rgb(248, 248, 249)",
           "width": 1
          }
         },
         "name": "Quiz week",
         "showlegend": false,
         "type": "bar",
         "x": [
          1,
          2,
          3,
          4,
          5,
          6,
          7
         ],
         "xaxis": "x3",
         "y": [
          89.75,
          182.75,
          317.75,
          387,
          380.25,
          437.5,
          256.25
         ],
         "yaxis": "y3"
        },
        {
         "marker": {
          "color": "#619cff",
          "line": {
           "color": "rgb(248, 248, 249)",
           "width": 1
          }
         },
         "name": "Not quiz week",
         "showlegend": false,
         "type": "bar",
         "x": [
          1,
          2,
          3,
          4,
          5,
          6,
          7
         ],
         "xaxis": "x3",
         "y": [
          58.5,
          118,
          221.75,
          321.25,
          108.5,
          184,
          214.5
         ],
         "yaxis": "y3"
        }
       ],
       "layout": {
        "annotations": [
         {
          "font": {
           "size": 22
          },
          "showarrow": false,
          "text": "Statics",
          "x": 0.14444444444444446,
          "xanchor": "center",
          "xref": "paper",
          "y": 1,
          "yanchor": "bottom",
          "yref": "paper"
         },
         {
          "font": {
           "size": 22
          },
          "showarrow": false,
          "text": "Dynamics",
          "x": 0.5,
          "xanchor": "center",
          "xref": "paper",
          "y": 1,
          "yanchor": "bottom",
          "yref": "paper"
         },
         {
          "font": {
           "size": 22
          },
          "showarrow": false,
          "text": "Solid Mechanics",
          "x": 0.8555555555555556,
          "xanchor": "center",
          "xref": "paper",
          "y": 1,
          "yanchor": "bottom",
          "yref": "paper"
         }
        ],
        "font": {
         "size": 20
        },
        "height": 500,
        "legend": {
         "font": {
          "size": 20
         },
         "orientation": "h",
         "x": 0.35,
         "xanchor": "left",
         "y": -0.2,
         "yanchor": "bottom"
        },
        "margin": {
         "b": 80,
         "l": 75,
         "r": 10,
         "t": 50
        },
        "plot_bgcolor": "#ededed",
        "shapes": [
         {
          "line": {
           "color": "#f8766d",
           "dash": "dash",
           "width": 3
          },
          "opacity": 1,
          "type": "line",
          "x0": 3.5,
          "x1": 3.5,
          "xref": "x",
          "y0": 0,
          "y1": 1,
          "yref": "y domain"
         },
         {
          "line": {
           "color": "#f8766d",
           "dash": "dash",
           "width": 3
          },
          "opacity": 1,
          "type": "line",
          "x0": 6.5,
          "x1": 6.5,
          "xref": "x",
          "y0": 0,
          "y1": 1,
          "yref": "y domain"
         },
         {
          "line": {
           "color": "#f8766d",
           "dash": "dash",
           "width": 3
          },
          "opacity": 1,
          "type": "line",
          "x0": 2.5,
          "x1": 2.5,
          "xref": "x2",
          "y0": 0,
          "y1": 1,
          "yref": "y2 domain"
         },
         {
          "line": {
           "color": "#f8766d",
           "dash": "dash",
           "width": 3
          },
          "opacity": 1,
          "type": "line",
          "x0": 5.5,
          "x1": 5.5,
          "xref": "x2",
          "y0": 0,
          "y1": 1,
          "yref": "y2 domain"
         },
         {
          "line": {
           "color": "#f8766d",
           "dash": "dash",
           "width": 3
          },
          "opacity": 1,
          "type": "line",
          "x0": 4.5,
          "x1": 4.5,
          "xref": "x3",
          "y0": 0,
          "y1": 1,
          "yref": "y3 domain"
         },
         {
          "line": {
           "color": "#f8766d",
           "dash": "dash",
           "width": 3
          },
          "opacity": 1,
          "type": "line",
          "x0": 7.5,
          "x1": 7.5,
          "xref": "x3",
          "y0": 0,
          "y1": 1,
          "yref": "y3 domain"
         }
        ],
        "template": {
         "data": {
          "bar": [
           {
            "error_x": {
             "color": "#2a3f5f"
            },
            "error_y": {
             "color": "#2a3f5f"
            },
            "marker": {
             "line": {
              "color": "#E5ECF6",
              "width": 0.5
             },
             "pattern": {
              "fillmode": "overlay",
              "size": 10,
              "solidity": 0.2
             }
            },
            "type": "bar"
           }
          ],
          "barpolar": [
           {
            "marker": {
             "line": {
              "color": "#E5ECF6",
              "width": 0.5
             },
             "pattern": {
              "fillmode": "overlay",
              "size": 10,
              "solidity": 0.2
             }
            },
            "type": "barpolar"
           }
          ],
          "carpet": [
           {
            "aaxis": {
             "endlinecolor": "#2a3f5f",
             "gridcolor": "white",
             "linecolor": "white",
             "minorgridcolor": "white",
             "startlinecolor": "#2a3f5f"
            },
            "baxis": {
             "endlinecolor": "#2a3f5f",
             "gridcolor": "white",
             "linecolor": "white",
             "minorgridcolor": "white",
             "startlinecolor": "#2a3f5f"
            },
            "type": "carpet"
           }
          ],
          "choropleth": [
           {
            "colorbar": {
             "outlinewidth": 0,
             "ticks": ""
            },
            "type": "choropleth"
           }
          ],
          "contour": [
           {
            "colorbar": {
             "outlinewidth": 0,
             "ticks": ""
            },
            "colorscale": [
             [
              0,
              "#0d0887"
             ],
             [
              0.1111111111111111,
              "#46039f"
             ],
             [
              0.2222222222222222,
              "#7201a8"
             ],
             [
              0.3333333333333333,
              "#9c179e"
             ],
             [
              0.4444444444444444,
              "#bd3786"
             ],
             [
              0.5555555555555556,
              "#d8576b"
             ],
             [
              0.6666666666666666,
              "#ed7953"
             ],
             [
              0.7777777777777778,
              "#fb9f3a"
             ],
             [
              0.8888888888888888,
              "#fdca26"
             ],
             [
              1,
              "#f0f921"
             ]
            ],
            "type": "contour"
           }
          ],
          "contourcarpet": [
           {
            "colorbar": {
             "outlinewidth": 0,
             "ticks": ""
            },
            "type": "contourcarpet"
           }
          ],
          "heatmap": [
           {
            "colorbar": {
             "outlinewidth": 0,
             "ticks": ""
            },
            "colorscale": [
             [
              0,
              "#0d0887"
             ],
             [
              0.1111111111111111,
              "#46039f"
             ],
             [
              0.2222222222222222,
              "#7201a8"
             ],
             [
              0.3333333333333333,
              "#9c179e"
             ],
             [
              0.4444444444444444,
              "#bd3786"
             ],
             [
              0.5555555555555556,
              "#d8576b"
             ],
             [
              0.6666666666666666,
              "#ed7953"
             ],
             [
              0.7777777777777778,
              "#fb9f3a"
             ],
             [
              0.8888888888888888,
              "#fdca26"
             ],
             [
              1,
              "#f0f921"
             ]
            ],
            "type": "heatmap"
           }
          ],
          "heatmapgl": [
           {
            "colorbar": {
             "outlinewidth": 0,
             "ticks": ""
            },
            "colorscale": [
             [
              0,
              "#0d0887"
             ],
             [
              0.1111111111111111,
              "#46039f"
             ],
             [
              0.2222222222222222,
              "#7201a8"
             ],
             [
              0.3333333333333333,
              "#9c179e"
             ],
             [
              0.4444444444444444,
              "#bd3786"
             ],
             [
              0.5555555555555556,
              "#d8576b"
             ],
             [
              0.6666666666666666,
              "#ed7953"
             ],
             [
              0.7777777777777778,
              "#fb9f3a"
             ],
             [
              0.8888888888888888,
              "#fdca26"
             ],
             [
              1,
              "#f0f921"
             ]
            ],
            "type": "heatmapgl"
           }
          ],
          "histogram": [
           {
            "marker": {
             "pattern": {
              "fillmode": "overlay",
              "size": 10,
              "solidity": 0.2
             }
            },
            "type": "histogram"
           }
          ],
          "histogram2d": [
           {
            "colorbar": {
             "outlinewidth": 0,
             "ticks": ""
            },
            "colorscale": [
             [
              0,
              "#0d0887"
             ],
             [
              0.1111111111111111,
              "#46039f"
             ],
             [
              0.2222222222222222,
              "#7201a8"
             ],
             [
              0.3333333333333333,
              "#9c179e"
             ],
             [
              0.4444444444444444,
              "#bd3786"
             ],
             [
              0.5555555555555556,
              "#d8576b"
             ],
             [
              0.6666666666666666,
              "#ed7953"
             ],
             [
              0.7777777777777778,
              "#fb9f3a"
             ],
             [
              0.8888888888888888,
              "#fdca26"
             ],
             [
              1,
              "#f0f921"
             ]
            ],
            "type": "histogram2d"
           }
          ],
          "histogram2dcontour": [
           {
            "colorbar": {
             "outlinewidth": 0,
             "ticks": ""
            },
            "colorscale": [
             [
              0,
              "#0d0887"
             ],
             [
              0.1111111111111111,
              "#46039f"
             ],
             [
              0.2222222222222222,
              "#7201a8"
             ],
             [
              0.3333333333333333,
              "#9c179e"
             ],
             [
              0.4444444444444444,
              "#bd3786"
             ],
             [
              0.5555555555555556,
              "#d8576b"
             ],
             [
              0.6666666666666666,
              "#ed7953"
             ],
             [
              0.7777777777777778,
              "#fb9f3a"
             ],
             [
              0.8888888888888888,
              "#fdca26"
             ],
             [
              1,
              "#f0f921"
             ]
            ],
            "type": "histogram2dcontour"
           }
          ],
          "mesh3d": [
           {
            "colorbar": {
             "outlinewidth": 0,
             "ticks": ""
            },
            "type": "mesh3d"
           }
          ],
          "parcoords": [
           {
            "line": {
             "colorbar": {
              "outlinewidth": 0,
              "ticks": ""
             }
            },
            "type": "parcoords"
           }
          ],
          "pie": [
           {
            "automargin": true,
            "type": "pie"
           }
          ],
          "scatter": [
           {
            "fillpattern": {
             "fillmode": "overlay",
             "size": 10,
             "solidity": 0.2
            },
            "type": "scatter"
           }
          ],
          "scatter3d": [
           {
            "line": {
             "colorbar": {
              "outlinewidth": 0,
              "ticks": ""
             }
            },
            "marker": {
             "colorbar": {
              "outlinewidth": 0,
              "ticks": ""
             }
            },
            "type": "scatter3d"
           }
          ],
          "scattercarpet": [
           {
            "marker": {
             "colorbar": {
              "outlinewidth": 0,
              "ticks": ""
             }
            },
            "type": "scattercarpet"
           }
          ],
          "scattergeo": [
           {
            "marker": {
             "colorbar": {
              "outlinewidth": 0,
              "ticks": ""
             }
            },
            "type": "scattergeo"
           }
          ],
          "scattergl": [
           {
            "marker": {
             "colorbar": {
              "outlinewidth": 0,
              "ticks": ""
             }
            },
            "type": "scattergl"
           }
          ],
          "scattermapbox": [
           {
            "marker": {
             "colorbar": {
              "outlinewidth": 0,
              "ticks": ""
             }
            },
            "type": "scattermapbox"
           }
          ],
          "scatterpolar": [
           {
            "marker": {
             "colorbar": {
              "outlinewidth": 0,
              "ticks": ""
             }
            },
            "type": "scatterpolar"
           }
          ],
          "scatterpolargl": [
           {
            "marker": {
             "colorbar": {
              "outlinewidth": 0,
              "ticks": ""
             }
            },
            "type": "scatterpolargl"
           }
          ],
          "scatterternary": [
           {
            "marker": {
             "colorbar": {
              "outlinewidth": 0,
              "ticks": ""
             }
            },
            "type": "scatterternary"
           }
          ],
          "surface": [
           {
            "colorbar": {
             "outlinewidth": 0,
             "ticks": ""
            },
            "colorscale": [
             [
              0,
              "#0d0887"
             ],
             [
              0.1111111111111111,
              "#46039f"
             ],
             [
              0.2222222222222222,
              "#7201a8"
             ],
             [
              0.3333333333333333,
              "#9c179e"
             ],
             [
              0.4444444444444444,
              "#bd3786"
             ],
             [
              0.5555555555555556,
              "#d8576b"
             ],
             [
              0.6666666666666666,
              "#ed7953"
             ],
             [
              0.7777777777777778,
              "#fb9f3a"
             ],
             [
              0.8888888888888888,
              "#fdca26"
             ],
             [
              1,
              "#f0f921"
             ]
            ],
            "type": "surface"
           }
          ],
          "table": [
           {
            "cells": {
             "fill": {
              "color": "#EBF0F8"
             },
             "line": {
              "color": "white"
             }
            },
            "header": {
             "fill": {
              "color": "#C8D4E3"
             },
             "line": {
              "color": "white"
             }
            },
            "type": "table"
           }
          ]
         },
         "layout": {
          "annotationdefaults": {
           "arrowcolor": "#2a3f5f",
           "arrowhead": 0,
           "arrowwidth": 1
          },
          "autotypenumbers": "strict",
          "coloraxis": {
           "colorbar": {
            "outlinewidth": 0,
            "ticks": ""
           }
          },
          "colorscale": {
           "diverging": [
            [
             0,
             "#8e0152"
            ],
            [
             0.1,
             "#c51b7d"
            ],
            [
             0.2,
             "#de77ae"
            ],
            [
             0.3,
             "#f1b6da"
            ],
            [
             0.4,
             "#fde0ef"
            ],
            [
             0.5,
             "#f7f7f7"
            ],
            [
             0.6,
             "#e6f5d0"
            ],
            [
             0.7,
             "#b8e186"
            ],
            [
             0.8,
             "#7fbc41"
            ],
            [
             0.9,
             "#4d9221"
            ],
            [
             1,
             "#276419"
            ]
           ],
           "sequential": [
            [
             0,
             "#0d0887"
            ],
            [
             0.1111111111111111,
             "#46039f"
            ],
            [
             0.2222222222222222,
             "#7201a8"
            ],
            [
             0.3333333333333333,
             "#9c179e"
            ],
            [
             0.4444444444444444,
             "#bd3786"
            ],
            [
             0.5555555555555556,
             "#d8576b"
            ],
            [
             0.6666666666666666,
             "#ed7953"
            ],
            [
             0.7777777777777778,
             "#fb9f3a"
            ],
            [
             0.8888888888888888,
             "#fdca26"
            ],
            [
             1,
             "#f0f921"
            ]
           ],
           "sequentialminus": [
            [
             0,
             "#0d0887"
            ],
            [
             0.1111111111111111,
             "#46039f"
            ],
            [
             0.2222222222222222,
             "#7201a8"
            ],
            [
             0.3333333333333333,
             "#9c179e"
            ],
            [
             0.4444444444444444,
             "#bd3786"
            ],
            [
             0.5555555555555556,
             "#d8576b"
            ],
            [
             0.6666666666666666,
             "#ed7953"
            ],
            [
             0.7777777777777778,
             "#fb9f3a"
            ],
            [
             0.8888888888888888,
             "#fdca26"
            ],
            [
             1,
             "#f0f921"
            ]
           ]
          },
          "colorway": [
           "#636efa",
           "#EF553B",
           "#00cc96",
           "#ab63fa",
           "#FFA15A",
           "#19d3f3",
           "#FF6692",
           "#B6E880",
           "#FF97FF",
           "#FECB52"
          ],
          "font": {
           "color": "#2a3f5f"
          },
          "geo": {
           "bgcolor": "white",
           "lakecolor": "white",
           "landcolor": "#E5ECF6",
           "showlakes": true,
           "showland": true,
           "subunitcolor": "white"
          },
          "hoverlabel": {
           "align": "left"
          },
          "hovermode": "closest",
          "mapbox": {
           "style": "light"
          },
          "paper_bgcolor": "white",
          "plot_bgcolor": "#E5ECF6",
          "polar": {
           "angularaxis": {
            "gridcolor": "white",
            "linecolor": "white",
            "ticks": ""
           },
           "bgcolor": "#E5ECF6",
           "radialaxis": {
            "gridcolor": "white",
            "linecolor": "white",
            "ticks": ""
           }
          },
          "scene": {
           "xaxis": {
            "backgroundcolor": "#E5ECF6",
            "gridcolor": "white",
            "gridwidth": 2,
            "linecolor": "white",
            "showbackground": true,
            "ticks": "",
            "zerolinecolor": "white"
           },
           "yaxis": {
            "backgroundcolor": "#E5ECF6",
            "gridcolor": "white",
            "gridwidth": 2,
            "linecolor": "white",
            "showbackground": true,
            "ticks": "",
            "zerolinecolor": "white"
           },
           "zaxis": {
            "backgroundcolor": "#E5ECF6",
            "gridcolor": "white",
            "gridwidth": 2,
            "linecolor": "white",
            "showbackground": true,
            "ticks": "",
            "zerolinecolor": "white"
           }
          },
          "shapedefaults": {
           "line": {
            "color": "#2a3f5f"
           }
          },
          "ternary": {
           "aaxis": {
            "gridcolor": "white",
            "linecolor": "white",
            "ticks": ""
           },
           "baxis": {
            "gridcolor": "white",
            "linecolor": "white",
            "ticks": ""
           },
           "bgcolor": "#E5ECF6",
           "caxis": {
            "gridcolor": "white",
            "linecolor": "white",
            "ticks": ""
           }
          },
          "title": {
           "x": 0.05
          },
          "xaxis": {
           "automargin": true,
           "gridcolor": "white",
           "linecolor": "white",
           "ticks": "",
           "title": {
            "standoff": 15
           },
           "zerolinecolor": "white",
           "zerolinewidth": 2
          },
          "yaxis": {
           "automargin": true,
           "gridcolor": "white",
           "linecolor": "white",
           "ticks": "",
           "title": {
            "standoff": 15
           },
           "zerolinecolor": "white",
           "zerolinewidth": 2
          }
         }
        },
        "width": 1200,
        "xaxis": {
         "anchor": "y",
         "domain": [
          0,
          0.2888888888888889
         ],
         "tickangle": 0,
         "ticktext": [
          "Su",
          "M",
          "Tu",
          "W",
          "Th",
          "F",
          "Sa"
         ],
         "tickvals": [
          1,
          2,
          3,
          4,
          5,
          6,
          7
         ]
        },
        "xaxis2": {
         "anchor": "y2",
         "domain": [
          0.35555555555555557,
          0.6444444444444445
         ],
         "tickangle": 0,
         "ticktext": [
          "Su",
          "M",
          "Tu",
          "W",
          "Th",
          "F",
          "Sa"
         ],
         "tickvals": [
          1,
          2,
          3,
          4,
          5,
          6,
          7
         ]
        },
        "xaxis3": {
         "anchor": "y3",
         "domain": [
          0.7111111111111111,
          1
         ],
         "tickangle": 0,
         "ticktext": [
          "Su",
          "M",
          "Tu",
          "W",
          "Th",
          "F",
          "Sa"
         ],
         "tickvals": [
          1,
          2,
          3,
          4,
          5,
          6,
          7
         ]
        },
        "yaxis": {
         "anchor": "x",
         "domain": [
          0,
          1
         ],
         "tickfont": {
          "size": 16
         },
         "title": {
          "text": "Average page views"
         }
        },
        "yaxis2": {
         "anchor": "x2",
         "domain": [
          0,
          1
         ],
         "tickfont": {
          "size": 16
         }
        },
        "yaxis3": {
         "anchor": "x3",
         "domain": [
          0,
          1
         ],
         "tickfont": {
          "size": 16
         }
        }
       }
      }
     },
     "metadata": {},
     "output_type": "display_data"
    }
   ],
   "source": [
    "from plotly.subplots import make_subplots\n",
    "\n",
    "fig = make_subplots(rows=1, cols=3, column_titles=['Statics', 'Dynamics', 'Solid Mechanics'])\n",
    "\n",
    "iteration = 0\n",
    "\n",
    "for c, class_ in enumerate(['sta', 'dyn', 'sol']):\n",
    "    graph_data = pd.DataFrame(index=[i+1 for i in range(7)], columns = ['Exam week', 'Not Exam week'])\n",
    "    graph_data['Exam week'] = daily_avgs_quiz[class_].values\n",
    "    graph_data['Not Exam week'] = daily_avgs_no_quiz[class_].values\n",
    "    \n",
    "    fig.add_trace(go.Bar(\n",
    "                    x=[i+1 for i in range(len(graph_data.index))], y=graph_data['Exam week'],\n",
    "                    marker=dict(\n",
    "                        color=red,\n",
    "                        line=dict(color='rgb(248, 248, 249)', width=1)\n",
    "                    ),\n",
    "                    #name=[c for k, c in day_mapping.items()],\n",
    "                    xaxis='x',\n",
    "                    showlegend=True if not c else False,\n",
    "                    name='Quiz week'\n",
    "                )\n",
    "                \n",
    "                #print(xd, True if (c == 0 and j == 0 and not iteration % 2) else False)\n",
    "                \n",
    "                ,row=1, col=c+1)\n",
    "    iteration += 1\n",
    "    fig.add_trace(go.Bar(\n",
    "                    x=[i+1 for i in range(len(graph_data.index))], y=graph_data['Not Exam week'],\n",
    "                    marker=dict(\n",
    "                        color=blue,\n",
    "                        line=dict(color='rgb(248, 248, 249)', width=1)\n",
    "                    ),\n",
    "                    #name=[c for k, c in day_mapping.items()],\n",
    "                    xaxis='x',\n",
    "                    showlegend=True if not c else False,\n",
    "                    name='Not quiz week'\n",
    "                ),row=1, col=c+1)\n",
    "\n",
    "    \n",
    "    if class_ == \"sol\":\n",
    "        fig.add_vline(x=4.5, **style, col=c+1)\n",
    "        fig.add_vline(x=7.5, **style, col=c+1)\n",
    "    if class_ == \"sta\":\n",
    "        fig.add_vline(x=3.5, **style, col=c+1)\n",
    "        fig.add_vline(x=6.5, **style, col=c+1)\n",
    "    if class_ == \"dyn\":\n",
    "        fig.add_vline(x=2.5, **style, col=c+1)\n",
    "        fig.add_vline(x=5.5, **style, col=c+1)\n",
    "\n",
    "    fig.update_layout(\n",
    "        #xaxis=dict(title=\"Day of Week\",\n",
    "                   #x=0.5),\n",
    "        yaxis=dict(title=\"Average page views\"),\n",
    "        height=500, \n",
    "        width=1200,\n",
    "        #legend_title_text='Week type',\n",
    "        margin=dict(l=75, r=10, t=50, b=80),\n",
    "        legend=dict(\n",
    "                yanchor=\"bottom\",\n",
    "                y=-.2,\n",
    "                xanchor=\"left\",\n",
    "                x=0.35,\n",
    "                orientation=\"h\",\n",
    "                font=dict(\n",
    "                    #family=\"Courier\",\n",
    "                    size=20,\n",
    "                   # color=\"black\"\n",
    "                ),\n",
    "            ),\n",
    "        font=dict(size=20), plot_bgcolor=\"#ededed\",\n",
    "    )\n",
    "\n",
    "    fig.update_xaxes(col=c+1, tickvals=[i+1 for i in range(7)],\n",
    "                   ticktext=[day[1] for day in day_mapping.items()], tickangle=0)\n",
    "    \n",
    "    fig.update_yaxes(col=c+1, tickfont = dict(size=16))\n",
    "\n",
    "for an in fig['layout']['annotations']:\n",
    "    an.update(font=dict(size=22))\n",
    "\n",
    "\n",
    "fig.write_image(f\"./plots/combined_daily.png\", scale=3)\n",
    "fig.show()"
   ]
  },
  {
   "cell_type": "code",
   "execution_count": 31,
   "metadata": {},
   "outputs": [
    {
     "data": {
      "application/vnd.plotly.v1+json": {
       "config": {
        "plotlyServerURL": "https://plot.ly"
       },
       "data": [
        {
         "hovertemplate": "date=%{x}<br>sta=%{y}<extra></extra>",
         "legendgroup": "",
         "line": {
          "color": "#619cff",
          "dash": "solid"
         },
         "marker": {
          "symbol": "circle"
         },
         "mode": "lines",
         "name": "",
         "orientation": "v",
         "showlegend": false,
         "type": "scatter",
         "x": [
          "2024-10-06T00:00:00",
          "2024-10-07T00:00:00",
          "2024-10-08T00:00:00",
          "2024-10-09T00:00:00",
          "2024-10-10T00:00:00",
          "2024-10-11T00:00:00",
          "2024-10-12T00:00:00",
          "2024-10-13T00:00:00",
          "2024-10-14T00:00:00",
          "2024-10-15T00:00:00",
          "2024-10-16T00:00:00",
          "2024-10-17T00:00:00",
          "2024-10-18T00:00:00",
          "2024-10-19T00:00:00",
          "2024-10-20T00:00:00",
          "2024-10-21T00:00:00",
          "2024-10-22T00:00:00",
          "2024-10-23T00:00:00",
          "2024-10-24T00:00:00",
          "2024-10-25T00:00:00",
          "2024-10-26T00:00:00",
          "2024-10-27T00:00:00",
          "2024-10-28T00:00:00",
          "2024-10-29T00:00:00",
          "2024-10-30T00:00:00",
          "2024-10-31T00:00:00",
          "2024-11-01T00:00:00",
          "2024-11-02T00:00:00",
          "2024-11-03T00:00:00",
          "2024-11-04T00:00:00",
          "2024-11-05T00:00:00",
          "2024-11-06T00:00:00",
          "2024-11-07T00:00:00",
          "2024-11-08T00:00:00",
          "2024-11-09T00:00:00",
          "2024-11-10T00:00:00",
          "2024-11-11T00:00:00",
          "2024-11-12T00:00:00",
          "2024-11-13T00:00:00",
          "2024-11-14T00:00:00",
          "2024-11-15T00:00:00",
          "2024-11-16T00:00:00",
          "2024-11-17T00:00:00",
          "2024-11-18T00:00:00",
          "2024-11-19T00:00:00",
          "2024-11-20T00:00:00",
          "2024-11-21T00:00:00",
          "2024-11-22T00:00:00",
          "2024-11-23T00:00:00",
          "2024-11-24T00:00:00",
          "2024-11-25T00:00:00",
          "2024-11-26T00:00:00",
          "2024-11-27T00:00:00",
          "2024-11-28T00:00:00",
          "2024-11-29T00:00:00",
          "2024-11-30T00:00:00",
          "2024-12-01T00:00:00",
          "2024-12-02T00:00:00",
          "2024-12-03T00:00:00",
          "2024-12-04T00:00:00",
          "2024-12-05T00:00:00",
          "2024-12-06T00:00:00",
          "2024-12-07T00:00:00",
          "2024-12-08T00:00:00",
          "2024-12-09T00:00:00",
          "2024-12-10T00:00:00",
          "2024-12-11T00:00:00",
          "2024-12-12T00:00:00",
          "2024-12-13T00:00:00",
          "2024-12-14T00:00:00",
          "2024-12-15T00:00:00",
          "2024-12-16T00:00:00",
          "2024-12-17T00:00:00",
          "2024-12-18T00:00:00",
          "2024-12-19T00:00:00",
          "2024-12-20T00:00:00",
          "2024-12-21T00:00:00"
         ],
         "xaxis": "x",
         "y": [
          61,
          206,
          240,
          409,
          454,
          593,
          68,
          91,
          318,
          260,
          434,
          386,
          260,
          40,
          109,
          158,
          138,
          365,
          396,
          412,
          37,
          47,
          171,
          160,
          308,
          135,
          168,
          20,
          43,
          130,
          90,
          245,
          120,
          91,
          112,
          192,
          430,
          569,
          944,
          1557,
          1128,
          65,
          172,
          329,
          597,
          1171,
          1001,
          805,
          28,
          54,
          50,
          161,
          54,
          54,
          30,
          92,
          144,
          599,
          701,
          790,
          647,
          503,
          154,
          202,
          623,
          886,
          1210,
          584,
          536,
          414,
          695,
          527,
          61,
          111,
          54,
          9,
          4
         ],
         "yaxis": "y"
        }
       ],
       "layout": {
        "annotations": [
         {
          "showarrow": false,
          "text": "Fall break",
          "x": "2024-11-27T12:00:00",
          "y": 1323.45
         }
        ],
        "font": {
         "size": 18
        },
        "height": 500,
        "legend": {
         "tracegroupgap": 0
        },
        "margin": {
         "b": 40,
         "l": 40,
         "r": 20,
         "t": 20
        },
        "shapes": [
         {
          "fillcolor": "#aaaaaa",
          "layer": "below",
          "line": {
           "width": 0
          },
          "opacity": 0.4,
          "type": "rect",
          "x0": "2024-11-24T00:00:00",
          "x1": "2024-12-01T00:00:00",
          "xref": "x",
          "y0": "-1000",
          "y1": "2000",
          "yref": "y"
         },
         {
          "line": {
           "color": "#f8766d",
           "dash": "dash",
           "width": 3
          },
          "opacity": 1,
          "type": "line",
          "x0": "2024-10-08T12:00:00",
          "x1": "2024-10-08T12:00:00",
          "xref": "x",
          "y0": 0,
          "y1": 1,
          "yref": "y domain"
         },
         {
          "line": {
           "color": "#f8766d",
           "dash": "dash",
           "width": 3
          },
          "opacity": 1,
          "type": "line",
          "x0": "2024-10-11T12:00:00",
          "x1": "2024-10-11T12:00:00",
          "xref": "x",
          "y0": 0,
          "y1": 1,
          "yref": "y domain"
         },
         {
          "line": {
           "color": "#f8766d",
           "dash": "dash",
           "width": 3
          },
          "opacity": 1,
          "type": "line",
          "x0": "2024-10-22T12:00:00",
          "x1": "2024-10-22T12:00:00",
          "xref": "x",
          "y0": 0,
          "y1": 1,
          "yref": "y domain"
         },
         {
          "line": {
           "color": "#f8766d",
           "dash": "dash",
           "width": 3
          },
          "opacity": 1,
          "type": "line",
          "x0": "2024-10-25T12:00:00",
          "x1": "2024-10-25T12:00:00",
          "xref": "x",
          "y0": 0,
          "y1": 1,
          "yref": "y domain"
         },
         {
          "line": {
           "color": "blue",
           "dash": "dash",
           "width": 3
          },
          "opacity": 1,
          "type": "line",
          "x0": "2024-11-12T12:00:00",
          "x1": "2024-11-12T12:00:00",
          "xref": "x",
          "y0": 0,
          "y1": 1,
          "yref": "y domain"
         },
         {
          "line": {
           "color": "blue",
           "dash": "dash",
           "width": 3
          },
          "opacity": 1,
          "type": "line",
          "x0": "2024-11-15T12:00:00",
          "x1": "2024-11-15T12:00:00",
          "xref": "x",
          "y0": 0,
          "y1": 1,
          "yref": "y domain"
         },
         {
          "line": {
           "color": "#f8766d",
           "dash": "dash",
           "width": 3
          },
          "opacity": 1,
          "type": "line",
          "x0": "2024-11-19T12:00:00",
          "x1": "2024-11-19T12:00:00",
          "xref": "x",
          "y0": 0,
          "y1": 1,
          "yref": "y domain"
         },
         {
          "line": {
           "color": "#f8766d",
           "dash": "dash",
           "width": 3
          },
          "opacity": 1,
          "type": "line",
          "x0": "2024-11-22T12:00:00",
          "x1": "2024-11-22T12:00:00",
          "xref": "x",
          "y0": 0,
          "y1": 1,
          "yref": "y domain"
         },
         {
          "line": {
           "color": "#f8766d",
           "dash": "dash",
           "width": 3
          },
          "opacity": 1,
          "type": "line",
          "x0": "2024-12-08T12:00:00",
          "x1": "2024-12-08T12:00:00",
          "xref": "x",
          "y0": 0,
          "y1": 1,
          "yref": "y domain"
         },
         {
          "line": {
           "color": "#f8766d",
           "dash": "dash",
           "width": 3
          },
          "opacity": 1,
          "type": "line",
          "x0": "2024-12-11T12:00:00",
          "x1": "2024-12-11T12:00:00",
          "xref": "x",
          "y0": 0,
          "y1": 1,
          "yref": "y domain"
         }
        ],
        "template": {
         "data": {
          "bar": [
           {
            "error_x": {
             "color": "rgb(51,51,51)"
            },
            "error_y": {
             "color": "rgb(51,51,51)"
            },
            "marker": {
             "line": {
              "color": "rgb(237,237,237)",
              "width": 0.5
             },
             "pattern": {
              "fillmode": "overlay",
              "size": 10,
              "solidity": 0.2
             }
            },
            "type": "bar"
           }
          ],
          "barpolar": [
           {
            "marker": {
             "line": {
              "color": "rgb(237,237,237)",
              "width": 0.5
             },
             "pattern": {
              "fillmode": "overlay",
              "size": 10,
              "solidity": 0.2
             }
            },
            "type": "barpolar"
           }
          ],
          "carpet": [
           {
            "aaxis": {
             "endlinecolor": "rgb(51,51,51)",
             "gridcolor": "white",
             "linecolor": "white",
             "minorgridcolor": "white",
             "startlinecolor": "rgb(51,51,51)"
            },
            "baxis": {
             "endlinecolor": "rgb(51,51,51)",
             "gridcolor": "white",
             "linecolor": "white",
             "minorgridcolor": "white",
             "startlinecolor": "rgb(51,51,51)"
            },
            "type": "carpet"
           }
          ],
          "choropleth": [
           {
            "colorbar": {
             "outlinewidth": 0,
             "tickcolor": "rgb(237,237,237)",
             "ticklen": 6,
             "ticks": "inside"
            },
            "type": "choropleth"
           }
          ],
          "contour": [
           {
            "colorbar": {
             "outlinewidth": 0,
             "tickcolor": "rgb(237,237,237)",
             "ticklen": 6,
             "ticks": "inside"
            },
            "colorscale": [
             [
              0,
              "rgb(20,44,66)"
             ],
             [
              1,
              "rgb(90,179,244)"
             ]
            ],
            "type": "contour"
           }
          ],
          "contourcarpet": [
           {
            "colorbar": {
             "outlinewidth": 0,
             "tickcolor": "rgb(237,237,237)",
             "ticklen": 6,
             "ticks": "inside"
            },
            "type": "contourcarpet"
           }
          ],
          "heatmap": [
           {
            "colorbar": {
             "outlinewidth": 0,
             "tickcolor": "rgb(237,237,237)",
             "ticklen": 6,
             "ticks": "inside"
            },
            "colorscale": [
             [
              0,
              "rgb(20,44,66)"
             ],
             [
              1,
              "rgb(90,179,244)"
             ]
            ],
            "type": "heatmap"
           }
          ],
          "heatmapgl": [
           {
            "colorbar": {
             "outlinewidth": 0,
             "tickcolor": "rgb(237,237,237)",
             "ticklen": 6,
             "ticks": "inside"
            },
            "colorscale": [
             [
              0,
              "rgb(20,44,66)"
             ],
             [
              1,
              "rgb(90,179,244)"
             ]
            ],
            "type": "heatmapgl"
           }
          ],
          "histogram": [
           {
            "marker": {
             "pattern": {
              "fillmode": "overlay",
              "size": 10,
              "solidity": 0.2
             }
            },
            "type": "histogram"
           }
          ],
          "histogram2d": [
           {
            "colorbar": {
             "outlinewidth": 0,
             "tickcolor": "rgb(237,237,237)",
             "ticklen": 6,
             "ticks": "inside"
            },
            "colorscale": [
             [
              0,
              "rgb(20,44,66)"
             ],
             [
              1,
              "rgb(90,179,244)"
             ]
            ],
            "type": "histogram2d"
           }
          ],
          "histogram2dcontour": [
           {
            "colorbar": {
             "outlinewidth": 0,
             "tickcolor": "rgb(237,237,237)",
             "ticklen": 6,
             "ticks": "inside"
            },
            "colorscale": [
             [
              0,
              "rgb(20,44,66)"
             ],
             [
              1,
              "rgb(90,179,244)"
             ]
            ],
            "type": "histogram2dcontour"
           }
          ],
          "mesh3d": [
           {
            "colorbar": {
             "outlinewidth": 0,
             "tickcolor": "rgb(237,237,237)",
             "ticklen": 6,
             "ticks": "inside"
            },
            "type": "mesh3d"
           }
          ],
          "parcoords": [
           {
            "line": {
             "colorbar": {
              "outlinewidth": 0,
              "tickcolor": "rgb(237,237,237)",
              "ticklen": 6,
              "ticks": "inside"
             }
            },
            "type": "parcoords"
           }
          ],
          "pie": [
           {
            "automargin": true,
            "type": "pie"
           }
          ],
          "scatter": [
           {
            "fillpattern": {
             "fillmode": "overlay",
             "size": 10,
             "solidity": 0.2
            },
            "type": "scatter"
           }
          ],
          "scatter3d": [
           {
            "line": {
             "colorbar": {
              "outlinewidth": 0,
              "tickcolor": "rgb(237,237,237)",
              "ticklen": 6,
              "ticks": "inside"
             }
            },
            "marker": {
             "colorbar": {
              "outlinewidth": 0,
              "tickcolor": "rgb(237,237,237)",
              "ticklen": 6,
              "ticks": "inside"
             }
            },
            "type": "scatter3d"
           }
          ],
          "scattercarpet": [
           {
            "marker": {
             "colorbar": {
              "outlinewidth": 0,
              "tickcolor": "rgb(237,237,237)",
              "ticklen": 6,
              "ticks": "inside"
             }
            },
            "type": "scattercarpet"
           }
          ],
          "scattergeo": [
           {
            "marker": {
             "colorbar": {
              "outlinewidth": 0,
              "tickcolor": "rgb(237,237,237)",
              "ticklen": 6,
              "ticks": "inside"
             }
            },
            "type": "scattergeo"
           }
          ],
          "scattergl": [
           {
            "marker": {
             "colorbar": {
              "outlinewidth": 0,
              "tickcolor": "rgb(237,237,237)",
              "ticklen": 6,
              "ticks": "inside"
             }
            },
            "type": "scattergl"
           }
          ],
          "scattermapbox": [
           {
            "marker": {
             "colorbar": {
              "outlinewidth": 0,
              "tickcolor": "rgb(237,237,237)",
              "ticklen": 6,
              "ticks": "inside"
             }
            },
            "type": "scattermapbox"
           }
          ],
          "scatterpolar": [
           {
            "marker": {
             "colorbar": {
              "outlinewidth": 0,
              "tickcolor": "rgb(237,237,237)",
              "ticklen": 6,
              "ticks": "inside"
             }
            },
            "type": "scatterpolar"
           }
          ],
          "scatterpolargl": [
           {
            "marker": {
             "colorbar": {
              "outlinewidth": 0,
              "tickcolor": "rgb(237,237,237)",
              "ticklen": 6,
              "ticks": "inside"
             }
            },
            "type": "scatterpolargl"
           }
          ],
          "scatterternary": [
           {
            "marker": {
             "colorbar": {
              "outlinewidth": 0,
              "tickcolor": "rgb(237,237,237)",
              "ticklen": 6,
              "ticks": "inside"
             }
            },
            "type": "scatterternary"
           }
          ],
          "surface": [
           {
            "colorbar": {
             "outlinewidth": 0,
             "tickcolor": "rgb(237,237,237)",
             "ticklen": 6,
             "ticks": "inside"
            },
            "colorscale": [
             [
              0,
              "rgb(20,44,66)"
             ],
             [
              1,
              "rgb(90,179,244)"
             ]
            ],
            "type": "surface"
           }
          ],
          "table": [
           {
            "cells": {
             "fill": {
              "color": "rgb(237,237,237)"
             },
             "line": {
              "color": "white"
             }
            },
            "header": {
             "fill": {
              "color": "rgb(217,217,217)"
             },
             "line": {
              "color": "white"
             }
            },
            "type": "table"
           }
          ]
         },
         "layout": {
          "annotationdefaults": {
           "arrowhead": 0,
           "arrowwidth": 1
          },
          "autotypenumbers": "strict",
          "coloraxis": {
           "colorbar": {
            "outlinewidth": 0,
            "tickcolor": "rgb(237,237,237)",
            "ticklen": 6,
            "ticks": "inside"
           }
          },
          "colorscale": {
           "sequential": [
            [
             0,
             "rgb(20,44,66)"
            ],
            [
             1,
             "rgb(90,179,244)"
            ]
           ],
           "sequentialminus": [
            [
             0,
             "rgb(20,44,66)"
            ],
            [
             1,
             "rgb(90,179,244)"
            ]
           ]
          },
          "colorway": [
           "#F8766D",
           "#A3A500",
           "#00BF7D",
           "#00B0F6",
           "#E76BF3"
          ],
          "font": {
           "color": "rgb(51,51,51)"
          },
          "geo": {
           "bgcolor": "white",
           "lakecolor": "white",
           "landcolor": "rgb(237,237,237)",
           "showlakes": true,
           "showland": true,
           "subunitcolor": "white"
          },
          "hoverlabel": {
           "align": "left"
          },
          "hovermode": "closest",
          "paper_bgcolor": "white",
          "plot_bgcolor": "rgb(237,237,237)",
          "polar": {
           "angularaxis": {
            "gridcolor": "white",
            "linecolor": "white",
            "showgrid": true,
            "tickcolor": "rgb(51,51,51)",
            "ticks": "outside"
           },
           "bgcolor": "rgb(237,237,237)",
           "radialaxis": {
            "gridcolor": "white",
            "linecolor": "white",
            "showgrid": true,
            "tickcolor": "rgb(51,51,51)",
            "ticks": "outside"
           }
          },
          "scene": {
           "xaxis": {
            "backgroundcolor": "rgb(237,237,237)",
            "gridcolor": "white",
            "gridwidth": 2,
            "linecolor": "white",
            "showbackground": true,
            "showgrid": true,
            "tickcolor": "rgb(51,51,51)",
            "ticks": "outside",
            "zerolinecolor": "white"
           },
           "yaxis": {
            "backgroundcolor": "rgb(237,237,237)",
            "gridcolor": "white",
            "gridwidth": 2,
            "linecolor": "white",
            "showbackground": true,
            "showgrid": true,
            "tickcolor": "rgb(51,51,51)",
            "ticks": "outside",
            "zerolinecolor": "white"
           },
           "zaxis": {
            "backgroundcolor": "rgb(237,237,237)",
            "gridcolor": "white",
            "gridwidth": 2,
            "linecolor": "white",
            "showbackground": true,
            "showgrid": true,
            "tickcolor": "rgb(51,51,51)",
            "ticks": "outside",
            "zerolinecolor": "white"
           }
          },
          "shapedefaults": {
           "fillcolor": "black",
           "line": {
            "width": 0
           },
           "opacity": 0.3
          },
          "ternary": {
           "aaxis": {
            "gridcolor": "white",
            "linecolor": "white",
            "showgrid": true,
            "tickcolor": "rgb(51,51,51)",
            "ticks": "outside"
           },
           "baxis": {
            "gridcolor": "white",
            "linecolor": "white",
            "showgrid": true,
            "tickcolor": "rgb(51,51,51)",
            "ticks": "outside"
           },
           "bgcolor": "rgb(237,237,237)",
           "caxis": {
            "gridcolor": "white",
            "linecolor": "white",
            "showgrid": true,
            "tickcolor": "rgb(51,51,51)",
            "ticks": "outside"
           }
          },
          "xaxis": {
           "automargin": true,
           "gridcolor": "white",
           "linecolor": "white",
           "showgrid": true,
           "tickcolor": "rgb(51,51,51)",
           "ticks": "outside",
           "title": {
            "standoff": 15
           },
           "zerolinecolor": "white"
          },
          "yaxis": {
           "automargin": true,
           "gridcolor": "white",
           "linecolor": "white",
           "showgrid": true,
           "tickcolor": "rgb(51,51,51)",
           "ticks": "outside",
           "title": {
            "standoff": 15
           },
           "zerolinecolor": "white"
          }
         }
        },
        "width": 1200,
        "xaxis": {
         "anchor": "y",
         "domain": [
          0,
          1
         ],
         "ticktext": [
          "6",
          "7",
          "8",
          "9",
          "10",
          "11",
          "12",
          "13",
          "14",
          "15",
          "16"
         ],
         "tickvals": [
          "2024-10-06T00:00:00",
          "2024-10-13T00:00:00",
          "2024-10-20T00:00:00",
          "2024-10-27T00:00:00",
          "2024-11-03T00:00:00",
          "2024-11-10T00:00:00",
          "2024-11-17T00:00:00",
          "2024-11-24T00:00:00",
          "2024-12-01T00:00:00",
          "2024-12-08T00:00:00",
          "2024-12-15T00:00:00"
         ],
         "title": {
          "text": "Week number"
         }
        },
        "yaxis": {
         "anchor": "x",
         "domain": [
          0,
          1
         ],
         "range": [
          -77.85000000000001,
          1634.8500000000001
         ],
         "title": {
          "text": "Page views"
         }
        }
       }
      }
     },
     "metadata": {},
     "output_type": "display_data"
    },
    {
     "data": {
      "application/vnd.plotly.v1+json": {
       "config": {
        "plotlyServerURL": "https://plot.ly"
       },
       "data": [
        {
         "hovertemplate": "date=%{x}<br>sol=%{y}<extra></extra>",
         "legendgroup": "",
         "line": {
          "color": "#619cff",
          "dash": "solid"
         },
         "marker": {
          "symbol": "circle"
         },
         "mode": "lines",
         "name": "",
         "orientation": "v",
         "showlegend": false,
         "type": "scatter",
         "x": [
          "2024-10-06T00:00:00",
          "2024-10-07T00:00:00",
          "2024-10-08T00:00:00",
          "2024-10-09T00:00:00",
          "2024-10-10T00:00:00",
          "2024-10-11T00:00:00",
          "2024-10-12T00:00:00",
          "2024-10-13T00:00:00",
          "2024-10-14T00:00:00",
          "2024-10-15T00:00:00",
          "2024-10-16T00:00:00",
          "2024-10-17T00:00:00",
          "2024-10-18T00:00:00",
          "2024-10-19T00:00:00",
          "2024-10-20T00:00:00",
          "2024-10-21T00:00:00",
          "2024-10-22T00:00:00",
          "2024-10-23T00:00:00",
          "2024-10-24T00:00:00",
          "2024-10-25T00:00:00",
          "2024-10-26T00:00:00",
          "2024-10-27T00:00:00",
          "2024-10-28T00:00:00",
          "2024-10-29T00:00:00",
          "2024-10-30T00:00:00",
          "2024-10-31T00:00:00",
          "2024-11-01T00:00:00",
          "2024-11-02T00:00:00",
          "2024-11-03T00:00:00",
          "2024-11-04T00:00:00",
          "2024-11-05T00:00:00",
          "2024-11-06T00:00:00",
          "2024-11-07T00:00:00",
          "2024-11-08T00:00:00",
          "2024-11-09T00:00:00",
          "2024-11-10T00:00:00",
          "2024-11-11T00:00:00",
          "2024-11-12T00:00:00",
          "2024-11-13T00:00:00",
          "2024-11-14T00:00:00",
          "2024-11-15T00:00:00",
          "2024-11-16T00:00:00",
          "2024-11-17T00:00:00",
          "2024-11-18T00:00:00",
          "2024-11-19T00:00:00",
          "2024-11-20T00:00:00",
          "2024-11-21T00:00:00",
          "2024-11-22T00:00:00",
          "2024-11-23T00:00:00",
          "2024-11-24T00:00:00",
          "2024-11-25T00:00:00",
          "2024-11-26T00:00:00",
          "2024-11-27T00:00:00",
          "2024-11-28T00:00:00",
          "2024-11-29T00:00:00",
          "2024-11-30T00:00:00",
          "2024-12-01T00:00:00",
          "2024-12-02T00:00:00",
          "2024-12-03T00:00:00",
          "2024-12-04T00:00:00",
          "2024-12-05T00:00:00",
          "2024-12-06T00:00:00",
          "2024-12-07T00:00:00",
          "2024-12-08T00:00:00",
          "2024-12-09T00:00:00",
          "2024-12-10T00:00:00",
          "2024-12-11T00:00:00",
          "2024-12-12T00:00:00",
          "2024-12-13T00:00:00",
          "2024-12-14T00:00:00",
          "2024-12-15T00:00:00",
          "2024-12-16T00:00:00",
          "2024-12-17T00:00:00",
          "2024-12-18T00:00:00",
          "2024-12-19T00:00:00",
          "2024-12-20T00:00:00",
          "2024-12-21T00:00:00"
         ],
         "xaxis": "x",
         "y": [
          58,
          116,
          220,
          280,
          158,
          187,
          134,
          53,
          94,
          138,
          280,
          58,
          161,
          75,
          104,
          203,
          329,
          334,
          289,
          309,
          299,
          60,
          118,
          367,
          455,
          103,
          176,
          164,
          65,
          173,
          255,
          287,
          394,
          575,
          586,
          68,
          138,
          231,
          308,
          165,
          190,
          308,
          132,
          239,
          467,
          647,
          680,
          679,
          6,
          15,
          55,
          58,
          8,
          8,
          31,
          12,
          53,
          122,
          151,
          242,
          108,
          209,
          311,
          126,
          247,
          472,
          591,
          829,
          1063,
          822,
          921,
          772,
          23,
          32,
          10,
          3,
          10
         ],
         "yaxis": "y"
        }
       ],
       "layout": {
        "annotations": [
         {
          "showarrow": false,
          "text": "Fall break",
          "x": "2024-11-27T12:00:00",
          "y": 903.55
         }
        ],
        "font": {
         "size": 18
        },
        "height": 500,
        "legend": {
         "tracegroupgap": 0
        },
        "margin": {
         "b": 40,
         "l": 40,
         "r": 20,
         "t": 20
        },
        "shapes": [
         {
          "fillcolor": "#aaaaaa",
          "layer": "below",
          "line": {
           "width": 0
          },
          "opacity": 0.4,
          "type": "rect",
          "x0": "2024-11-24T00:00:00",
          "x1": "2024-12-01T00:00:00",
          "xref": "x",
          "y0": "-1000",
          "y1": "2000",
          "yref": "y"
         },
         {
          "line": {
           "color": "#f8766d",
           "dash": "dash",
           "width": 3
          },
          "opacity": 1,
          "type": "line",
          "x0": "2024-10-09T12:00:00",
          "x1": "2024-10-09T12:00:00",
          "xref": "x",
          "y0": 0,
          "y1": 1,
          "yref": "y domain"
         },
         {
          "line": {
           "color": "#f8766d",
           "dash": "dash",
           "width": 3
          },
          "opacity": 1,
          "type": "line",
          "x0": "2024-10-12T12:00:00",
          "x1": "2024-10-12T12:00:00",
          "xref": "x",
          "y0": 0,
          "y1": 1,
          "yref": "y domain"
         },
         {
          "line": {
           "color": "#f8766d",
           "dash": "dash",
           "width": 3
          },
          "opacity": 1,
          "type": "line",
          "x0": "2024-10-23T12:00:00",
          "x1": "2024-10-23T12:00:00",
          "xref": "x",
          "y0": 0,
          "y1": 1,
          "yref": "y domain"
         },
         {
          "line": {
           "color": "#f8766d",
           "dash": "dash",
           "width": 3
          },
          "opacity": 1,
          "type": "line",
          "x0": "2024-10-26T12:00:00",
          "x1": "2024-10-26T12:00:00",
          "xref": "x",
          "y0": 0,
          "y1": 1,
          "yref": "y domain"
         },
         {
          "line": {
           "color": "#f8766d",
           "dash": "dash",
           "width": 3
          },
          "opacity": 1,
          "type": "line",
          "x0": "2024-11-06T12:00:00",
          "x1": "2024-11-06T12:00:00",
          "xref": "x",
          "y0": 0,
          "y1": 1,
          "yref": "y domain"
         },
         {
          "line": {
           "color": "#f8766d",
           "dash": "dash",
           "width": 3
          },
          "opacity": 1,
          "type": "line",
          "x0": "2024-11-09T12:00:00",
          "x1": "2024-11-09T12:00:00",
          "xref": "x",
          "y0": 0,
          "y1": 1,
          "yref": "y domain"
         },
         {
          "line": {
           "color": "#f8766d",
           "dash": "dash",
           "width": 3
          },
          "opacity": 1,
          "type": "line",
          "x0": "2024-11-19T12:00:00",
          "x1": "2024-11-19T12:00:00",
          "xref": "x",
          "y0": 0,
          "y1": 1,
          "yref": "y domain"
         },
         {
          "line": {
           "color": "#f8766d",
           "dash": "dash",
           "width": 3
          },
          "opacity": 1,
          "type": "line",
          "x0": "2024-11-22T12:00:00",
          "x1": "2024-11-22T12:00:00",
          "xref": "x",
          "y0": 0,
          "y1": 1,
          "yref": "y domain"
         },
         {
          "line": {
           "color": "blue",
           "dash": "dash",
           "width": 3
          },
          "opacity": 1,
          "type": "line",
          "x0": "2024-12-11T12:00:00",
          "x1": "2024-12-11T12:00:00",
          "xref": "x",
          "y0": 0,
          "y1": 1,
          "yref": "y domain"
         },
         {
          "line": {
           "color": "blue",
           "dash": "dash",
           "width": 3
          },
          "opacity": 1,
          "type": "line",
          "x0": "2024-12-16T12:00:00",
          "x1": "2024-12-16T12:00:00",
          "xref": "x",
          "y0": 0,
          "y1": 1,
          "yref": "y domain"
         }
        ],
        "template": {
         "data": {
          "bar": [
           {
            "error_x": {
             "color": "rgb(51,51,51)"
            },
            "error_y": {
             "color": "rgb(51,51,51)"
            },
            "marker": {
             "line": {
              "color": "rgb(237,237,237)",
              "width": 0.5
             },
             "pattern": {
              "fillmode": "overlay",
              "size": 10,
              "solidity": 0.2
             }
            },
            "type": "bar"
           }
          ],
          "barpolar": [
           {
            "marker": {
             "line": {
              "color": "rgb(237,237,237)",
              "width": 0.5
             },
             "pattern": {
              "fillmode": "overlay",
              "size": 10,
              "solidity": 0.2
             }
            },
            "type": "barpolar"
           }
          ],
          "carpet": [
           {
            "aaxis": {
             "endlinecolor": "rgb(51,51,51)",
             "gridcolor": "white",
             "linecolor": "white",
             "minorgridcolor": "white",
             "startlinecolor": "rgb(51,51,51)"
            },
            "baxis": {
             "endlinecolor": "rgb(51,51,51)",
             "gridcolor": "white",
             "linecolor": "white",
             "minorgridcolor": "white",
             "startlinecolor": "rgb(51,51,51)"
            },
            "type": "carpet"
           }
          ],
          "choropleth": [
           {
            "colorbar": {
             "outlinewidth": 0,
             "tickcolor": "rgb(237,237,237)",
             "ticklen": 6,
             "ticks": "inside"
            },
            "type": "choropleth"
           }
          ],
          "contour": [
           {
            "colorbar": {
             "outlinewidth": 0,
             "tickcolor": "rgb(237,237,237)",
             "ticklen": 6,
             "ticks": "inside"
            },
            "colorscale": [
             [
              0,
              "rgb(20,44,66)"
             ],
             [
              1,
              "rgb(90,179,244)"
             ]
            ],
            "type": "contour"
           }
          ],
          "contourcarpet": [
           {
            "colorbar": {
             "outlinewidth": 0,
             "tickcolor": "rgb(237,237,237)",
             "ticklen": 6,
             "ticks": "inside"
            },
            "type": "contourcarpet"
           }
          ],
          "heatmap": [
           {
            "colorbar": {
             "outlinewidth": 0,
             "tickcolor": "rgb(237,237,237)",
             "ticklen": 6,
             "ticks": "inside"
            },
            "colorscale": [
             [
              0,
              "rgb(20,44,66)"
             ],
             [
              1,
              "rgb(90,179,244)"
             ]
            ],
            "type": "heatmap"
           }
          ],
          "heatmapgl": [
           {
            "colorbar": {
             "outlinewidth": 0,
             "tickcolor": "rgb(237,237,237)",
             "ticklen": 6,
             "ticks": "inside"
            },
            "colorscale": [
             [
              0,
              "rgb(20,44,66)"
             ],
             [
              1,
              "rgb(90,179,244)"
             ]
            ],
            "type": "heatmapgl"
           }
          ],
          "histogram": [
           {
            "marker": {
             "pattern": {
              "fillmode": "overlay",
              "size": 10,
              "solidity": 0.2
             }
            },
            "type": "histogram"
           }
          ],
          "histogram2d": [
           {
            "colorbar": {
             "outlinewidth": 0,
             "tickcolor": "rgb(237,237,237)",
             "ticklen": 6,
             "ticks": "inside"
            },
            "colorscale": [
             [
              0,
              "rgb(20,44,66)"
             ],
             [
              1,
              "rgb(90,179,244)"
             ]
            ],
            "type": "histogram2d"
           }
          ],
          "histogram2dcontour": [
           {
            "colorbar": {
             "outlinewidth": 0,
             "tickcolor": "rgb(237,237,237)",
             "ticklen": 6,
             "ticks": "inside"
            },
            "colorscale": [
             [
              0,
              "rgb(20,44,66)"
             ],
             [
              1,
              "rgb(90,179,244)"
             ]
            ],
            "type": "histogram2dcontour"
           }
          ],
          "mesh3d": [
           {
            "colorbar": {
             "outlinewidth": 0,
             "tickcolor": "rgb(237,237,237)",
             "ticklen": 6,
             "ticks": "inside"
            },
            "type": "mesh3d"
           }
          ],
          "parcoords": [
           {
            "line": {
             "colorbar": {
              "outlinewidth": 0,
              "tickcolor": "rgb(237,237,237)",
              "ticklen": 6,
              "ticks": "inside"
             }
            },
            "type": "parcoords"
           }
          ],
          "pie": [
           {
            "automargin": true,
            "type": "pie"
           }
          ],
          "scatter": [
           {
            "fillpattern": {
             "fillmode": "overlay",
             "size": 10,
             "solidity": 0.2
            },
            "type": "scatter"
           }
          ],
          "scatter3d": [
           {
            "line": {
             "colorbar": {
              "outlinewidth": 0,
              "tickcolor": "rgb(237,237,237)",
              "ticklen": 6,
              "ticks": "inside"
             }
            },
            "marker": {
             "colorbar": {
              "outlinewidth": 0,
              "tickcolor": "rgb(237,237,237)",
              "ticklen": 6,
              "ticks": "inside"
             }
            },
            "type": "scatter3d"
           }
          ],
          "scattercarpet": [
           {
            "marker": {
             "colorbar": {
              "outlinewidth": 0,
              "tickcolor": "rgb(237,237,237)",
              "ticklen": 6,
              "ticks": "inside"
             }
            },
            "type": "scattercarpet"
           }
          ],
          "scattergeo": [
           {
            "marker": {
             "colorbar": {
              "outlinewidth": 0,
              "tickcolor": "rgb(237,237,237)",
              "ticklen": 6,
              "ticks": "inside"
             }
            },
            "type": "scattergeo"
           }
          ],
          "scattergl": [
           {
            "marker": {
             "colorbar": {
              "outlinewidth": 0,
              "tickcolor": "rgb(237,237,237)",
              "ticklen": 6,
              "ticks": "inside"
             }
            },
            "type": "scattergl"
           }
          ],
          "scattermapbox": [
           {
            "marker": {
             "colorbar": {
              "outlinewidth": 0,
              "tickcolor": "rgb(237,237,237)",
              "ticklen": 6,
              "ticks": "inside"
             }
            },
            "type": "scattermapbox"
           }
          ],
          "scatterpolar": [
           {
            "marker": {
             "colorbar": {
              "outlinewidth": 0,
              "tickcolor": "rgb(237,237,237)",
              "ticklen": 6,
              "ticks": "inside"
             }
            },
            "type": "scatterpolar"
           }
          ],
          "scatterpolargl": [
           {
            "marker": {
             "colorbar": {
              "outlinewidth": 0,
              "tickcolor": "rgb(237,237,237)",
              "ticklen": 6,
              "ticks": "inside"
             }
            },
            "type": "scatterpolargl"
           }
          ],
          "scatterternary": [
           {
            "marker": {
             "colorbar": {
              "outlinewidth": 0,
              "tickcolor": "rgb(237,237,237)",
              "ticklen": 6,
              "ticks": "inside"
             }
            },
            "type": "scatterternary"
           }
          ],
          "surface": [
           {
            "colorbar": {
             "outlinewidth": 0,
             "tickcolor": "rgb(237,237,237)",
             "ticklen": 6,
             "ticks": "inside"
            },
            "colorscale": [
             [
              0,
              "rgb(20,44,66)"
             ],
             [
              1,
              "rgb(90,179,244)"
             ]
            ],
            "type": "surface"
           }
          ],
          "table": [
           {
            "cells": {
             "fill": {
              "color": "rgb(237,237,237)"
             },
             "line": {
              "color": "white"
             }
            },
            "header": {
             "fill": {
              "color": "rgb(217,217,217)"
             },
             "line": {
              "color": "white"
             }
            },
            "type": "table"
           }
          ]
         },
         "layout": {
          "annotationdefaults": {
           "arrowhead": 0,
           "arrowwidth": 1
          },
          "autotypenumbers": "strict",
          "coloraxis": {
           "colorbar": {
            "outlinewidth": 0,
            "tickcolor": "rgb(237,237,237)",
            "ticklen": 6,
            "ticks": "inside"
           }
          },
          "colorscale": {
           "sequential": [
            [
             0,
             "rgb(20,44,66)"
            ],
            [
             1,
             "rgb(90,179,244)"
            ]
           ],
           "sequentialminus": [
            [
             0,
             "rgb(20,44,66)"
            ],
            [
             1,
             "rgb(90,179,244)"
            ]
           ]
          },
          "colorway": [
           "#F8766D",
           "#A3A500",
           "#00BF7D",
           "#00B0F6",
           "#E76BF3"
          ],
          "font": {
           "color": "rgb(51,51,51)"
          },
          "geo": {
           "bgcolor": "white",
           "lakecolor": "white",
           "landcolor": "rgb(237,237,237)",
           "showlakes": true,
           "showland": true,
           "subunitcolor": "white"
          },
          "hoverlabel": {
           "align": "left"
          },
          "hovermode": "closest",
          "paper_bgcolor": "white",
          "plot_bgcolor": "rgb(237,237,237)",
          "polar": {
           "angularaxis": {
            "gridcolor": "white",
            "linecolor": "white",
            "showgrid": true,
            "tickcolor": "rgb(51,51,51)",
            "ticks": "outside"
           },
           "bgcolor": "rgb(237,237,237)",
           "radialaxis": {
            "gridcolor": "white",
            "linecolor": "white",
            "showgrid": true,
            "tickcolor": "rgb(51,51,51)",
            "ticks": "outside"
           }
          },
          "scene": {
           "xaxis": {
            "backgroundcolor": "rgb(237,237,237)",
            "gridcolor": "white",
            "gridwidth": 2,
            "linecolor": "white",
            "showbackground": true,
            "showgrid": true,
            "tickcolor": "rgb(51,51,51)",
            "ticks": "outside",
            "zerolinecolor": "white"
           },
           "yaxis": {
            "backgroundcolor": "rgb(237,237,237)",
            "gridcolor": "white",
            "gridwidth": 2,
            "linecolor": "white",
            "showbackground": true,
            "showgrid": true,
            "tickcolor": "rgb(51,51,51)",
            "ticks": "outside",
            "zerolinecolor": "white"
           },
           "zaxis": {
            "backgroundcolor": "rgb(237,237,237)",
            "gridcolor": "white",
            "gridwidth": 2,
            "linecolor": "white",
            "showbackground": true,
            "showgrid": true,
            "tickcolor": "rgb(51,51,51)",
            "ticks": "outside",
            "zerolinecolor": "white"
           }
          },
          "shapedefaults": {
           "fillcolor": "black",
           "line": {
            "width": 0
           },
           "opacity": 0.3
          },
          "ternary": {
           "aaxis": {
            "gridcolor": "white",
            "linecolor": "white",
            "showgrid": true,
            "tickcolor": "rgb(51,51,51)",
            "ticks": "outside"
           },
           "baxis": {
            "gridcolor": "white",
            "linecolor": "white",
            "showgrid": true,
            "tickcolor": "rgb(51,51,51)",
            "ticks": "outside"
           },
           "bgcolor": "rgb(237,237,237)",
           "caxis": {
            "gridcolor": "white",
            "linecolor": "white",
            "showgrid": true,
            "tickcolor": "rgb(51,51,51)",
            "ticks": "outside"
           }
          },
          "xaxis": {
           "automargin": true,
           "gridcolor": "white",
           "linecolor": "white",
           "showgrid": true,
           "tickcolor": "rgb(51,51,51)",
           "ticks": "outside",
           "title": {
            "standoff": 15
           },
           "zerolinecolor": "white"
          },
          "yaxis": {
           "automargin": true,
           "gridcolor": "white",
           "linecolor": "white",
           "showgrid": true,
           "tickcolor": "rgb(51,51,51)",
           "ticks": "outside",
           "title": {
            "standoff": 15
           },
           "zerolinecolor": "white"
          }
         }
        },
        "width": 1200,
        "xaxis": {
         "anchor": "y",
         "domain": [
          0,
          1
         ],
         "ticktext": [
          "6",
          "7",
          "8",
          "9",
          "10",
          "11",
          "12",
          "13",
          "14",
          "15",
          "16"
         ],
         "tickvals": [
          "2024-10-06T00:00:00",
          "2024-10-13T00:00:00",
          "2024-10-20T00:00:00",
          "2024-10-27T00:00:00",
          "2024-11-03T00:00:00",
          "2024-11-10T00:00:00",
          "2024-11-17T00:00:00",
          "2024-11-24T00:00:00",
          "2024-12-01T00:00:00",
          "2024-12-08T00:00:00",
          "2024-12-15T00:00:00"
         ],
         "title": {
          "text": "Week number"
         }
        },
        "yaxis": {
         "anchor": "x",
         "domain": [
          0,
          1
         ],
         "range": [
          -53.150000000000006,
          1116.15
         ],
         "title": {
          "text": "Page views"
         }
        }
       }
      }
     },
     "metadata": {},
     "output_type": "display_data"
    },
    {
     "data": {
      "application/vnd.plotly.v1+json": {
       "config": {
        "plotlyServerURL": "https://plot.ly"
       },
       "data": [
        {
         "hovertemplate": "date=%{x}<br>dyn=%{y}<extra></extra>",
         "legendgroup": "",
         "line": {
          "color": "#619cff",
          "dash": "solid"
         },
         "marker": {
          "symbol": "circle"
         },
         "mode": "lines",
         "name": "",
         "orientation": "v",
         "showlegend": false,
         "type": "scatter",
         "x": [
          "2024-10-06T00:00:00",
          "2024-10-07T00:00:00",
          "2024-10-08T00:00:00",
          "2024-10-09T00:00:00",
          "2024-10-10T00:00:00",
          "2024-10-11T00:00:00",
          "2024-10-12T00:00:00",
          "2024-10-13T00:00:00",
          "2024-10-14T00:00:00",
          "2024-10-15T00:00:00",
          "2024-10-16T00:00:00",
          "2024-10-17T00:00:00",
          "2024-10-18T00:00:00",
          "2024-10-19T00:00:00",
          "2024-10-20T00:00:00",
          "2024-10-21T00:00:00",
          "2024-10-22T00:00:00",
          "2024-10-23T00:00:00",
          "2024-10-24T00:00:00",
          "2024-10-25T00:00:00",
          "2024-10-26T00:00:00",
          "2024-10-27T00:00:00",
          "2024-10-28T00:00:00",
          "2024-10-29T00:00:00",
          "2024-10-30T00:00:00",
          "2024-10-31T00:00:00",
          "2024-11-01T00:00:00",
          "2024-11-02T00:00:00",
          "2024-11-03T00:00:00",
          "2024-11-04T00:00:00",
          "2024-11-05T00:00:00",
          "2024-11-06T00:00:00",
          "2024-11-07T00:00:00",
          "2024-11-08T00:00:00",
          "2024-11-09T00:00:00",
          "2024-11-10T00:00:00",
          "2024-11-11T00:00:00",
          "2024-11-12T00:00:00",
          "2024-11-13T00:00:00",
          "2024-11-14T00:00:00",
          "2024-11-15T00:00:00",
          "2024-11-16T00:00:00",
          "2024-11-17T00:00:00",
          "2024-11-18T00:00:00",
          "2024-11-19T00:00:00",
          "2024-11-20T00:00:00",
          "2024-11-21T00:00:00",
          "2024-11-22T00:00:00",
          "2024-11-23T00:00:00",
          "2024-11-24T00:00:00",
          "2024-11-25T00:00:00",
          "2024-11-26T00:00:00",
          "2024-11-27T00:00:00",
          "2024-11-28T00:00:00",
          "2024-11-29T00:00:00",
          "2024-11-30T00:00:00",
          "2024-12-01T00:00:00",
          "2024-12-02T00:00:00",
          "2024-12-03T00:00:00",
          "2024-12-04T00:00:00",
          "2024-12-05T00:00:00",
          "2024-12-06T00:00:00",
          "2024-12-07T00:00:00",
          "2024-12-08T00:00:00",
          "2024-12-09T00:00:00",
          "2024-12-10T00:00:00",
          "2024-12-11T00:00:00",
          "2024-12-12T00:00:00",
          "2024-12-13T00:00:00",
          "2024-12-14T00:00:00",
          "2024-12-15T00:00:00",
          "2024-12-16T00:00:00",
          "2024-12-17T00:00:00",
          "2024-12-18T00:00:00",
          "2024-12-19T00:00:00",
          "2024-12-20T00:00:00",
          "2024-12-21T00:00:00"
         ],
         "xaxis": "x",
         "y": [
          131,
          310,
          208,
          223,
          432,
          307,
          104,
          173,
          576,
          222,
          462,
          747,
          97,
          49,
          130,
          284,
          75,
          120,
          127,
          140,
          42,
          122,
          236,
          142,
          261,
          426,
          269,
          65,
          193,
          363,
          88,
          74,
          163,
          164,
          86,
          173,
          595,
          301,
          565,
          847,
          148,
          74,
          122,
          278,
          83,
          127,
          113,
          26,
          29,
          44,
          38,
          66,
          52,
          46,
          51,
          45,
          135,
          419,
          280,
          411,
          912,
          164,
          130,
          194,
          427,
          448,
          691,
          933,
          989,
          993,
          1488,
          1228,
          20,
          33,
          18,
          2,
          4
         ],
         "yaxis": "y"
        }
       ],
       "layout": {
        "annotations": [
         {
          "showarrow": false,
          "text": "Fall break",
          "x": "2024-11-27T12:00:00",
          "y": 1264.8
         }
        ],
        "font": {
         "size": 18
        },
        "height": 500,
        "legend": {
         "tracegroupgap": 0
        },
        "margin": {
         "b": 40,
         "l": 40,
         "r": 20,
         "t": 20
        },
        "shapes": [
         {
          "fillcolor": "#aaaaaa",
          "layer": "below",
          "line": {
           "width": 0
          },
          "opacity": 0.4,
          "type": "rect",
          "x0": "2024-11-24T00:00:00",
          "x1": "2024-12-01T00:00:00",
          "xref": "x",
          "y0": "-1000",
          "y1": "2000",
          "yref": "y"
         },
         {
          "line": {
           "color": "#f8766d",
           "dash": "dash",
           "width": 3
          },
          "opacity": 1,
          "type": "line",
          "x0": "2024-10-14T12:00:00",
          "x1": "2024-10-14T12:00:00",
          "xref": "x",
          "y0": 0,
          "y1": 1,
          "yref": "y domain"
         },
         {
          "line": {
           "color": "#f8766d",
           "dash": "dash",
           "width": 3
          },
          "opacity": 1,
          "type": "line",
          "x0": "2024-10-17T12:00:00",
          "x1": "2024-10-17T12:00:00",
          "xref": "x",
          "y0": 0,
          "y1": 1,
          "yref": "y domain"
         },
         {
          "line": {
           "color": "#f8766d",
           "dash": "dash",
           "width": 3
          },
          "opacity": 1,
          "type": "line",
          "x0": "2024-10-28T12:00:00",
          "x1": "2024-10-28T12:00:00",
          "xref": "x",
          "y0": 0,
          "y1": 1,
          "yref": "y domain"
         },
         {
          "line": {
           "color": "#f8766d",
           "dash": "dash",
           "width": 3
          },
          "opacity": 1,
          "type": "line",
          "x0": "2024-10-31T12:00:00",
          "x1": "2024-10-31T12:00:00",
          "xref": "x",
          "y0": 0,
          "y1": 1,
          "yref": "y domain"
         },
         {
          "line": {
           "color": "#f8766d",
           "dash": "dash",
           "width": 3
          },
          "opacity": 1,
          "type": "line",
          "x0": "2024-11-11T12:00:00",
          "x1": "2024-11-11T12:00:00",
          "xref": "x",
          "y0": 0,
          "y1": 1,
          "yref": "y domain"
         },
         {
          "line": {
           "color": "#f8766d",
           "dash": "dash",
           "width": 3
          },
          "opacity": 1,
          "type": "line",
          "x0": "2024-11-14T12:00:00",
          "x1": "2024-11-14T12:00:00",
          "xref": "x",
          "y0": 0,
          "y1": 1,
          "yref": "y domain"
         },
         {
          "line": {
           "color": "#f8766d",
           "dash": "dash",
           "width": 3
          },
          "opacity": 1,
          "type": "line",
          "x0": "2024-12-02T12:00:00",
          "x1": "2024-12-02T12:00:00",
          "xref": "x",
          "y0": 0,
          "y1": 1,
          "yref": "y domain"
         },
         {
          "line": {
           "color": "#f8766d",
           "dash": "dash",
           "width": 3
          },
          "opacity": 1,
          "type": "line",
          "x0": "2024-12-05T12:00:00",
          "x1": "2024-12-05T12:00:00",
          "xref": "x",
          "y0": 0,
          "y1": 1,
          "yref": "y domain"
         },
         {
          "line": {
           "color": "blue",
           "dash": "dash",
           "width": 3
          },
          "opacity": 1,
          "type": "line",
          "x0": "2024-12-11T12:00:00",
          "x1": "2024-12-11T12:00:00",
          "xref": "x",
          "y0": 0,
          "y1": 1,
          "yref": "y domain"
         },
         {
          "line": {
           "color": "blue",
           "dash": "dash",
           "width": 3
          },
          "opacity": 1,
          "type": "line",
          "x0": "2024-12-16T12:00:00",
          "x1": "2024-12-16T12:00:00",
          "xref": "x",
          "y0": 0,
          "y1": 1,
          "yref": "y domain"
         }
        ],
        "template": {
         "data": {
          "bar": [
           {
            "error_x": {
             "color": "rgb(51,51,51)"
            },
            "error_y": {
             "color": "rgb(51,51,51)"
            },
            "marker": {
             "line": {
              "color": "rgb(237,237,237)",
              "width": 0.5
             },
             "pattern": {
              "fillmode": "overlay",
              "size": 10,
              "solidity": 0.2
             }
            },
            "type": "bar"
           }
          ],
          "barpolar": [
           {
            "marker": {
             "line": {
              "color": "rgb(237,237,237)",
              "width": 0.5
             },
             "pattern": {
              "fillmode": "overlay",
              "size": 10,
              "solidity": 0.2
             }
            },
            "type": "barpolar"
           }
          ],
          "carpet": [
           {
            "aaxis": {
             "endlinecolor": "rgb(51,51,51)",
             "gridcolor": "white",
             "linecolor": "white",
             "minorgridcolor": "white",
             "startlinecolor": "rgb(51,51,51)"
            },
            "baxis": {
             "endlinecolor": "rgb(51,51,51)",
             "gridcolor": "white",
             "linecolor": "white",
             "minorgridcolor": "white",
             "startlinecolor": "rgb(51,51,51)"
            },
            "type": "carpet"
           }
          ],
          "choropleth": [
           {
            "colorbar": {
             "outlinewidth": 0,
             "tickcolor": "rgb(237,237,237)",
             "ticklen": 6,
             "ticks": "inside"
            },
            "type": "choropleth"
           }
          ],
          "contour": [
           {
            "colorbar": {
             "outlinewidth": 0,
             "tickcolor": "rgb(237,237,237)",
             "ticklen": 6,
             "ticks": "inside"
            },
            "colorscale": [
             [
              0,
              "rgb(20,44,66)"
             ],
             [
              1,
              "rgb(90,179,244)"
             ]
            ],
            "type": "contour"
           }
          ],
          "contourcarpet": [
           {
            "colorbar": {
             "outlinewidth": 0,
             "tickcolor": "rgb(237,237,237)",
             "ticklen": 6,
             "ticks": "inside"
            },
            "type": "contourcarpet"
           }
          ],
          "heatmap": [
           {
            "colorbar": {
             "outlinewidth": 0,
             "tickcolor": "rgb(237,237,237)",
             "ticklen": 6,
             "ticks": "inside"
            },
            "colorscale": [
             [
              0,
              "rgb(20,44,66)"
             ],
             [
              1,
              "rgb(90,179,244)"
             ]
            ],
            "type": "heatmap"
           }
          ],
          "heatmapgl": [
           {
            "colorbar": {
             "outlinewidth": 0,
             "tickcolor": "rgb(237,237,237)",
             "ticklen": 6,
             "ticks": "inside"
            },
            "colorscale": [
             [
              0,
              "rgb(20,44,66)"
             ],
             [
              1,
              "rgb(90,179,244)"
             ]
            ],
            "type": "heatmapgl"
           }
          ],
          "histogram": [
           {
            "marker": {
             "pattern": {
              "fillmode": "overlay",
              "size": 10,
              "solidity": 0.2
             }
            },
            "type": "histogram"
           }
          ],
          "histogram2d": [
           {
            "colorbar": {
             "outlinewidth": 0,
             "tickcolor": "rgb(237,237,237)",
             "ticklen": 6,
             "ticks": "inside"
            },
            "colorscale": [
             [
              0,
              "rgb(20,44,66)"
             ],
             [
              1,
              "rgb(90,179,244)"
             ]
            ],
            "type": "histogram2d"
           }
          ],
          "histogram2dcontour": [
           {
            "colorbar": {
             "outlinewidth": 0,
             "tickcolor": "rgb(237,237,237)",
             "ticklen": 6,
             "ticks": "inside"
            },
            "colorscale": [
             [
              0,
              "rgb(20,44,66)"
             ],
             [
              1,
              "rgb(90,179,244)"
             ]
            ],
            "type": "histogram2dcontour"
           }
          ],
          "mesh3d": [
           {
            "colorbar": {
             "outlinewidth": 0,
             "tickcolor": "rgb(237,237,237)",
             "ticklen": 6,
             "ticks": "inside"
            },
            "type": "mesh3d"
           }
          ],
          "parcoords": [
           {
            "line": {
             "colorbar": {
              "outlinewidth": 0,
              "tickcolor": "rgb(237,237,237)",
              "ticklen": 6,
              "ticks": "inside"
             }
            },
            "type": "parcoords"
           }
          ],
          "pie": [
           {
            "automargin": true,
            "type": "pie"
           }
          ],
          "scatter": [
           {
            "fillpattern": {
             "fillmode": "overlay",
             "size": 10,
             "solidity": 0.2
            },
            "type": "scatter"
           }
          ],
          "scatter3d": [
           {
            "line": {
             "colorbar": {
              "outlinewidth": 0,
              "tickcolor": "rgb(237,237,237)",
              "ticklen": 6,
              "ticks": "inside"
             }
            },
            "marker": {
             "colorbar": {
              "outlinewidth": 0,
              "tickcolor": "rgb(237,237,237)",
              "ticklen": 6,
              "ticks": "inside"
             }
            },
            "type": "scatter3d"
           }
          ],
          "scattercarpet": [
           {
            "marker": {
             "colorbar": {
              "outlinewidth": 0,
              "tickcolor": "rgb(237,237,237)",
              "ticklen": 6,
              "ticks": "inside"
             }
            },
            "type": "scattercarpet"
           }
          ],
          "scattergeo": [
           {
            "marker": {
             "colorbar": {
              "outlinewidth": 0,
              "tickcolor": "rgb(237,237,237)",
              "ticklen": 6,
              "ticks": "inside"
             }
            },
            "type": "scattergeo"
           }
          ],
          "scattergl": [
           {
            "marker": {
             "colorbar": {
              "outlinewidth": 0,
              "tickcolor": "rgb(237,237,237)",
              "ticklen": 6,
              "ticks": "inside"
             }
            },
            "type": "scattergl"
           }
          ],
          "scattermapbox": [
           {
            "marker": {
             "colorbar": {
              "outlinewidth": 0,
              "tickcolor": "rgb(237,237,237)",
              "ticklen": 6,
              "ticks": "inside"
             }
            },
            "type": "scattermapbox"
           }
          ],
          "scatterpolar": [
           {
            "marker": {
             "colorbar": {
              "outlinewidth": 0,
              "tickcolor": "rgb(237,237,237)",
              "ticklen": 6,
              "ticks": "inside"
             }
            },
            "type": "scatterpolar"
           }
          ],
          "scatterpolargl": [
           {
            "marker": {
             "colorbar": {
              "outlinewidth": 0,
              "tickcolor": "rgb(237,237,237)",
              "ticklen": 6,
              "ticks": "inside"
             }
            },
            "type": "scatterpolargl"
           }
          ],
          "scatterternary": [
           {
            "marker": {
             "colorbar": {
              "outlinewidth": 0,
              "tickcolor": "rgb(237,237,237)",
              "ticklen": 6,
              "ticks": "inside"
             }
            },
            "type": "scatterternary"
           }
          ],
          "surface": [
           {
            "colorbar": {
             "outlinewidth": 0,
             "tickcolor": "rgb(237,237,237)",
             "ticklen": 6,
             "ticks": "inside"
            },
            "colorscale": [
             [
              0,
              "rgb(20,44,66)"
             ],
             [
              1,
              "rgb(90,179,244)"
             ]
            ],
            "type": "surface"
           }
          ],
          "table": [
           {
            "cells": {
             "fill": {
              "color": "rgb(237,237,237)"
             },
             "line": {
              "color": "white"
             }
            },
            "header": {
             "fill": {
              "color": "rgb(217,217,217)"
             },
             "line": {
              "color": "white"
             }
            },
            "type": "table"
           }
          ]
         },
         "layout": {
          "annotationdefaults": {
           "arrowhead": 0,
           "arrowwidth": 1
          },
          "autotypenumbers": "strict",
          "coloraxis": {
           "colorbar": {
            "outlinewidth": 0,
            "tickcolor": "rgb(237,237,237)",
            "ticklen": 6,
            "ticks": "inside"
           }
          },
          "colorscale": {
           "sequential": [
            [
             0,
             "rgb(20,44,66)"
            ],
            [
             1,
             "rgb(90,179,244)"
            ]
           ],
           "sequentialminus": [
            [
             0,
             "rgb(20,44,66)"
            ],
            [
             1,
             "rgb(90,179,244)"
            ]
           ]
          },
          "colorway": [
           "#F8766D",
           "#A3A500",
           "#00BF7D",
           "#00B0F6",
           "#E76BF3"
          ],
          "font": {
           "color": "rgb(51,51,51)"
          },
          "geo": {
           "bgcolor": "white",
           "lakecolor": "white",
           "landcolor": "rgb(237,237,237)",
           "showlakes": true,
           "showland": true,
           "subunitcolor": "white"
          },
          "hoverlabel": {
           "align": "left"
          },
          "hovermode": "closest",
          "paper_bgcolor": "white",
          "plot_bgcolor": "rgb(237,237,237)",
          "polar": {
           "angularaxis": {
            "gridcolor": "white",
            "linecolor": "white",
            "showgrid": true,
            "tickcolor": "rgb(51,51,51)",
            "ticks": "outside"
           },
           "bgcolor": "rgb(237,237,237)",
           "radialaxis": {
            "gridcolor": "white",
            "linecolor": "white",
            "showgrid": true,
            "tickcolor": "rgb(51,51,51)",
            "ticks": "outside"
           }
          },
          "scene": {
           "xaxis": {
            "backgroundcolor": "rgb(237,237,237)",
            "gridcolor": "white",
            "gridwidth": 2,
            "linecolor": "white",
            "showbackground": true,
            "showgrid": true,
            "tickcolor": "rgb(51,51,51)",
            "ticks": "outside",
            "zerolinecolor": "white"
           },
           "yaxis": {
            "backgroundcolor": "rgb(237,237,237)",
            "gridcolor": "white",
            "gridwidth": 2,
            "linecolor": "white",
            "showbackground": true,
            "showgrid": true,
            "tickcolor": "rgb(51,51,51)",
            "ticks": "outside",
            "zerolinecolor": "white"
           },
           "zaxis": {
            "backgroundcolor": "rgb(237,237,237)",
            "gridcolor": "white",
            "gridwidth": 2,
            "linecolor": "white",
            "showbackground": true,
            "showgrid": true,
            "tickcolor": "rgb(51,51,51)",
            "ticks": "outside",
            "zerolinecolor": "white"
           }
          },
          "shapedefaults": {
           "fillcolor": "black",
           "line": {
            "width": 0
           },
           "opacity": 0.3
          },
          "ternary": {
           "aaxis": {
            "gridcolor": "white",
            "linecolor": "white",
            "showgrid": true,
            "tickcolor": "rgb(51,51,51)",
            "ticks": "outside"
           },
           "baxis": {
            "gridcolor": "white",
            "linecolor": "white",
            "showgrid": true,
            "tickcolor": "rgb(51,51,51)",
            "ticks": "outside"
           },
           "bgcolor": "rgb(237,237,237)",
           "caxis": {
            "gridcolor": "white",
            "linecolor": "white",
            "showgrid": true,
            "tickcolor": "rgb(51,51,51)",
            "ticks": "outside"
           }
          },
          "xaxis": {
           "automargin": true,
           "gridcolor": "white",
           "linecolor": "white",
           "showgrid": true,
           "tickcolor": "rgb(51,51,51)",
           "ticks": "outside",
           "title": {
            "standoff": 15
           },
           "zerolinecolor": "white"
          },
          "yaxis": {
           "automargin": true,
           "gridcolor": "white",
           "linecolor": "white",
           "showgrid": true,
           "tickcolor": "rgb(51,51,51)",
           "ticks": "outside",
           "title": {
            "standoff": 15
           },
           "zerolinecolor": "white"
          }
         }
        },
        "width": 1200,
        "xaxis": {
         "anchor": "y",
         "domain": [
          0,
          1
         ],
         "ticktext": [
          "6",
          "7",
          "8",
          "9",
          "10",
          "11",
          "12",
          "13",
          "14",
          "15",
          "16"
         ],
         "tickvals": [
          "2024-10-06T00:00:00",
          "2024-10-13T00:00:00",
          "2024-10-20T00:00:00",
          "2024-10-27T00:00:00",
          "2024-11-03T00:00:00",
          "2024-11-10T00:00:00",
          "2024-11-17T00:00:00",
          "2024-11-24T00:00:00",
          "2024-12-01T00:00:00",
          "2024-12-08T00:00:00",
          "2024-12-15T00:00:00"
         ],
         "title": {
          "text": "Week number"
         }
        },
        "yaxis": {
         "anchor": "x",
         "domain": [
          0,
          1
         ],
         "range": [
          -74.4,
          1562.4
         ],
         "title": {
          "text": "Page views"
         }
        }
       }
      }
     },
     "metadata": {},
     "output_type": "display_data"
    }
   ],
   "source": [
    "for class_ in ['sta', 'sol', 'dyn']:\n",
    "    init = dt.datetime(year=2024, month=10, day=6)\n",
    "\n",
    "    fig = px.line(class_data, x=class_data.index, y=class_,)\n",
    "    fig.update_layout(\n",
    "    shapes=[\n",
    "    dict(\n",
    "        type=\"rect\",\n",
    "        xref=\"x\",\n",
    "        yref=\"y\",\n",
    "        x0=init+dt.timedelta(weeks=7),\n",
    "        y0=\"-1000\",\n",
    "        x1=init+dt.timedelta(weeks=8),\n",
    "        y1=\"2000\",\n",
    "        fillcolor=\"#aaaaaa\",\n",
    "        opacity=0.4,\n",
    "        line_width=0,\n",
    "        layer=\"below\"\n",
    "    )\n",
    "    ],\n",
    "    font=dict(\n",
    "        size=18,  # Set the font size here\n",
    "    )\n",
    "    )   \n",
    "\n",
    "    fig.add_annotation(\n",
    "        x=init+dt.timedelta(weeks=7, days=3.5), y=class_data[class_].max()*.85,\n",
    "        text=\"Fall break\",\n",
    "        showarrow=False\n",
    "    )\n",
    "\n",
    "    for week in range(10):\n",
    "        if class_ == \"sol\" and week in [0, 2, 4]:\n",
    "            fig.add_vline(x=init+dt.timedelta(weeks=week, days=3.5), **style)\n",
    "            fig.add_vline(x=init+dt.timedelta(weeks=week, days=6.5), **style)\n",
    "        if (class_ == 'sol' or class_ =='sta') and week == 6:\n",
    "            fig.add_vline(x=init+dt.timedelta(weeks=week, days=2.5), **style)\n",
    "            fig.add_vline(x=init+dt.timedelta(weeks=week, days=5.5), **style)\n",
    "        if (class_ == 'sol' or class_ =='dyn') and week == 9:\n",
    "            fig.add_vline(x=init+dt.timedelta(weeks=week, days=3.5), **dict(line_width=3, line_dash=\"dash\", line_color='blue', opacity=1))\n",
    "            fig.add_vline(x=init+dt.timedelta(weeks=week, days=8.5), **dict(line_width=3, line_dash=\"dash\", line_color='blue', opacity=1))\n",
    "        if class_ =='sta' and week == 9:\n",
    "            fig.add_vline(x=init+dt.timedelta(weeks=week, days=.5), **style)\n",
    "            fig.add_vline(x=init+dt.timedelta(weeks=week, days=3.5), **style)\n",
    "        if class_ == \"sta\" and week in [0, 2, 5]:\n",
    "            if week ==5:\n",
    "                fig.add_vline(x=init+dt.timedelta(weeks=week, days=2.5), **dict(line_width=3, line_dash=\"dash\", line_color='blue', opacity=1))\n",
    "                fig.add_vline(x=init+dt.timedelta(weeks=week, days=5.5), **dict(line_width=3, line_dash=\"dash\", line_color='blue', opacity=1))\n",
    "            else:\n",
    "                fig.add_vline(x=init+dt.timedelta(weeks=week, days=2.5), **style)\n",
    "                fig.add_vline(x=init+dt.timedelta(weeks=week, days=5.5), **style)\n",
    "        if class_ == \"dyn\" and week in [1, 3, 5, 8]:\n",
    "            fig.add_vline(x=init+dt.timedelta(weeks=week, days=1.5), **style)\n",
    "            fig.add_vline(x=init+dt.timedelta(weeks=week, days=4.5), **style)\n",
    "        \n",
    "    fancy_name = \"Dynamics\" if class_ == 'dyn' else ('Solid Mechanics' if class_ == 'sol' else 'Statics')\n",
    "    fig.update_traces(line_color=blue)\n",
    "    \n",
    "    tickvals = days[0]\n",
    "    ticktext = [str(i+6) for i in range(len(tickvals))]\n",
    "\n",
    "    fig.update_layout(\n",
    "        xaxis=dict(title=\"Week number\", tickvals=tickvals, ticktext=ticktext),\n",
    "        yaxis=dict(title=\"Page views\", range=[-class_data[class_].max()*.05, class_data[class_].max()*1.05]),\n",
    "        height=500, \n",
    "        width=1200,\n",
    "        margin=dict(l=40, r=20, t=20, b=40),\n",
    "    )\n",
    "\n",
    "\n",
    "\n",
    "    \n",
    "\n",
    "    #fig.update_layout(xaxis_title=None)\n",
    "\n",
    "    fig.write_image(f\"./plots/{class_}_total.png\", scale=3)\n",
    "    fig.show()"
   ]
  },
  {
   "cell_type": "code",
   "execution_count": 32,
   "metadata": {},
   "outputs": [
    {
     "name": "stdout",
     "output_type": "stream",
     "text": [
      "Statics & 451.2 & 256.0 & 2.276 & 0.01342 \\\\\n",
      "Dynamics & 321.5 & 162.2 & 3.209 & 0.00112 \\\\\n",
      "Solid Mechanics & 293.0 & 175.2 & 2.845 & 0.00313 \\\\\n"
     ]
    }
   ],
   "source": [
    "import scipy.stats as stats\n",
    " \n",
    "for i, class_ in enumerate(['sta', 'dyn', 'sol']):\n",
    "    fancy_name = \"Dynamics\" if class_ == 'dyn' else ('Solid Mechanics' if class_ == 'sol' else 'Statics')\n",
    "    quiz = daily_quiz[class_]\n",
    "    noquiz = daily_noquiz[class_]\n",
    "    \n",
    "    t, p = stats.ttest_ind(quiz, noquiz, alternative='greater')\n",
    "    print(f\"{fancy_name} & {round(np.mean(quiz), 1)} & {round(np.mean(noquiz), 1)} & {round(t, 3)} & {round(p, 5)} \\\\\\\\\")"
   ]
  },
  {
   "cell_type": "code",
   "execution_count": 33,
   "metadata": {},
   "outputs": [
    {
     "name": "stdout",
     "output_type": "stream",
     "text": [
      "Statics\n",
      "TtestResult(statistic=3.3083974527590927, pvalue=0.0015988597618013076, df=22.0)\n",
      "Dynamics\n",
      "TtestResult(statistic=3.964318730561231, pvalue=0.00032896568505439577, df=22.0)\n",
      "Solid Mechanics\n",
      "TtestResult(statistic=2.7314914868131837, pvalue=0.006092296013438889, df=22.0)\n"
     ]
    }
   ],
   "source": [
    "for i, class_ in enumerate(['sta', 'dyn', 'sol']):\n",
    "    fancy_name = \"Dynamics\" if class_ == 'dyn' else ('Solid Mechanics' if class_ == 'sol' else 'Statics')\n",
    "    quiz_week = daily_quiz[class_]\n",
    "    noquiz_week = daily_noquiz[class_]\n",
    "\n",
    "    start = {\n",
    "        'sta': 3,\n",
    "        'dyn': 2,\n",
    "        'sol': 4\n",
    "    }\n",
    "\n",
    "    q = []\n",
    "    nq = []\n",
    "\n",
    "    for w in range(4):\n",
    "        for d in range(3):\n",
    "            q += [quiz_week[7*w+start[class_]+d]]\n",
    "            nq += [noquiz_week[7*w+start[class_]+d]]\n",
    "\n",
    "    print(fancy_name)\n",
    "    print(stats.ttest_ind(q, nq, alternative='greater'))"
   ]
  },
  {
   "cell_type": "code",
   "execution_count": null,
   "metadata": {},
   "outputs": [],
   "source": [
    "print()"
   ]
  },
  {
   "cell_type": "code",
   "execution_count": null,
   "metadata": {},
   "outputs": [],
   "source": []
  }
 ],
 "metadata": {
  "kernelspec": {
   "display_name": "Python 3",
   "language": "python",
   "name": "python3"
  },
  "language_info": {
   "codemirror_mode": {
    "name": "ipython",
    "version": 3
   },
   "file_extension": ".py",
   "mimetype": "text/x-python",
   "name": "python",
   "nbconvert_exporter": "python",
   "pygments_lexer": "ipython3",
   "version": "3.11.9"
  }
 },
 "nbformat": 4,
 "nbformat_minor": 2
}
