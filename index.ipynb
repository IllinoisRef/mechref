{
 "cells": [
  {
   "cell_type": "code",
   "execution_count": 1,
   "metadata": {},
   "outputs": [],
   "source": [
    "import os\n",
    "import json"
   ]
  },
  {
   "cell_type": "code",
   "execution_count": 6,
   "metadata": {},
   "outputs": [],
   "source": [
    "allowed_courses = ['sta', 'sol', 'dyn']\n",
    "\n",
    "coursetags = {\n",
    "    'sta': 'Statics',\n",
    "    'dyn': 'Dynamics',\n",
    "    'sol': 'Solid Mechanics'\n",
    "}\n",
    "\n",
    "page_list = []\n",
    "\n",
    "for course in allowed_courses:\n",
    "    dir = f'./src/pages/{course}'\n",
    "\n",
    "    pages = []\n",
    "\n",
    "    if os.path.exists(dir):\n",
    "        files = os.listdir(dir)\n",
    "        \n",
    "        for file in files:\n",
    "            pages.append({\n",
    "                'id': file.replace('.astro', ''),\n",
    "                'name': file.replace('.astro', '').replace('_', ' ').title()\n",
    "            })\n",
    "        \n",
    "    page_list.append([coursetags[course], pages])\n"
   ]
  },
  {
   "cell_type": "code",
   "execution_count": 9,
   "metadata": {},
   "outputs": [],
   "source": [
    "json.dump(page_list, open('./public/classes.json', 'w'), indent=2)"
   ]
  },
  {
   "cell_type": "code",
   "execution_count": null,
   "metadata": {},
   "outputs": [],
   "source": []
  }
 ],
 "metadata": {
  "kernelspec": {
   "display_name": "Python 3",
   "language": "python",
   "name": "python3"
  },
  "language_info": {
   "codemirror_mode": {
    "name": "ipython",
    "version": 3
   },
   "file_extension": ".py",
   "mimetype": "text/x-python",
   "name": "python",
   "nbconvert_exporter": "python",
   "pygments_lexer": "ipython3",
   "version": "3.11.9"
  }
 },
 "nbformat": 4,
 "nbformat_minor": 2
}
